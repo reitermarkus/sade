{
 "cells": [
  {
   "cell_type": "markdown",
   "metadata": {},
   "source": [
    "# Study Design"
   ]
  },
  {
   "cell_type": "markdown",
   "metadata": {},
   "source": [
    "## Goals and Requirements\n",
    "\n",
    "Our goal is to analyze the coherence between programming languages and the commenting behavior of the programmers. Required are all the information of the repositories and its contributors.\n",
    "\n",
    "## Study Questions\n",
    "\n",
    "- Which programming language is commented the most?\n",
    "- Is there a difference between two interpreted languages like Ruby and Python?\n",
    "- Is there a difference between system-level languages like C, C++ and Rust?\n",
    "\n",
    "## Research Method and Strategy\n",
    "\n",
    "We will first use the GitHub API in order to find the relevant repositories and then fetch the source code and analyze the comments in the source files.\n",
    "\n",
    "We define all languages we want to analyze with their respective extensions so we can iterate through them."
   ]
  },
  {
   "cell_type": "code",
   "execution_count": null,
   "metadata": {
    "scrolled": false
   },
   "outputs": [],
   "source": [
    "from languages import LANGUAGES\n",
    "import json\n",
    "print(json.dumps(LANGUAGES, indent = 2))"
   ]
  },
  {
   "cell_type": "markdown",
   "metadata": {},
   "source": [
    "For counting lines of code and comments we will use `pygount`, which uses the `pygments` syntax highligher parser to count lines of code, blank lines and comments."
   ]
  },
  {
   "cell_type": "code",
   "execution_count": null,
   "metadata": {},
   "outputs": [],
   "source": [
    "import pygount"
   ]
  },
  {
   "cell_type": "code",
   "execution_count": null,
   "metadata": {},
   "outputs": [],
   "source": [
    "analysis = pygount.source_analysis('test.rb', 'ruby')\n",
    "analysis"
   ]
  }
 ],
 "metadata": {
  "kernelspec": {
   "display_name": "Python 3",
   "language": "python",
   "name": "python3"
  },
  "language_info": {
   "codemirror_mode": {
    "name": "ipython",
    "version": 3
   },
   "file_extension": ".py",
   "mimetype": "text/x-python",
   "name": "python",
   "nbconvert_exporter": "python",
   "pygments_lexer": "ipython3",
   "version": "3.7.0"
  }
 },
 "nbformat": 4,
 "nbformat_minor": 2
}
