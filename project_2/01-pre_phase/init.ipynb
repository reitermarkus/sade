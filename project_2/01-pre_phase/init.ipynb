{
 "cells": [
  {
   "cell_type": "markdown",
   "metadata": {
    "slideshow": {
     "slide_type": "slide"
    }
   },
   "source": [
    "# Topic 1: Key Strokes\n",
    "\n",
    "## Pre Phase\n",
    "\n",
    "### Experiment Scoping\n",
    "\n",
    "#### Goal\n",
    "\n",
    "The object of the study is to analyze the typing behaviour of the participants during DSL programming.\n",
    "\n",
    "The intention here is to evaluate the differences between internal and external DSLs, with respect to user satisfaction, user experience and efficiency.\n",
    "\n",
    "The study is conducted from the point of view of a programmer in the context programming with a DSL.\n",
    "\n",
    "\n",
    "### Experiment Planning\n",
    "\n",
    "#### Context Selection\n",
    "\n",
    "The experiment will be conducted offline in order to reduce the interference factor. All participants are considered students, not professionals. They will be asked to solve toy problems in two specific contexts using two specific DSLs.\n",
    "\n",
    "#### Hypothesis Formulation\n",
    "\n",
    "An external DSL is more efficient to use and more user friendly than an internal DSL.\n",
    "\n",
    "#### Variables Selection\n",
    "\n",
    "- How often was the <kbd>⌫</kbd> or <kbd>⌦</kbd> key pressed?\n",
    "- How often was the <kbd>⇥</kbd> key pressed?\n",
    "\n",
    "#### Selection of Subjects\n",
    "\n",
    "Convenience sampling will be used to select the subject for the study, that is all students from the “Software and Data Engineering” course.\n",
    "\n",
    "#### Design\n",
    "\n",
    "- The experimentation consists of two groups (A/B) of participants.\n",
    "- The participants will be randomly split into these two groups.\n",
    "- In order to categorize them, they are asked about their demography.\n",
    "- Both groups are asked to program using an internal and an external DSL:\n",
    "  - Group A will use an internal DSL to create questionnaires and an external DSL to create student calendars.\n",
    "  - Group B will use an external DSL to create questionnaires and an internal DSL to create student calendars.\n",
    "  \n",
    "### Validity Evaluation\n",
    "\n",
    "The results of the experiment are not valid for the general public, but only for computer science students.\n",
    "  \n",
    "### Experiment Operation\n",
    "\n",
    "The experiment operation consists of three steps:\n",
    "\n",
    "#### Preparation\n",
    "\n",
    "The participants must be informed about the intention of the experiment. Therefore they are given a data collection form and informed about the use of the collected data. They have to agree to the research objectives, otherwise it is not possible to be involved at the experiment.\n",
    "\n",
    "#### Execution\n",
    "\n",
    "In this step the participants start with the experimentation. They will be always informed what about the current task is. If anyone does not understand the task, then there will be an experimenter to ask.\n",
    "\n",
    "#### Data Validation\n",
    "\n",
    "After the experiment is finished, the collected data of each participant will be stored in a separate json file. "
   ]
  }
 ],
 "metadata": {
  "kernelspec": {
   "display_name": "Python 3",
   "language": "python",
   "name": "python3"
  },
  "language_info": {
   "codemirror_mode": {
    "name": "ipython",
    "version": 3
   },
   "file_extension": ".py",
   "mimetype": "text/x-python",
   "name": "python",
   "nbconvert_exporter": "python",
   "pygments_lexer": "ipython3",
   "version": "3.7.1"
  }
 },
 "nbformat": 4,
 "nbformat_minor": 2
}
