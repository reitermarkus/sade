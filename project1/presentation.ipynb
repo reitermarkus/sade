{
 "cells": [
  {
   "cell_type": "code",
   "execution_count": 1,
   "metadata": {
    "slideshow": {
     "slide_type": "skip"
    }
   },
   "outputs": [
    {
     "data": {
      "text/html": [
       "<script>requirejs.config({paths: { 'plotly': ['https://cdn.plot.ly/plotly-latest.min']},});if(!window.Plotly) {{require(['plotly'],function(plotly) {window.Plotly=plotly;});}}</script>"
      ],
      "text/vnd.plotly.v1+html": [
       "<script>requirejs.config({paths: { 'plotly': ['https://cdn.plot.ly/plotly-latest.min']},});if(!window.Plotly) {{require(['plotly'],function(plotly) {window.Plotly=plotly;});}}</script>"
      ]
     },
     "metadata": {},
     "output_type": "display_data"
    }
   ],
   "source": [
    "from presentation_data import *\n",
    "from plotly.offline import init_notebook_mode, iplot\n",
    "init_notebook_mode(connected = True)"
   ]
  },
  {
   "cell_type": "markdown",
   "metadata": {
    "slideshow": {
     "slide_type": "slide"
    }
   },
   "source": [
    "## Study Design"
   ]
  },
  {
   "cell_type": "markdown",
   "metadata": {
    "slideshow": {
     "slide_type": "slide"
    }
   },
   "source": [
    "### Goals and Requirements\n",
    "\n",
    "Our goal is to analyze the coherence between programming languages and the commenting behavior of the programmers. Required are all the information of the repositories and its contributors.\n",
    "\n",
    "## Study Questions\n",
    "\n",
    "- Which programming language is commented the most?\n",
    "- Is there a difference between interpreted languages like Ruby and Python?\n",
    "- Is there a difference between system-level languages like C, C++ and Rust?\n",
    "- Is there a difference between JVM languages like Java and Kotlin?\n",
    "- Is there a difference between functional languages like Haskell and OCaml?\n",
    "\n",
    "## Research Method and Strategy\n",
    "\n",
    "We will first use the GitHub API in order to find the most starred repositories per language and then fetch the source code and analyze the comments in the source files.\n",
    "\n",
    "We define all languages we want to analyze with their respective extensions so we can iterate through them."
   ]
  },
  {
   "cell_type": "markdown",
   "metadata": {
    "slideshow": {
     "slide_type": "slide"
    }
   },
   "source": [
    "## Data\n",
    "\n",
    "- first all the repositories were downloaded via the GitHub-API\n",
    "- then all the needed files have been analyzed using **pygount**\n",
    "- the results of the analysis were stored in a json file"
   ]
  },
  {
   "cell_type": "markdown",
   "metadata": {},
   "source": [
    "### JSON converted to DataFrame"
   ]
  },
  {
   "cell_type": "code",
   "execution_count": 2,
   "metadata": {
    "slideshow": {
     "slide_type": "subslide"
    }
   },
   "outputs": [],
   "source": [
    "analysis_df.drop(['default_branch', 'name', 'owner'], axis = 1, inplace = True)\n",
    "analysis_df = analysis_df[['stars', 'forks', 'empty', 'code', 'language', 'documentation']]"
   ]
  },
  {
   "cell_type": "code",
   "execution_count": 3,
   "metadata": {},
   "outputs": [],
   "source": [
    "language_values = {\n",
    "  'python':  1,\n",
    "  'ruby' :   2,\n",
    "  'c':       3,\n",
    "  'c++':     4,\n",
    "  'rust':    5,\n",
    "  'java':    6,\n",
    "  'kotlin':  7,\n",
    "  'ocaml':   8,\n",
    "  'haskell': 9,\n",
    "}"
   ]
  },
  {
   "cell_type": "code",
   "execution_count": 4,
   "metadata": {},
   "outputs": [
    {
     "data": {
      "text/html": [
       "<div>\n",
       "<style scoped>\n",
       "    .dataframe tbody tr th:only-of-type {\n",
       "        vertical-align: middle;\n",
       "    }\n",
       "\n",
       "    .dataframe tbody tr th {\n",
       "        vertical-align: top;\n",
       "    }\n",
       "\n",
       "    .dataframe thead th {\n",
       "        text-align: right;\n",
       "    }\n",
       "</style>\n",
       "<table border=\"1\" class=\"dataframe\">\n",
       "  <thead>\n",
       "    <tr style=\"text-align: right;\">\n",
       "      <th></th>\n",
       "      <th>stars</th>\n",
       "      <th>forks</th>\n",
       "      <th>empty</th>\n",
       "      <th>code</th>\n",
       "      <th>language</th>\n",
       "      <th>documentation</th>\n",
       "    </tr>\n",
       "  </thead>\n",
       "  <tbody>\n",
       "    <tr>\n",
       "      <th>0</th>\n",
       "      <td>2406</td>\n",
       "      <td>413</td>\n",
       "      <td>2457</td>\n",
       "      <td>5244</td>\n",
       "      <td>6</td>\n",
       "      <td>68</td>\n",
       "    </tr>\n",
       "    <tr>\n",
       "      <th>1</th>\n",
       "      <td>2356</td>\n",
       "      <td>360</td>\n",
       "      <td>3906</td>\n",
       "      <td>9239</td>\n",
       "      <td>3</td>\n",
       "      <td>3827</td>\n",
       "    </tr>\n",
       "    <tr>\n",
       "      <th>2</th>\n",
       "      <td>419</td>\n",
       "      <td>12</td>\n",
       "      <td>2986</td>\n",
       "      <td>5853</td>\n",
       "      <td>5</td>\n",
       "      <td>859</td>\n",
       "    </tr>\n",
       "    <tr>\n",
       "      <th>3</th>\n",
       "      <td>79</td>\n",
       "      <td>12</td>\n",
       "      <td>310</td>\n",
       "      <td>732</td>\n",
       "      <td>7</td>\n",
       "      <td>26</td>\n",
       "    </tr>\n",
       "    <tr>\n",
       "      <th>4</th>\n",
       "      <td>2764</td>\n",
       "      <td>379</td>\n",
       "      <td>2406</td>\n",
       "      <td>15861</td>\n",
       "      <td>3</td>\n",
       "      <td>2461</td>\n",
       "    </tr>\n",
       "  </tbody>\n",
       "</table>\n",
       "</div>"
      ],
      "text/plain": [
       "   stars  forks  empty   code  language  documentation\n",
       "0   2406    413   2457   5244         6             68\n",
       "1   2356    360   3906   9239         3           3827\n",
       "2    419     12   2986   5853         5            859\n",
       "3     79     12    310    732         7             26\n",
       "4   2764    379   2406  15861         3           2461"
      ]
     },
     "execution_count": 4,
     "metadata": {},
     "output_type": "execute_result"
    }
   ],
   "source": [
    "for i in language_values: \n",
    "  analysis_df.replace(i, language_values[i], inplace = True)\n",
    "\n",
    "# Shuffle data.\n",
    "analysis_df = analysis_df.sample(frac = 1).reset_index(drop = True)\n",
    "\n",
    "analysis_df.head()"
   ]
  },
  {
   "cell_type": "code",
   "execution_count": 5,
   "metadata": {
    "scrolled": true
   },
   "outputs": [],
   "source": [
    "from sklearn import tree\n",
    "from sklearn.model_selection import train_test_split\n",
    "from sklearn.metrics import accuracy_score\n",
    "from sklearn.metrics import confusion_matrix\n",
    "\n",
    "dataset = analysis_df.values\n",
    "shape = dataset.shape\n",
    "\n",
    "data = dataset[:, :-1]\n",
    "target = dataset[:, -1]\n",
    "training_data, test_data, training_target, test_target = train_test_split(data, target, test_size = 0.25)\n",
    "\n",
    "clf = tree.DecisionTreeClassifier().fit(training_data, training_target)\n",
    "\n",
    "prediction = clf.predict(test_data)\n",
    "\n",
    "total = len(test_data)"
   ]
  },
  {
   "cell_type": "code",
   "execution_count": 6,
   "metadata": {},
   "outputs": [
    {
     "name": "stdout",
     "output_type": "stream",
     "text": [
      "Number of incorrect predictions out of 2250: 801 (35.6%)\n",
      "Maximum difference between target and prediction: 3177274\n"
     ]
    }
   ],
   "source": [
    "# We define predictions which are within 1000 lines as correct.\n",
    "incorrect = (np.absolute(test_target - prediction) > 1000).sum()\n",
    "\n",
    "print('Number of incorrect predictions out of %d: %d (%.1f%%)' % (\n",
    "  total,\n",
    "  incorrect,\n",
    "  incorrect / total * 100.0,\n",
    "))\n",
    "\n",
    "min_difference = np.absolute(test_target - prediction).min()\n",
    "max_difference = np.absolute(test_target - prediction).max()\n",
    "\n",
    "print(f'Maximum difference between target and prediction: {max_difference}')"
   ]
  },
  {
   "cell_type": "markdown",
   "metadata": {},
   "source": [
    "## Study Questions"
   ]
  },
  {
   "cell_type": "markdown",
   "metadata": {
    "slideshow": {
     "slide_type": "slide"
    }
   },
   "source": [
    "### Which programming language is commented the most ? "
   ]
  },
  {
   "cell_type": "code",
   "execution_count": 7,
   "metadata": {
    "scrolled": false
   },
   "outputs": [
    {
     "data": {
      "application/vnd.plotly.v1+json": {
       "data": [
        {
         "type": "bar",
         "uid": "fb19bfe8-eda1-11e8-a05e-a434d9b4fdf2",
         "x": [
          "c",
          "c++",
          "java",
          "python",
          "ruby",
          "ocaml",
          "haskell",
          "rust",
          "kotlin"
         ],
         "y": [
          0.34117179779986906,
          0.2582206550602396,
          0.3171101966546323,
          0.19704222421673637,
          0.19007575022183237,
          0.18184054994364707,
          0.26556673845761003,
          0.09236023290094031,
          0.1820444671430241
         ]
        }
       ],
       "layout": {
        "bargap": 0.1,
        "barmode": "group",
        "font": {
         "family": "Helvetica",
         "size": 16
        },
        "showlegend": false,
        "title": "Percent of Comments per Language",
        "yaxis": {
         "range": [
          0,
          0.35
         ],
         "tickformat": ",.0%"
        }
       }
      },
      "text/html": [
       "<div id=\"78fd0f31-d51c-4e9f-a8a4-f0d5c8de6692\" style=\"height: 525px; width: 100%;\" class=\"plotly-graph-div\"></div><script type=\"text/javascript\">require([\"plotly\"], function(Plotly) { window.PLOTLYENV=window.PLOTLYENV || {};window.PLOTLYENV.BASE_URL=\"https://plot.ly\";Plotly.newPlot(\"78fd0f31-d51c-4e9f-a8a4-f0d5c8de6692\", [{\"x\": [\"c\", \"c++\", \"java\", \"python\", \"ruby\", \"ocaml\", \"haskell\", \"rust\", \"kotlin\"], \"y\": [0.34117179779986906, 0.2582206550602396, 0.3171101966546323, 0.19704222421673637, 0.19007575022183237, 0.18184054994364707, 0.26556673845761003, 0.09236023290094031, 0.1820444671430241], \"type\": \"bar\", \"uid\": \"fb19bfe8-eda1-11e8-a05e-a434d9b4fdf2\"}], {\"bargap\": 0.1, \"barmode\": \"group\", \"font\": {\"family\": \"Helvetica\", \"size\": 16}, \"showlegend\": false, \"title\": \"Percent of Comments per Language\", \"yaxis\": {\"range\": [0, 0.35], \"tickformat\": \",.0%\"}}, {\"showLink\": true, \"linkText\": \"Export to plot.ly\"})});</script>"
      ],
      "text/vnd.plotly.v1+html": [
       "<div id=\"78fd0f31-d51c-4e9f-a8a4-f0d5c8de6692\" style=\"height: 525px; width: 100%;\" class=\"plotly-graph-div\"></div><script type=\"text/javascript\">require([\"plotly\"], function(Plotly) { window.PLOTLYENV=window.PLOTLYENV || {};window.PLOTLYENV.BASE_URL=\"https://plot.ly\";Plotly.newPlot(\"78fd0f31-d51c-4e9f-a8a4-f0d5c8de6692\", [{\"x\": [\"c\", \"c++\", \"java\", \"python\", \"ruby\", \"ocaml\", \"haskell\", \"rust\", \"kotlin\"], \"y\": [0.34117179779986906, 0.2582206550602396, 0.3171101966546323, 0.19704222421673637, 0.19007575022183237, 0.18184054994364707, 0.26556673845761003, 0.09236023290094031, 0.1820444671430241], \"type\": \"bar\", \"uid\": \"fb19bfe8-eda1-11e8-a05e-a434d9b4fdf2\"}], {\"bargap\": 0.1, \"barmode\": \"group\", \"font\": {\"family\": \"Helvetica\", \"size\": 16}, \"showlegend\": false, \"title\": \"Percent of Comments per Language\", \"yaxis\": {\"range\": [0, 0.35], \"tickformat\": \",.0%\"}}, {\"showLink\": true, \"linkText\": \"Export to plot.ly\"})});</script>"
      ]
     },
     "metadata": {},
     "output_type": "display_data"
    }
   ],
   "source": [
    "iplot(fig_all_comments)"
   ]
  },
  {
   "cell_type": "markdown",
   "metadata": {
    "slideshow": {
     "slide_type": "slide"
    }
   },
   "source": [
    "### Different between Interpreted Languages "
   ]
  },
  {
   "cell_type": "code",
   "execution_count": 8,
   "metadata": {},
   "outputs": [
    {
     "data": {
      "application/vnd.plotly.v1+json": {
       "data": [
        {
         "text": "Code",
         "textposition": "auto",
         "type": "bar",
         "uid": "fb516538-eda1-11e8-a05e-a434d9b4fdf2",
         "x": [
          "python",
          "ruby"
         ],
         "y": [
          0.8029577757832637,
          0.8099242497781677
         ]
        },
        {
         "text": "Comments",
         "textposition": "auto",
         "type": "bar",
         "uid": "fb516b32-eda1-11e8-a05e-a434d9b4fdf2",
         "x": [
          "python",
          "ruby"
         ],
         "y": [
          0.19704222421673637,
          0.19007575022183237
         ]
        }
       ],
       "layout": {
        "bargap": 0.1,
        "barmode": "group",
        "font": {
         "family": "Helvetica",
         "size": 16
        },
        "showlegend": false,
        "title": "Python  vs.  Ruby",
        "yaxis": {
         "range": [
          0,
          1
         ],
         "tickformat": ",.0%"
        }
       }
      },
      "text/html": [
       "<div id=\"cfa5cdc5-e2c1-4f16-8510-262e47dabc21\" style=\"height: 525px; width: 100%;\" class=\"plotly-graph-div\"></div><script type=\"text/javascript\">require([\"plotly\"], function(Plotly) { window.PLOTLYENV=window.PLOTLYENV || {};window.PLOTLYENV.BASE_URL=\"https://plot.ly\";Plotly.newPlot(\"cfa5cdc5-e2c1-4f16-8510-262e47dabc21\", [{\"text\": \"Code\", \"textposition\": \"auto\", \"x\": [\"python\", \"ruby\"], \"y\": [0.8029577757832637, 0.8099242497781677], \"type\": \"bar\", \"uid\": \"fb516538-eda1-11e8-a05e-a434d9b4fdf2\"}, {\"text\": \"Comments\", \"textposition\": \"auto\", \"x\": [\"python\", \"ruby\"], \"y\": [0.19704222421673637, 0.19007575022183237], \"type\": \"bar\", \"uid\": \"fb516b32-eda1-11e8-a05e-a434d9b4fdf2\"}], {\"bargap\": 0.1, \"barmode\": \"group\", \"font\": {\"family\": \"Helvetica\", \"size\": 16}, \"showlegend\": false, \"title\": \"Python  vs.  Ruby\", \"yaxis\": {\"range\": [0, 1], \"tickformat\": \",.0%\"}}, {\"showLink\": true, \"linkText\": \"Export to plot.ly\"})});</script>"
      ],
      "text/vnd.plotly.v1+html": [
       "<div id=\"cfa5cdc5-e2c1-4f16-8510-262e47dabc21\" style=\"height: 525px; width: 100%;\" class=\"plotly-graph-div\"></div><script type=\"text/javascript\">require([\"plotly\"], function(Plotly) { window.PLOTLYENV=window.PLOTLYENV || {};window.PLOTLYENV.BASE_URL=\"https://plot.ly\";Plotly.newPlot(\"cfa5cdc5-e2c1-4f16-8510-262e47dabc21\", [{\"text\": \"Code\", \"textposition\": \"auto\", \"x\": [\"python\", \"ruby\"], \"y\": [0.8029577757832637, 0.8099242497781677], \"type\": \"bar\", \"uid\": \"fb516538-eda1-11e8-a05e-a434d9b4fdf2\"}, {\"text\": \"Comments\", \"textposition\": \"auto\", \"x\": [\"python\", \"ruby\"], \"y\": [0.19704222421673637, 0.19007575022183237], \"type\": \"bar\", \"uid\": \"fb516b32-eda1-11e8-a05e-a434d9b4fdf2\"}], {\"bargap\": 0.1, \"barmode\": \"group\", \"font\": {\"family\": \"Helvetica\", \"size\": 16}, \"showlegend\": false, \"title\": \"Python  vs.  Ruby\", \"yaxis\": {\"range\": [0, 1], \"tickformat\": \",.0%\"}}, {\"showLink\": true, \"linkText\": \"Export to plot.ly\"})});</script>"
      ]
     },
     "metadata": {},
     "output_type": "display_data"
    }
   ],
   "source": [
    "iplot(fig_interpreted)"
   ]
  },
  {
   "cell_type": "markdown",
   "metadata": {
    "slideshow": {
     "slide_type": "slide"
    }
   },
   "source": [
    "### Different between System Languages "
   ]
  },
  {
   "cell_type": "code",
   "execution_count": 9,
   "metadata": {},
   "outputs": [
    {
     "data": {
      "application/vnd.plotly.v1+json": {
       "data": [
        {
         "text": "Code",
         "textposition": "auto",
         "type": "bar",
         "uid": "fb59f78e-eda1-11e8-a05e-a434d9b4fdf2",
         "x": [
          "c",
          "c++",
          "rust"
         ],
         "y": [
          0.6588282022001309,
          0.7417793449397604,
          0.9076397670990597
         ]
        },
        {
         "text": "Comments",
         "textposition": "auto",
         "type": "bar",
         "uid": "fb59fa72-eda1-11e8-a05e-a434d9b4fdf2",
         "x": [
          "c",
          "c++",
          "rust"
         ],
         "y": [
          0.34117179779986906,
          0.2582206550602396,
          0.09236023290094031
         ]
        }
       ],
       "layout": {
        "bargap": 0.1,
        "barmode": "group",
        "font": {
         "family": "Helvetica",
         "size": 16
        },
        "showlegend": false,
        "title": "C  vs.  C++  vs.  Rust",
        "yaxis": {
         "range": [
          0,
          1
         ],
         "tickformat": ",.0%"
        }
       }
      },
      "text/html": [
       "<div id=\"cf76c5c2-35b6-455a-b4ff-10c27d19c496\" style=\"height: 525px; width: 100%;\" class=\"plotly-graph-div\"></div><script type=\"text/javascript\">require([\"plotly\"], function(Plotly) { window.PLOTLYENV=window.PLOTLYENV || {};window.PLOTLYENV.BASE_URL=\"https://plot.ly\";Plotly.newPlot(\"cf76c5c2-35b6-455a-b4ff-10c27d19c496\", [{\"text\": \"Code\", \"textposition\": \"auto\", \"x\": [\"c\", \"c++\", \"rust\"], \"y\": [0.6588282022001309, 0.7417793449397604, 0.9076397670990597], \"type\": \"bar\", \"uid\": \"fb59f78e-eda1-11e8-a05e-a434d9b4fdf2\"}, {\"text\": \"Comments\", \"textposition\": \"auto\", \"x\": [\"c\", \"c++\", \"rust\"], \"y\": [0.34117179779986906, 0.2582206550602396, 0.09236023290094031], \"type\": \"bar\", \"uid\": \"fb59fa72-eda1-11e8-a05e-a434d9b4fdf2\"}], {\"bargap\": 0.1, \"barmode\": \"group\", \"font\": {\"family\": \"Helvetica\", \"size\": 16}, \"showlegend\": false, \"title\": \"C  vs.  C++  vs.  Rust\", \"yaxis\": {\"range\": [0, 1], \"tickformat\": \",.0%\"}}, {\"showLink\": true, \"linkText\": \"Export to plot.ly\"})});</script>"
      ],
      "text/vnd.plotly.v1+html": [
       "<div id=\"cf76c5c2-35b6-455a-b4ff-10c27d19c496\" style=\"height: 525px; width: 100%;\" class=\"plotly-graph-div\"></div><script type=\"text/javascript\">require([\"plotly\"], function(Plotly) { window.PLOTLYENV=window.PLOTLYENV || {};window.PLOTLYENV.BASE_URL=\"https://plot.ly\";Plotly.newPlot(\"cf76c5c2-35b6-455a-b4ff-10c27d19c496\", [{\"text\": \"Code\", \"textposition\": \"auto\", \"x\": [\"c\", \"c++\", \"rust\"], \"y\": [0.6588282022001309, 0.7417793449397604, 0.9076397670990597], \"type\": \"bar\", \"uid\": \"fb59f78e-eda1-11e8-a05e-a434d9b4fdf2\"}, {\"text\": \"Comments\", \"textposition\": \"auto\", \"x\": [\"c\", \"c++\", \"rust\"], \"y\": [0.34117179779986906, 0.2582206550602396, 0.09236023290094031], \"type\": \"bar\", \"uid\": \"fb59fa72-eda1-11e8-a05e-a434d9b4fdf2\"}], {\"bargap\": 0.1, \"barmode\": \"group\", \"font\": {\"family\": \"Helvetica\", \"size\": 16}, \"showlegend\": false, \"title\": \"C  vs.  C++  vs.  Rust\", \"yaxis\": {\"range\": [0, 1], \"tickformat\": \",.0%\"}}, {\"showLink\": true, \"linkText\": \"Export to plot.ly\"})});</script>"
      ]
     },
     "metadata": {},
     "output_type": "display_data"
    }
   ],
   "source": [
    "iplot(fig_system)"
   ]
  },
  {
   "cell_type": "markdown",
   "metadata": {
    "slideshow": {
     "slide_type": "slide"
    }
   },
   "source": [
    "### Different between JVM Languages "
   ]
  },
  {
   "cell_type": "code",
   "execution_count": 10,
   "metadata": {},
   "outputs": [
    {
     "data": {
      "application/vnd.plotly.v1+json": {
       "data": [
        {
         "text": "Code",
         "textposition": "auto",
         "type": "bar",
         "uid": "fb61bce4-eda1-11e8-a05e-a434d9b4fdf2",
         "x": [
          "java",
          "kotlin"
         ],
         "y": [
          0.6828898033453676,
          0.8179555328569759
         ]
        },
        {
         "text": "Comments",
         "textposition": "auto",
         "type": "bar",
         "uid": "fb61bfe6-eda1-11e8-a05e-a434d9b4fdf2",
         "x": [
          "java",
          "kotlin"
         ],
         "y": [
          0.3171101966546323,
          0.1820444671430241
         ]
        }
       ],
       "layout": {
        "bargap": 0.1,
        "barmode": "group",
        "font": {
         "family": "Helvetica",
         "size": 16
        },
        "showlegend": false,
        "title": "Java  vs.  Kotlin",
        "yaxis": {
         "range": [
          0,
          1
         ],
         "tickformat": ",.0%"
        }
       }
      },
      "text/html": [
       "<div id=\"d2d92fd0-381d-4426-9b0a-b854e677ced7\" style=\"height: 525px; width: 100%;\" class=\"plotly-graph-div\"></div><script type=\"text/javascript\">require([\"plotly\"], function(Plotly) { window.PLOTLYENV=window.PLOTLYENV || {};window.PLOTLYENV.BASE_URL=\"https://plot.ly\";Plotly.newPlot(\"d2d92fd0-381d-4426-9b0a-b854e677ced7\", [{\"text\": \"Code\", \"textposition\": \"auto\", \"x\": [\"java\", \"kotlin\"], \"y\": [0.6828898033453676, 0.8179555328569759], \"type\": \"bar\", \"uid\": \"fb61bce4-eda1-11e8-a05e-a434d9b4fdf2\"}, {\"text\": \"Comments\", \"textposition\": \"auto\", \"x\": [\"java\", \"kotlin\"], \"y\": [0.3171101966546323, 0.1820444671430241], \"type\": \"bar\", \"uid\": \"fb61bfe6-eda1-11e8-a05e-a434d9b4fdf2\"}], {\"bargap\": 0.1, \"barmode\": \"group\", \"font\": {\"family\": \"Helvetica\", \"size\": 16}, \"showlegend\": false, \"title\": \"Java  vs.  Kotlin\", \"yaxis\": {\"range\": [0, 1], \"tickformat\": \",.0%\"}}, {\"showLink\": true, \"linkText\": \"Export to plot.ly\"})});</script>"
      ],
      "text/vnd.plotly.v1+html": [
       "<div id=\"d2d92fd0-381d-4426-9b0a-b854e677ced7\" style=\"height: 525px; width: 100%;\" class=\"plotly-graph-div\"></div><script type=\"text/javascript\">require([\"plotly\"], function(Plotly) { window.PLOTLYENV=window.PLOTLYENV || {};window.PLOTLYENV.BASE_URL=\"https://plot.ly\";Plotly.newPlot(\"d2d92fd0-381d-4426-9b0a-b854e677ced7\", [{\"text\": \"Code\", \"textposition\": \"auto\", \"x\": [\"java\", \"kotlin\"], \"y\": [0.6828898033453676, 0.8179555328569759], \"type\": \"bar\", \"uid\": \"fb61bce4-eda1-11e8-a05e-a434d9b4fdf2\"}, {\"text\": \"Comments\", \"textposition\": \"auto\", \"x\": [\"java\", \"kotlin\"], \"y\": [0.3171101966546323, 0.1820444671430241], \"type\": \"bar\", \"uid\": \"fb61bfe6-eda1-11e8-a05e-a434d9b4fdf2\"}], {\"bargap\": 0.1, \"barmode\": \"group\", \"font\": {\"family\": \"Helvetica\", \"size\": 16}, \"showlegend\": false, \"title\": \"Java  vs.  Kotlin\", \"yaxis\": {\"range\": [0, 1], \"tickformat\": \",.0%\"}}, {\"showLink\": true, \"linkText\": \"Export to plot.ly\"})});</script>"
      ]
     },
     "metadata": {},
     "output_type": "display_data"
    }
   ],
   "source": [
    "iplot(fig_jvm)"
   ]
  },
  {
   "cell_type": "markdown",
   "metadata": {
    "slideshow": {
     "slide_type": "slide"
    }
   },
   "source": [
    "### Different between functional languages "
   ]
  },
  {
   "cell_type": "code",
   "execution_count": 11,
   "metadata": {},
   "outputs": [
    {
     "data": {
      "application/vnd.plotly.v1+json": {
       "data": [
        {
         "text": "Code",
         "textposition": "auto",
         "type": "bar",
         "uid": "fb694874-eda1-11e8-a05e-a434d9b4fdf2",
         "x": [
          "ocaml",
          "haskell"
         ],
         "y": [
          0.8181594500563529,
          0.73443326154239
         ]
        },
        {
         "text": "Comments",
         "textposition": "auto",
         "type": "bar",
         "uid": "fb694ebe-eda1-11e8-a05e-a434d9b4fdf2",
         "x": [
          "ocaml",
          "haskell"
         ],
         "y": [
          0.18184054994364707,
          0.26556673845761003
         ]
        }
       ],
       "layout": {
        "bargap": 0.1,
        "barmode": "group",
        "font": {
         "family": "Helvetica",
         "size": 16
        },
        "showlegend": false,
        "title": "Ocaml  vs.  Haskell",
        "yaxis": {
         "range": [
          0,
          1
         ],
         "tickformat": ",.0%"
        }
       }
      },
      "text/html": [
       "<div id=\"a29caed8-851b-44d6-a22f-8bb52e386708\" style=\"height: 525px; width: 100%;\" class=\"plotly-graph-div\"></div><script type=\"text/javascript\">require([\"plotly\"], function(Plotly) { window.PLOTLYENV=window.PLOTLYENV || {};window.PLOTLYENV.BASE_URL=\"https://plot.ly\";Plotly.newPlot(\"a29caed8-851b-44d6-a22f-8bb52e386708\", [{\"text\": \"Code\", \"textposition\": \"auto\", \"x\": [\"ocaml\", \"haskell\"], \"y\": [0.8181594500563529, 0.73443326154239], \"type\": \"bar\", \"uid\": \"fb694874-eda1-11e8-a05e-a434d9b4fdf2\"}, {\"text\": \"Comments\", \"textposition\": \"auto\", \"x\": [\"ocaml\", \"haskell\"], \"y\": [0.18184054994364707, 0.26556673845761003], \"type\": \"bar\", \"uid\": \"fb694ebe-eda1-11e8-a05e-a434d9b4fdf2\"}], {\"bargap\": 0.1, \"barmode\": \"group\", \"font\": {\"family\": \"Helvetica\", \"size\": 16}, \"showlegend\": false, \"title\": \"Ocaml  vs.  Haskell\", \"yaxis\": {\"range\": [0, 1], \"tickformat\": \",.0%\"}}, {\"showLink\": true, \"linkText\": \"Export to plot.ly\"})});</script>"
      ],
      "text/vnd.plotly.v1+html": [
       "<div id=\"a29caed8-851b-44d6-a22f-8bb52e386708\" style=\"height: 525px; width: 100%;\" class=\"plotly-graph-div\"></div><script type=\"text/javascript\">require([\"plotly\"], function(Plotly) { window.PLOTLYENV=window.PLOTLYENV || {};window.PLOTLYENV.BASE_URL=\"https://plot.ly\";Plotly.newPlot(\"a29caed8-851b-44d6-a22f-8bb52e386708\", [{\"text\": \"Code\", \"textposition\": \"auto\", \"x\": [\"ocaml\", \"haskell\"], \"y\": [0.8181594500563529, 0.73443326154239], \"type\": \"bar\", \"uid\": \"fb694874-eda1-11e8-a05e-a434d9b4fdf2\"}, {\"text\": \"Comments\", \"textposition\": \"auto\", \"x\": [\"ocaml\", \"haskell\"], \"y\": [0.18184054994364707, 0.26556673845761003], \"type\": \"bar\", \"uid\": \"fb694ebe-eda1-11e8-a05e-a434d9b4fdf2\"}], {\"bargap\": 0.1, \"barmode\": \"group\", \"font\": {\"family\": \"Helvetica\", \"size\": 16}, \"showlegend\": false, \"title\": \"Ocaml  vs.  Haskell\", \"yaxis\": {\"range\": [0, 1], \"tickformat\": \",.0%\"}}, {\"showLink\": true, \"linkText\": \"Export to plot.ly\"})});</script>"
      ]
     },
     "metadata": {},
     "output_type": "display_data"
    }
   ],
   "source": [
    "iplot(fig_functional)"
   ]
  },
  {
   "cell_type": "markdown",
   "metadata": {},
   "source": [
    "### Summary"
   ]
  },
  {
   "cell_type": "code",
   "execution_count": 12,
   "metadata": {},
   "outputs": [
    {
     "data": {
      "application/vnd.plotly.v1+json": {
       "data": [
        {
         "domain": {
          "x": [
           0,
           0.48
          ],
          "y": [
           0.51,
           1
          ]
         },
         "hole": 0.25,
         "hoverinfo": "label+percent+name",
         "labels": [
          "python",
          "ruby"
         ],
         "marker": {
          "colors": [
           "rgb(106, 154, 232)",
           "rgb(106, 232, 164)"
          ]
         },
         "name": "Interpreted",
         "type": "pie",
         "uid": "002ef886-eda2-11e8-a05e-a434d9b4fdf2",
         "values": [
          0.6848081157241318,
          0.3151918842758682
         ]
        },
        {
         "domain": {
          "x": [
           0.5,
           1
          ],
          "y": [
           0,
           0.49
          ]
         },
         "hole": 0.25,
         "hoverinfo": "label+percent+name",
         "labels": [
          "c",
          "c++",
          "rust"
         ],
         "marker": {
          "colors": [
           "rgb(242, 96, 196)",
           "rgb(95, 241, 103)",
           "rgb(239, 186, 79)"
          ]
         },
         "name": "System Level",
         "type": "pie",
         "uid": "002efbc4-eda2-11e8-a05e-a434d9b4fdf2",
         "values": [
          0.7393994330611823,
          0.25316575915827044,
          0.0074348077805472266
         ]
        },
        {
         "domain": {
          "x": [
           0.5,
           1
          ],
          "y": [
           0.51,
           1
          ]
         },
         "hole": 0.25,
         "hoverinfo": "label+percent+name",
         "labels": [
          "java",
          "kotlin"
         ],
         "marker": {
          "colors": [
           "rgb(247, 131, 123)",
           "rgb(165, 247, 243)"
          ]
         },
         "name": "JVM",
         "type": "pie",
         "uid": "002efdf4-eda2-11e8-a05e-a434d9b4fdf2",
         "values": [
          0.9572969097856755,
          0.042703090214324495
         ]
        },
        {
         "domain": {
          "x": [
           0,
           0.48
          ],
          "y": [
           0,
           0.49
          ]
         },
         "hole": 0.25,
         "hoverinfo": "label+percent+name",
         "labels": [
          "ocaml",
          "haskell"
         ],
         "marker": {
          "colors": [
           "rgb(167, 31, 209)",
           "rgb(129, 180, 179)"
          ]
         },
         "name": "Functional",
         "type": "pie",
         "uid": "002f0038-eda2-11e8-a05e-a434d9b4fdf2",
         "values": [
          0.5205288359516598,
          0.47947116404834017
         ]
        }
       ],
       "layout": {
        "annotations": [
         {
          "showarrow": false,
          "text": "JVM",
          "x": 0.82,
          "y": 1.1
         },
         {
          "showarrow": false,
          "text": "Functional",
          "x": 0.18,
          "y": -0.1
         },
         {
          "showarrow": false,
          "text": "Interpreted",
          "x": 0.2,
          "y": 1.1
         },
         {
          "showarrow": false,
          "text": "System Level",
          "x": 0.84,
          "y": -0.1
         }
        ],
        "font": {
         "family": "Helvetica",
         "size": 14
        },
        "title": "<b>Summary<b>"
       }
      },
      "text/html": [
       "<div id=\"c9529fb0-4080-4350-a481-a3dfa7e22fc9\" style=\"height: 525px; width: 100%;\" class=\"plotly-graph-div\"></div><script type=\"text/javascript\">require([\"plotly\"], function(Plotly) { window.PLOTLYENV=window.PLOTLYENV || {};window.PLOTLYENV.BASE_URL=\"https://plot.ly\";Plotly.newPlot(\"c9529fb0-4080-4350-a481-a3dfa7e22fc9\", [{\"domain\": {\"x\": [0, 0.48], \"y\": [0.51, 1]}, \"hole\": 0.25, \"hoverinfo\": \"label+percent+name\", \"labels\": [\"python\", \"ruby\"], \"marker\": {\"colors\": [\"rgb(106, 154, 232)\", \"rgb(106, 232, 164)\"]}, \"name\": \"Interpreted\", \"values\": [0.6848081157241318, 0.3151918842758682], \"type\": \"pie\", \"uid\": \"003cafbc-eda2-11e8-a05e-a434d9b4fdf2\"}, {\"domain\": {\"x\": [0.5, 1], \"y\": [0, 0.49]}, \"hole\": 0.25, \"hoverinfo\": \"label+percent+name\", \"labels\": [\"c\", \"c++\", \"rust\"], \"marker\": {\"colors\": [\"rgb(242, 96, 196)\", \"rgb(95, 241, 103)\", \"rgb(239, 186, 79)\"]}, \"name\": \"System Level\", \"values\": [0.7393994330611823, 0.25316575915827044, 0.0074348077805472266], \"type\": \"pie\", \"uid\": \"003cbc46-eda2-11e8-a05e-a434d9b4fdf2\"}, {\"domain\": {\"x\": [0.5, 1], \"y\": [0.51, 1]}, \"hole\": 0.25, \"hoverinfo\": \"label+percent+name\", \"labels\": [\"java\", \"kotlin\"], \"marker\": {\"colors\": [\"rgb(247, 131, 123)\", \"rgb(165, 247, 243)\"]}, \"name\": \"JVM\", \"values\": [0.9572969097856755, 0.042703090214324495], \"type\": \"pie\", \"uid\": \"003cc34e-eda2-11e8-a05e-a434d9b4fdf2\"}, {\"domain\": {\"x\": [0, 0.48], \"y\": [0, 0.49]}, \"hole\": 0.25, \"hoverinfo\": \"label+percent+name\", \"labels\": [\"ocaml\", \"haskell\"], \"marker\": {\"colors\": [\"rgb(167, 31, 209)\", \"rgb(129, 180, 179)\"]}, \"name\": \"Functional\", \"values\": [0.5205288359516598, 0.47947116404834017], \"type\": \"pie\", \"uid\": \"003cc7a4-eda2-11e8-a05e-a434d9b4fdf2\"}], {\"annotations\": [{\"showarrow\": false, \"text\": \"JVM\", \"x\": 0.82, \"y\": 1.1}, {\"showarrow\": false, \"text\": \"Functional\", \"x\": 0.18, \"y\": -0.1}, {\"showarrow\": false, \"text\": \"Interpreted\", \"x\": 0.2, \"y\": 1.1}, {\"showarrow\": false, \"text\": \"System Level\", \"x\": 0.84, \"y\": -0.1}], \"font\": {\"family\": \"Helvetica\", \"size\": 14}, \"title\": \"<b>Summary<b>\"}, {\"showLink\": true, \"linkText\": \"Export to plot.ly\"})});</script>"
      ],
      "text/vnd.plotly.v1+html": [
       "<div id=\"c9529fb0-4080-4350-a481-a3dfa7e22fc9\" style=\"height: 525px; width: 100%;\" class=\"plotly-graph-div\"></div><script type=\"text/javascript\">require([\"plotly\"], function(Plotly) { window.PLOTLYENV=window.PLOTLYENV || {};window.PLOTLYENV.BASE_URL=\"https://plot.ly\";Plotly.newPlot(\"c9529fb0-4080-4350-a481-a3dfa7e22fc9\", [{\"domain\": {\"x\": [0, 0.48], \"y\": [0.51, 1]}, \"hole\": 0.25, \"hoverinfo\": \"label+percent+name\", \"labels\": [\"python\", \"ruby\"], \"marker\": {\"colors\": [\"rgb(106, 154, 232)\", \"rgb(106, 232, 164)\"]}, \"name\": \"Interpreted\", \"values\": [0.6848081157241318, 0.3151918842758682], \"type\": \"pie\", \"uid\": \"003cafbc-eda2-11e8-a05e-a434d9b4fdf2\"}, {\"domain\": {\"x\": [0.5, 1], \"y\": [0, 0.49]}, \"hole\": 0.25, \"hoverinfo\": \"label+percent+name\", \"labels\": [\"c\", \"c++\", \"rust\"], \"marker\": {\"colors\": [\"rgb(242, 96, 196)\", \"rgb(95, 241, 103)\", \"rgb(239, 186, 79)\"]}, \"name\": \"System Level\", \"values\": [0.7393994330611823, 0.25316575915827044, 0.0074348077805472266], \"type\": \"pie\", \"uid\": \"003cbc46-eda2-11e8-a05e-a434d9b4fdf2\"}, {\"domain\": {\"x\": [0.5, 1], \"y\": [0.51, 1]}, \"hole\": 0.25, \"hoverinfo\": \"label+percent+name\", \"labels\": [\"java\", \"kotlin\"], \"marker\": {\"colors\": [\"rgb(247, 131, 123)\", \"rgb(165, 247, 243)\"]}, \"name\": \"JVM\", \"values\": [0.9572969097856755, 0.042703090214324495], \"type\": \"pie\", \"uid\": \"003cc34e-eda2-11e8-a05e-a434d9b4fdf2\"}, {\"domain\": {\"x\": [0, 0.48], \"y\": [0, 0.49]}, \"hole\": 0.25, \"hoverinfo\": \"label+percent+name\", \"labels\": [\"ocaml\", \"haskell\"], \"marker\": {\"colors\": [\"rgb(167, 31, 209)\", \"rgb(129, 180, 179)\"]}, \"name\": \"Functional\", \"values\": [0.5205288359516598, 0.47947116404834017], \"type\": \"pie\", \"uid\": \"003cc7a4-eda2-11e8-a05e-a434d9b4fdf2\"}], {\"annotations\": [{\"showarrow\": false, \"text\": \"JVM\", \"x\": 0.82, \"y\": 1.1}, {\"showarrow\": false, \"text\": \"Functional\", \"x\": 0.18, \"y\": -0.1}, {\"showarrow\": false, \"text\": \"Interpreted\", \"x\": 0.2, \"y\": 1.1}, {\"showarrow\": false, \"text\": \"System Level\", \"x\": 0.84, \"y\": -0.1}], \"font\": {\"family\": \"Helvetica\", \"size\": 14}, \"title\": \"<b>Summary<b>\"}, {\"showLink\": true, \"linkText\": \"Export to plot.ly\"})});</script>"
      ]
     },
     "metadata": {},
     "output_type": "display_data"
    }
   ],
   "source": [
    "iplot(summary_pie)"
   ]
  }
 ],
 "metadata": {
  "kernelspec": {
   "display_name": "Python 3",
   "language": "python",
   "name": "python3"
  },
  "language_info": {
   "codemirror_mode": {
    "name": "ipython",
    "version": 3
   },
   "file_extension": ".py",
   "mimetype": "text/x-python",
   "name": "python",
   "nbconvert_exporter": "python",
   "pygments_lexer": "ipython3",
   "version": "3.7.1"
  }
 },
 "nbformat": 4,
 "nbformat_minor": 2
}
