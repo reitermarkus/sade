{
 "cells": [
  {
   "cell_type": "code",
   "execution_count": null,
   "metadata": {},
   "outputs": [],
   "source": [
    "from stackapi import StackAPI\n",
    "from datetime import datetime\n",
    "import json\n",
    "import os\n",
    "\n",
    "so = StackAPI('stackoverflow', key = 'b3CE9L60r9Vim73thcwinQ((')\n",
    "comments = so.fetch('comments')"
   ]
  },
  {
   "cell_type": "markdown",
   "metadata": {},
   "source": [
    "1. Fetch data from the stackoverflow Site based on the following query and parameters:"
   ]
  },
  {
   "cell_type": "code",
   "execution_count": null,
   "metadata": {},
   "outputs": [],
   "source": [
    "def fetch_questions(tag):\n",
    "  page = 1\n",
    "  has_more = True\n",
    "  \n",
    "  items = []\n",
    "  \n",
    "  while has_more:\n",
    "    response = so.fetch(\n",
    "      'questions',\n",
    "      min = 10,\n",
    "      sort = 'votes', \n",
    "      fromdate = datetime(2018, 1, 1),\n",
    "      todate = datetime(2018, 12, 31),\n",
    "      tagged = tag,\n",
    "      page = page,\n",
    "      pagesize = 100,\n",
    "    )\n",
    "    \n",
    "    page = response['page']\n",
    "    has_more = response['has_more']\n",
    "    \n",
    "    items.extend(response['items'])\n",
    "    \n",
    "  return items"
   ]
  },
  {
   "cell_type": "code",
   "execution_count": null,
   "metadata": {},
   "outputs": [],
   "source": [
    "python_questions = fetch_questions('Python')\n",
    "cpp_questions = fetch_questions('C++')"
   ]
  },
  {
   "cell_type": "markdown",
   "metadata": {},
   "source": [
    "2. Save the questions in json-format into two files (e.g. python_questions_2018.json,\n",
    "cpp_questions_2018.json) and place them into the data folder"
   ]
  },
  {
   "cell_type": "code",
   "execution_count": null,
   "metadata": {
    "scrolled": true
   },
   "outputs": [],
   "source": [
    "if not os.path.isdir('data'): os.mkdir('data')\n",
    "\n",
    "with open('data/python_questions_2018.json', 'w') as f:\n",
    "  json.dump(python_questions, f)\n",
    "\n",
    "with open('data/cpp_questions_2018.json', 'w') as f:\n",
    "  json.dump(cpp_questions, f)"
   ]
  }
 ],
 "metadata": {
  "kernelspec": {
   "display_name": "Python 3",
   "language": "python",
   "name": "python3"
  },
  "language_info": {
   "codemirror_mode": {
    "name": "ipython",
    "version": 3
   },
   "file_extension": ".py",
   "mimetype": "text/x-python",
   "name": "python",
   "nbconvert_exporter": "python",
   "pygments_lexer": "ipython3",
   "version": "3.7.0"
  }
 },
 "nbformat": 4,
 "nbformat_minor": 2
}
