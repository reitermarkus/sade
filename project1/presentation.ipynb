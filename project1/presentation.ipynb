{
 "cells": [
  {
   "cell_type": "code",
   "execution_count": 1,
   "metadata": {},
   "outputs": [],
   "source": [
    "import pandas as pd\n",
    "import json\n",
    "import os"
   ]
  },
  {
   "cell_type": "code",
   "execution_count": 2,
   "metadata": {},
   "outputs": [
    {
     "data": {
      "text/html": [
       "<script>requirejs.config({paths: { 'plotly': ['https://cdn.plot.ly/plotly-latest.min']},});if(!window.Plotly) {{require(['plotly'],function(plotly) {window.Plotly=plotly;});}}</script>"
      ],
      "text/vnd.plotly.v1+html": [
       "<script>requirejs.config({paths: { 'plotly': ['https://cdn.plot.ly/plotly-latest.min']},});if(!window.Plotly) {{require(['plotly'],function(plotly) {window.Plotly=plotly;});}}</script>"
      ]
     },
     "metadata": {},
     "output_type": "display_data"
    }
   ],
   "source": [
    "from plotly import graph_objs as go\n",
    "from plotly.offline import init_notebook_mode, iplot\n",
    "init_notebook_mode(connected=True)"
   ]
  },
  {
   "cell_type": "code",
   "execution_count": 3,
   "metadata": {},
   "outputs": [],
   "source": [
    "JSON_DIR = 'data/repos/analysis/'\n",
    "filenames = os.listdir(JSON_DIR)\n",
    "analysis = []\n",
    "\n",
    "for filename in filenames:\n",
    "  with open(f'{JSON_DIR}/{filename}', 'r', encoding = 'utf-8') as f:\n",
    "    analysis.extend(json.load(f))"
   ]
  },
  {
   "cell_type": "code",
   "execution_count": 4,
   "metadata": {},
   "outputs": [
    {
     "data": {
      "text/html": [
       "<div>\n",
       "<style scoped>\n",
       "    .dataframe tbody tr th:only-of-type {\n",
       "        vertical-align: middle;\n",
       "    }\n",
       "\n",
       "    .dataframe tbody tr th {\n",
       "        vertical-align: top;\n",
       "    }\n",
       "\n",
       "    .dataframe thead th {\n",
       "        text-align: right;\n",
       "    }\n",
       "</style>\n",
       "<table border=\"1\" class=\"dataframe\">\n",
       "  <thead>\n",
       "    <tr style=\"text-align: right;\">\n",
       "      <th></th>\n",
       "      <th>code</th>\n",
       "      <th>default_branch</th>\n",
       "      <th>documentation</th>\n",
       "      <th>empty</th>\n",
       "      <th>forks</th>\n",
       "      <th>language</th>\n",
       "      <th>name</th>\n",
       "      <th>owner</th>\n",
       "      <th>stars</th>\n",
       "    </tr>\n",
       "  </thead>\n",
       "  <tbody>\n",
       "    <tr>\n",
       "      <th>0</th>\n",
       "      <td>57929</td>\n",
       "      <td>master</td>\n",
       "      <td>9336</td>\n",
       "      <td>7329</td>\n",
       "      <td>1534</td>\n",
       "      <td>haskell</td>\n",
       "      <td>pandoc</td>\n",
       "      <td>jgm</td>\n",
       "      <td>13495</td>\n",
       "    </tr>\n",
       "    <tr>\n",
       "      <th>1</th>\n",
       "      <td>9222</td>\n",
       "      <td>master</td>\n",
       "      <td>632</td>\n",
       "      <td>1392</td>\n",
       "      <td>646</td>\n",
       "      <td>haskell</td>\n",
       "      <td>shellcheck</td>\n",
       "      <td>koalaman</td>\n",
       "      <td>12716</td>\n",
       "    </tr>\n",
       "    <tr>\n",
       "      <th>2</th>\n",
       "      <td>6722</td>\n",
       "      <td>master</td>\n",
       "      <td>502</td>\n",
       "      <td>1228</td>\n",
       "      <td>509</td>\n",
       "      <td>haskell</td>\n",
       "      <td>postgrest</td>\n",
       "      <td>PostgREST</td>\n",
       "      <td>11485</td>\n",
       "    </tr>\n",
       "    <tr>\n",
       "      <th>3</th>\n",
       "      <td>26870</td>\n",
       "      <td>master</td>\n",
       "      <td>4587</td>\n",
       "      <td>5081</td>\n",
       "      <td>391</td>\n",
       "      <td>haskell</td>\n",
       "      <td>purescript</td>\n",
       "      <td>purescript</td>\n",
       "      <td>5280</td>\n",
       "    </tr>\n",
       "    <tr>\n",
       "      <th>4</th>\n",
       "      <td>26930</td>\n",
       "      <td>master</td>\n",
       "      <td>1876</td>\n",
       "      <td>12200</td>\n",
       "      <td>390</td>\n",
       "      <td>haskell</td>\n",
       "      <td>compiler</td>\n",
       "      <td>elm</td>\n",
       "      <td>4848</td>\n",
       "    </tr>\n",
       "  </tbody>\n",
       "</table>\n",
       "</div>"
      ],
      "text/plain": [
       "    code default_branch  documentation  empty  forks language        name  \\\n",
       "0  57929         master           9336   7329   1534  haskell      pandoc   \n",
       "1   9222         master            632   1392    646  haskell  shellcheck   \n",
       "2   6722         master            502   1228    509  haskell   postgrest   \n",
       "3  26870         master           4587   5081    391  haskell  purescript   \n",
       "4  26930         master           1876  12200    390  haskell    compiler   \n",
       "\n",
       "        owner  stars  \n",
       "0         jgm  13495  \n",
       "1    koalaman  12716  \n",
       "2   PostgREST  11485  \n",
       "3  purescript   5280  \n",
       "4         elm   4848  "
      ]
     },
     "execution_count": 4,
     "metadata": {},
     "output_type": "execute_result"
    }
   ],
   "source": [
    "analysis_df = pd.DataFrame(data=analysis)\n",
    "analysis_df.head()"
   ]
  },
  {
   "cell_type": "code",
   "execution_count": 5,
   "metadata": {},
   "outputs": [
    {
     "data": {
      "text/html": [
       "<div>\n",
       "<style scoped>\n",
       "    .dataframe tbody tr th:only-of-type {\n",
       "        vertical-align: middle;\n",
       "    }\n",
       "\n",
       "    .dataframe tbody tr th {\n",
       "        vertical-align: top;\n",
       "    }\n",
       "\n",
       "    .dataframe thead th {\n",
       "        text-align: right;\n",
       "    }\n",
       "</style>\n",
       "<table border=\"1\" class=\"dataframe\">\n",
       "  <thead>\n",
       "    <tr style=\"text-align: right;\">\n",
       "      <th></th>\n",
       "      <th>language</th>\n",
       "      <th>documentation</th>\n",
       "    </tr>\n",
       "  </thead>\n",
       "  <tbody>\n",
       "    <tr>\n",
       "      <th>0</th>\n",
       "      <td>c</td>\n",
       "      <td>96405659</td>\n",
       "    </tr>\n",
       "    <tr>\n",
       "      <th>1</th>\n",
       "      <td>c++</td>\n",
       "      <td>33008697</td>\n",
       "    </tr>\n",
       "    <tr>\n",
       "      <th>3</th>\n",
       "      <td>java</td>\n",
       "      <td>20008658</td>\n",
       "    </tr>\n",
       "    <tr>\n",
       "      <th>6</th>\n",
       "      <td>python</td>\n",
       "      <td>7364182</td>\n",
       "    </tr>\n",
       "    <tr>\n",
       "      <th>7</th>\n",
       "      <td>ruby</td>\n",
       "      <td>3389461</td>\n",
       "    </tr>\n",
       "    <tr>\n",
       "      <th>5</th>\n",
       "      <td>ocaml</td>\n",
       "      <td>2928819</td>\n",
       "    </tr>\n",
       "    <tr>\n",
       "      <th>2</th>\n",
       "      <td>haskell</td>\n",
       "      <td>2697803</td>\n",
       "    </tr>\n",
       "    <tr>\n",
       "      <th>8</th>\n",
       "      <td>rust</td>\n",
       "      <td>969378</td>\n",
       "    </tr>\n",
       "    <tr>\n",
       "      <th>4</th>\n",
       "      <td>kotlin</td>\n",
       "      <td>892546</td>\n",
       "    </tr>\n",
       "  </tbody>\n",
       "</table>\n",
       "</div>"
      ],
      "text/plain": [
       "  language  documentation\n",
       "0        c       96405659\n",
       "1      c++       33008697\n",
       "3     java       20008658\n",
       "6   python        7364182\n",
       "7     ruby        3389461\n",
       "5    ocaml        2928819\n",
       "2  haskell        2697803\n",
       "8     rust         969378\n",
       "4   kotlin         892546"
      ]
     },
     "execution_count": 5,
     "metadata": {},
     "output_type": "execute_result"
    }
   ],
   "source": [
    "comments = analysis_df.groupby(['language']) \\\n",
    "  .agg({'documentation': 'sum'}) \\\n",
    "  .reset_index() \\\n",
    "  .sort_values(by='documentation', ascending=False)\n",
    "comments"
   ]
  },
  {
   "cell_type": "code",
   "execution_count": 6,
   "metadata": {},
   "outputs": [
    {
     "data": {
      "application/vnd.plotly.v1+json": {
       "data": [
        {
         "type": "bar",
         "uid": "79667778-e808-11e8-889f-68ecc5c29b8d",
         "x": [
          "c",
          "c++",
          "java",
          "python",
          "ruby",
          "ocaml",
          "haskell",
          "rust",
          "kotlin"
         ],
         "y": [
          96405659,
          33008697,
          20008658,
          7364182,
          3389461,
          2928819,
          2697803,
          969378,
          892546
         ]
        }
       ],
       "layout": {
        "bargap": 0.1,
        "title": "Comments of all languages",
        "xaxis": {
         "title": "Language"
        },
        "yaxis": {
         "title": "Count"
        }
       }
      },
      "text/html": [
       "<div id=\"7f062595-57c7-41b4-b57e-7207dab7588e\" style=\"height: 525px; width: 100%;\" class=\"plotly-graph-div\"></div><script type=\"text/javascript\">require([\"plotly\"], function(Plotly) { window.PLOTLYENV=window.PLOTLYENV || {};window.PLOTLYENV.BASE_URL=\"https://plot.ly\";Plotly.newPlot(\"7f062595-57c7-41b4-b57e-7207dab7588e\", [{\"x\": [\"c\", \"c++\", \"java\", \"python\", \"ruby\", \"ocaml\", \"haskell\", \"rust\", \"kotlin\"], \"y\": [96405659, 33008697, 20008658, 7364182, 3389461, 2928819, 2697803, 969378, 892546], \"type\": \"bar\", \"uid\": \"79667778-e808-11e8-889f-68ecc5c29b8d\"}], {\"bargap\": 0.1, \"title\": \"Comments of all languages\", \"xaxis\": {\"title\": \"Language\"}, \"yaxis\": {\"title\": \"Count\"}}, {\"showLink\": true, \"linkText\": \"Export to plot.ly\"})});</script>"
      ],
      "text/vnd.plotly.v1+html": [
       "<div id=\"7f062595-57c7-41b4-b57e-7207dab7588e\" style=\"height: 525px; width: 100%;\" class=\"plotly-graph-div\"></div><script type=\"text/javascript\">require([\"plotly\"], function(Plotly) { window.PLOTLYENV=window.PLOTLYENV || {};window.PLOTLYENV.BASE_URL=\"https://plot.ly\";Plotly.newPlot(\"7f062595-57c7-41b4-b57e-7207dab7588e\", [{\"x\": [\"c\", \"c++\", \"java\", \"python\", \"ruby\", \"ocaml\", \"haskell\", \"rust\", \"kotlin\"], \"y\": [96405659, 33008697, 20008658, 7364182, 3389461, 2928819, 2697803, 969378, 892546], \"type\": \"bar\", \"uid\": \"79667778-e808-11e8-889f-68ecc5c29b8d\"}], {\"bargap\": 0.1, \"title\": \"Comments of all languages\", \"xaxis\": {\"title\": \"Language\"}, \"yaxis\": {\"title\": \"Count\"}}, {\"showLink\": true, \"linkText\": \"Export to plot.ly\"})});</script>"
      ]
     },
     "metadata": {},
     "output_type": "display_data"
    }
   ],
   "source": [
    "trace = go.Bar(\n",
    "    x=comments['language'],\n",
    "    y=comments['documentation'],\n",
    ")\n",
    "\n",
    "layout = go.Layout(\n",
    "    title='Comments of all languages',\n",
    "    xaxis=dict(title='Language'),\n",
    "    yaxis=dict( title='Count'),\n",
    "    bargap=0.1\n",
    ")\n",
    "\n",
    "fig = go.Figure(data=[trace], layout=layout)\n",
    "\n",
    "iplot(fig, filename='lang_comment_count')"
   ]
  }
 ],
 "metadata": {
  "kernelspec": {
   "display_name": "Python 3",
   "language": "python",
   "name": "python3"
  },
  "language_info": {
   "codemirror_mode": {
    "name": "ipython",
    "version": 3
   },
   "file_extension": ".py",
   "mimetype": "text/x-python",
   "name": "python",
   "nbconvert_exporter": "python",
   "pygments_lexer": "ipython3",
   "version": "3.7.1"
  }
 },
 "nbformat": 4,
 "nbformat_minor": 2
}
