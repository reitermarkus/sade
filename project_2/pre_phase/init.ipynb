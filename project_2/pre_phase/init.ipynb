{
 "cells": [
  {
   "cell_type": "markdown",
   "metadata": {},
   "source": [
    "# Topic 1: Typing"
   ]
  },
  {
   "cell_type": "markdown",
   "metadata": {
    "slideshow": {
     "slide_type": "slide"
    }
   },
   "source": [
    "## <u>Pre Phase</u>"
   ]
  },
  {
   "cell_type": "markdown",
   "metadata": {
    "slideshow": {
     "slide_type": "slide"
    }
   },
   "source": [
    "### Goals\n",
    "- Study the typing behaviour of the users during DSL programming\n",
    "- Purpose:\n",
    "  - What are the differences between internal and external DSLs, in terms of user satisfaction and user experience\n",
    "- Quality focus:\n",
    "  - How often was the 'delete key' pressed ?\n",
    "  - Analyze the finish times for both internal and external DSL\n",
    "- Perspective:\n",
    "  - The study is conducted from the view of the respondents of a questionnaire\n",
    "- Context:\n",
    "  - The data, gathered from a digital questionnaire, was taken on 14. November 2018 in University of Innsbruck "
   ]
  },
  {
   "cell_type": "markdown",
   "metadata": {},
   "source": [
    "### Design\n",
    "- The experimentation consists of two groups of respondents (group A and group B)\n",
    "- In order to categorize them, they were asked first about their demography\n",
    "- Both groups worked with internal and external DSLs\n",
    "  - Task of group A was to edit and create a questionnare\n",
    "  - Task of group B was to edit and create a student calendar\n"
   ]
  }
 ],
 "metadata": {
  "kernelspec": {
   "display_name": "Python 3",
   "language": "python",
   "name": "python3"
  },
  "language_info": {
   "codemirror_mode": {
    "name": "ipython",
    "version": 3
   },
   "file_extension": ".py",
   "mimetype": "text/x-python",
   "name": "python",
   "nbconvert_exporter": "python",
   "pygments_lexer": "ipython3",
   "version": "3.7.1"
  }
 },
 "nbformat": 4,
 "nbformat_minor": 2
}
