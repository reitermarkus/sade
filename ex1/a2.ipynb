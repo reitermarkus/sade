{
 "cells": [
  {
   "cell_type": "code",
   "execution_count": 16,
   "metadata": {},
   "outputs": [],
   "source": [
    "import array\n",
    "import numpy as np\n",
    "import random\n",
    "import sys\n",
    "import time"
   ]
  },
  {
   "cell_type": "code",
   "execution_count": 17,
   "metadata": {},
   "outputs": [],
   "source": [
    "THE_BIG_N = 10_000_000\n",
    "N_TIMES = 10\n",
    "py_list = [1 for i in range(THE_BIG_N)]\n",
    "np_array = np.ones(THE_BIG_N)"
   ]
  },
  {
   "cell_type": "code",
   "execution_count": 18,
   "metadata": {},
   "outputs": [],
   "source": [
    "def py_list_access():\n",
    "  start = time.time()\n",
    "  for i in py_list:\n",
    "    k = i\n",
    "  return time.time()-start"
   ]
  },
  {
   "cell_type": "code",
   "execution_count": 19,
   "metadata": {},
   "outputs": [],
   "source": [
    "def np_array_access():\n",
    "  start = time.time()\n",
    "  for i in np_array:\n",
    "    k = i\n",
    "  return time.time()-start"
   ]
  },
  {
   "cell_type": "code",
   "execution_count": 21,
   "metadata": {},
   "outputs": [
    {
     "name": "stdout",
     "output_type": "stream",
     "text": [
      "Size of N: 10000000\n",
      "Repeat: 10 times\n",
      "\n",
      "Python list size: 280000000 bytes\n",
      "NumPy array size: 80000000 bytes\n",
      "\n",
      "Python list data access time: 0.0854 ms\n",
      "Numpy array data access time: 0.3602 ms\n"
     ]
    }
   ],
   "source": [
    "print('Size of N:', THE_BIG_N)\n",
    "print('Repeat: {} times\\n'.format(N_TIMES))\n",
    "print('Python list size: {} bytes'.format(sys.getsizeof(1) * len(py_list)))    # Size of one element 28 Bytes\n",
    "print('NumPy array size: {} bytes\\n'.format(np_array.itemsize * np_array.size))  # Size of one element 8 Bytes\n",
    "print('Python list data access time: {} ms'.format(round(np.mean([py_list_access() for i in range(N_TIMES)]), 4)))\n",
    "print('Numpy array data access time: {} ms'.format(round(np.mean([np_array_access() for i in range(N_TIMES)]), 4)))"
   ]
  },
  {
   "cell_type": "markdown",
   "metadata": {},
   "source": [
    "### 4) Explain the disparity in the performance.\n",
    "<p style=\"font-size: 11pt\">\n",
    "As we can see the consecutive data access in a pyhton list is faster than in a numpy array.\n",
    "The reason is, because a numpy array returns a 'numpy.int64' object if an element is accessed. \n",
    "This takes a bit more time, than an element access in a python list, which returns a pointer \n",
    "to the list element.</p>"
   ]
  },
  {
   "cell_type": "markdown",
   "metadata": {},
   "source": [
    "### 5) State reasonable use cases for each of the data types (list, numpy arrays)\n",
    "- \n",
    "<p style=\"font-size: 11pt\">\n",
    "If dealing with big data, then NumPy arrays are more memory efficient. For example one integer element in a\n",
    "NumPy array has a size of 8 Bytes (int64), while in python list it has 28 Bytes.<br>\n",
    "</p>\n",
    "- \n",
    "<p style=\"font-size: 11pt\">\n",
    "Using NumPy it is very easy to create arrays or matrices with different dimensions.\n",
    "If you want heterogeneity, elements with different types in an array, then you should use python lists.\n",
    "Otherwise use NumPy arrays.\n",
    "</p>"
   ]
  }
 ],
 "metadata": {
  "kernelspec": {
   "display_name": "Python 3",
   "language": "python",
   "name": "python3"
  },
  "language_info": {
   "codemirror_mode": {
    "name": "ipython",
    "version": 3
   },
   "file_extension": ".py",
   "mimetype": "text/x-python",
   "name": "python",
   "nbconvert_exporter": "python",
   "pygments_lexer": "ipython3",
   "version": "3.7.0"
  }
 },
 "nbformat": 4,
 "nbformat_minor": 2
}
