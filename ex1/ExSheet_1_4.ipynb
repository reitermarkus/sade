{
 "cells": [
  {
   "cell_type": "code",
   "execution_count": null,
   "metadata": {},
   "outputs": [],
   "source": [
    "from github import Github, GithubException, BadCredentialsException\n",
    "import json\n",
    "from datetime import datetime\n",
    "import time\n",
    "import os"
   ]
  },
  {
   "cell_type": "code",
   "execution_count": null,
   "metadata": {},
   "outputs": [],
   "source": [
    "access_token = os.environ['GITHUB_API_TOKEN']\n",
    "user = Github(access_token)"
   ]
  },
  {
   "cell_type": "code",
   "execution_count": null,
   "metadata": {},
   "outputs": [],
   "source": [
    "FILE_NAME = './data/repos.json'"
   ]
  },
  {
   "cell_type": "code",
   "execution_count": null,
   "metadata": {},
   "outputs": [],
   "source": [
    "def check_rate_limit():\n",
    "    rate_limit = user.get_rate_limit()\n",
    "    remaining = rate_limit.search.remaining\n",
    "\n",
    "    if remaining > 0:\n",
    "        return\n",
    "\n",
    "    reset_time = rate_limit.search.reset\n",
    "    now = datetime.utcnow()\n",
    "\n",
    "    if now < reset_time:\n",
    "        sleep_time = (reset_time - now).total_seconds()\n",
    "        print('Waiting %s seconds for rate limit reset.' % sleep_time)\n",
    "        time.sleep(sleep_time)"
   ]
  },
  {
   "cell_type": "code",
   "execution_count": null,
   "metadata": {},
   "outputs": [],
   "source": [
    "def repo_details(repo):\n",
    "    check_rate_limit()\n",
    "    \n",
    "    print('Getting details for repo %s …' % repo.full_name)\n",
    "    \n",
    "    return {\n",
    "        'name': repo.full_name,\n",
    "        'language': repo.language,\n",
    "        'created_at': repo.created_at.isoformat(),\n",
    "        'forks': repo.forks,\n",
    "        'size': repo.size,\n",
    "        'watchers': repo.watchers,\n",
    "        'url': repo.url,\n",
    "    }"
   ]
  },
  {
   "cell_type": "code",
   "execution_count": null,
   "metadata": {},
   "outputs": [],
   "source": [
    "def search(query, sort, order):\n",
    "    repos = user.search_repositories(query, sort, order, created = '>=2018-01-01')\n",
    "    return [repo_details(repo) for repo in repos]"
   ]
  },
  {
   "cell_type": "code",
   "execution_count": null,
   "metadata": {
    "scrolled": false
   },
   "outputs": [],
   "source": [
    "try:\n",
    "    start = time.time()\n",
    "    repos = search('gameoflife', 'stars', 'desc')\n",
    "    print('Searching %d repos took %f seconds.' % (len(repos), round(time.time() - start, 4)))\n",
    "    with open(FILE_NAME, 'w+', encoding = 'utf-8') as f:\n",
    "        json.dump(repos, f, sort_keys = True, indent = 2)\n",
    "        print('Results written into %s !' % FILE_NAME)\n",
    "except BadCredentialsException as e:\n",
    "    print(e)\n",
    "except GithubException as e:\n",
    "    print(e.message)"
   ]
  },
  {
   "cell_type": "code",
   "execution_count": null,
   "metadata": {},
   "outputs": [],
   "source": []
  }
 ],
 "metadata": {
  "kernelspec": {
   "display_name": "Python 3",
   "language": "python",
   "name": "python3"
  },
  "language_info": {
   "codemirror_mode": {
    "name": "ipython",
    "version": 3
   },
   "file_extension": ".py",
   "mimetype": "text/x-python",
   "name": "python",
   "nbconvert_exporter": "python",
   "pygments_lexer": "ipython3",
   "version": "3.7.0"
  }
 },
 "nbformat": 4,
 "nbformat_minor": 2
}
