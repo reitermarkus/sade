{
 "cells": [
  {
   "cell_type": "code",
   "execution_count": null,
   "metadata": {},
   "outputs": [],
   "source": [
    "import pandas as pd\n",
    "import numpy as np\n",
    "from plotly import graph_objs as go\n",
    "from plotly.offline import init_notebook_mode, iplot\n",
    "init_notebook_mode(connected = True)"
   ]
  },
  {
   "cell_type": "code",
   "execution_count": null,
   "metadata": {},
   "outputs": [],
   "source": [
    "df = pd.read_csv('data/netflix_shows.csv', encoding = 'ISO-8859-1')"
   ]
  },
  {
   "cell_type": "markdown",
   "metadata": {},
   "source": [
    "1. Create a histogram showing the frequency of shows based on the release year"
   ]
  },
  {
   "cell_type": "code",
   "execution_count": null,
   "metadata": {},
   "outputs": [],
   "source": [
    "hist = go.Histogram(\n",
    "  x = df['release year'],\n",
    "  xbins = dict(start = df['release year'].min(), end = df['release year'].max()),\n",
    "  cumulative = dict(enabled = True),\n",
    ")\n",
    "\n",
    "iplot({\n",
    "  'data': [trace],\n",
    "  'layout': {\n",
    "    'title': 'Frequency of Shows per Release Year',\n",
    "    'xaxis': {'title': 'Release year'},\n",
    "    'yaxis': {'title': 'Frequency'},\n",
    "    'bargap': .1,\n",
    "  },\n",
    "})"
   ]
  },
  {
   "cell_type": "markdown",
   "metadata": {},
   "source": [
    "2. Create boxplots for each year showing the user rating score"
   ]
  },
  {
   "cell_type": "code",
   "execution_count": null,
   "metadata": {},
   "outputs": [],
   "source": [
    "res = df.groupby(['release year', 'user rating score']).size().reset_index()\n",
    "\n",
    "data = go.Box(\n",
    "  x = res['release year'],\n",
    "  y = res['user rating score'],\n",
    "  name = 'user rating scores',\n",
    ")\n",
    "\n",
    "iplot({\n",
    "  'data': [data], \n",
    "  'layout': {'title': 'User Rating Score per Year'},\n",
    "})"
   ]
  },
  {
   "cell_type": "markdown",
   "metadata": {},
   "source": [
    "3. Create a pie chart for depicting the percental share of the rating attribute"
   ]
  },
  {
   "cell_type": "code",
   "execution_count": null,
   "metadata": {},
   "outputs": [],
   "source": [
    "iplot({\n",
    "  'data': [{\n",
    "    'values': df['rating'].value_counts(), \n",
    "    'labels': values.index,\n",
    "    'hoverinfo': 'label+percent',\n",
    "    'type': 'pie',\n",
    "  }],\n",
    "  'layout': {'title': 'Percental Share of Ratings'}\n",
    "})"
   ]
  }
 ],
 "metadata": {
  "kernelspec": {
   "display_name": "Python 3",
   "language": "python",
   "name": "python3"
  },
  "language_info": {
   "codemirror_mode": {
    "name": "ipython",
    "version": 3
   },
   "file_extension": ".py",
   "mimetype": "text/x-python",
   "name": "python",
   "nbconvert_exporter": "python",
   "pygments_lexer": "ipython3",
   "version": "3.7.0"
  }
 },
 "nbformat": 4,
 "nbformat_minor": 2
}
