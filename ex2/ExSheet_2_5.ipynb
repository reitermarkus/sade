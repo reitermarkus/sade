{
 "cells": [
  {
   "cell_type": "code",
   "execution_count": null,
   "metadata": {
    "scrolled": true
   },
   "outputs": [],
   "source": [
    "import pandas as pd\n",
    "import numpy as np\n",
    "import plotly.graph_objs as go\n",
    "from scipy import stats\n",
    "from plotly.offline import init_notebook_mode, iplot\n",
    "from datetime import datetime\n",
    "init_notebook_mode(connected = True)"
   ]
  },
  {
   "cell_type": "code",
   "execution_count": null,
   "metadata": {},
   "outputs": [],
   "source": [
    "def read_json(path):\n",
    "  data = pd.read_json(path)\n",
    "  data.creation_date = data.creation_date.apply(datetime.utcfromtimestamp)\n",
    "  return data"
   ]
  },
  {
   "cell_type": "code",
   "execution_count": null,
   "metadata": {},
   "outputs": [],
   "source": [
    "python_questions = read_json('data/python_questions_2018.json')\n",
    "python_questions['language'] = 'Python'\n",
    "\n",
    "cpp_questions = read_json('data/cpp_questions_2018.json')\n",
    "cpp_questions['language'] = 'C++'\n",
    "\n",
    "questions = pd.concat([python_questions, cpp_questions], sort = False)"
   ]
  },
  {
   "cell_type": "code",
   "execution_count": null,
   "metadata": {},
   "outputs": [],
   "source": [
    "p = questions.groupby(questions.language)\n",
    "data = [\n",
    "  go.Histogram(\n",
    "    x = p.get_group(language).creation_date,\n",
    "    name = language,\n",
    "    xbins = dict(\n",
    "      start = datetime(2018, 1, 1),\n",
    "      end = datetime(2018, 12, 31),\n",
    "      size = 'M1',\n",
    "    ),\n",
    "  ) \n",
    "  for language in questions.language.unique()\n",
    "]\n",
    "\n",
    "iplot(go.Figure(data = data))"
   ]
  },
  {
   "cell_type": "code",
   "execution_count": null,
   "metadata": {},
   "outputs": [],
   "source": []
  }
 ],
 "metadata": {
  "kernelspec": {
   "display_name": "Python 3",
   "language": "python",
   "name": "python3"
  },
  "language_info": {
   "codemirror_mode": {
    "name": "ipython",
    "version": 3
   },
   "file_extension": ".py",
   "mimetype": "text/x-python",
   "name": "python",
   "nbconvert_exporter": "python",
   "pygments_lexer": "ipython3",
   "version": "3.7.0"
  }
 },
 "nbformat": 4,
 "nbformat_minor": 2
}
