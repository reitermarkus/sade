{
 "cells": [
  {
   "cell_type": "markdown",
   "metadata": {},
   "source": [
    "1. Using only 50% for training is not a good choice, because the other 50% could be vastly different in such a small dataset."
   ]
  },
  {
   "cell_type": "markdown",
   "metadata": {},
   "source": [
    "2. One method would be to use density to determine which data points belong in a single cluster. **DBScan** is one algorithm which does this."
   ]
  },
  {
   "cell_type": "markdown",
   "metadata": {},
   "source": [
    "3. - With supervised learning, the machine gets trained with data which already contains the labels which in the end should be the output for a prediction.\n",
    "   - With unsupervices learning, the machine gets trained with data which isn't labeled and tries to find a common structure."
   ]
  }
 ],
 "metadata": {
  "kernelspec": {
   "display_name": "Python 3",
   "language": "python",
   "name": "python3"
  },
  "language_info": {
   "codemirror_mode": {
    "name": "ipython",
    "version": 3
   },
   "file_extension": ".py",
   "mimetype": "text/x-python",
   "name": "python",
   "nbconvert_exporter": "python",
   "pygments_lexer": "ipython3",
   "version": "3.7.0"
  }
 },
 "nbformat": 4,
 "nbformat_minor": 2
}
