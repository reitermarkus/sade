{
 "cells": [
  {
   "cell_type": "code",
   "execution_count": null,
   "metadata": {
    "slideshow": {
     "slide_type": "skip"
    }
   },
   "outputs": [],
   "source": [
    "from presentation_data import *\n",
    "from plotly.offline import init_notebook_mode, iplot\n",
    "init_notebook_mode(connected = True)"
   ]
  },
  {
   "cell_type": "markdown",
   "metadata": {
    "slideshow": {
     "slide_type": "slide"
    }
   },
   "source": [
    "## Study Design"
   ]
  },
  {
   "cell_type": "markdown",
   "metadata": {
    "slideshow": {
     "slide_type": "slide"
    }
   },
   "source": [
    "### Goals and Requirements\n",
    "\n",
    "Our goal is to analyze the coherence between programming languages and the commenting behavior of the programmers. Required are all the information of the repositories and its contributors.\n",
    "\n",
    "## Study Questions\n",
    "\n",
    "- Which programming language is commented the most?\n",
    "- Is there a difference between interpreted languages like Ruby and Python?\n",
    "- Is there a difference between system-level languages like C, C++ and Rust?\n",
    "- Is there a difference between JVM languages like Java and Kotlin?\n",
    "- Is there a difference between functional languages like Haskell and OCaml?\n",
    "\n",
    "## Research Method and Strategy\n",
    "\n",
    "We will first use the GitHub API in order to find the most starred repositories per language and then fetch the source code and analyze the comments in the source files.\n",
    "\n",
    "We define all languages we want to analyze with their respective extensions so we can iterate through them."
   ]
  },
  {
   "cell_type": "markdown",
   "metadata": {
    "slideshow": {
     "slide_type": "slide"
    }
   },
   "source": [
    "## Data\n",
    "\n",
    "- first all the repositories were downloaded via the GitHub-API\n",
    "- then all the needed files have been analyzed using **pygount**\n",
    "- the results of the analysis were stored in a json file"
   ]
  },
  {
   "cell_type": "markdown",
   "metadata": {},
   "source": [
    "### JSON converted to DataFrame"
   ]
  },
  {
   "cell_type": "code",
   "execution_count": null,
   "metadata": {
    "slideshow": {
     "slide_type": "subslide"
    }
   },
   "outputs": [],
   "source": [
    "analysis_df.drop(['default_branch', 'name', 'owner'], axis = 1, inplace = True)\n",
    "analysis_df = analysis_df[['stars', 'forks', 'empty', 'code', 'language', 'documentation']]\n",
    "analysis_df.sample(frac = 1).head()"
   ]
  },
  {
   "cell_type": "code",
   "execution_count": null,
   "metadata": {},
   "outputs": [],
   "source": [
    "language_values = {\n",
    "  'python':  1,\n",
    "  'ruby' :   2,\n",
    "  'c':       3,\n",
    "  'c++':     4,\n",
    "  'rust':    5,\n",
    "  'java':    6,\n",
    "  'kotlin':  7,\n",
    "  'ocaml':   8,\n",
    "  'haskell': 9,\n",
    "}"
   ]
  },
  {
   "cell_type": "code",
   "execution_count": null,
   "metadata": {},
   "outputs": [],
   "source": [
    "for i in language_values: \n",
    "  analysis_df.replace(i, language_values[i], inplace = True)\n",
    "\n",
    "# Shuffle data.\n",
    "analysis_df = analysis_df.sample(frac = 1).reset_index(drop = True)\n",
    "\n",
    "analysis_df.head()"
   ]
  },
  {
   "cell_type": "code",
   "execution_count": null,
   "metadata": {
    "scrolled": true
   },
   "outputs": [],
   "source": [
    "from sklearn import tree\n",
    "from sklearn.model_selection import train_test_split\n",
    "from sklearn.metrics import accuracy_score\n",
    "from sklearn.metrics import confusion_matrix\n",
    "\n",
    "dataset = analysis_df.values\n",
    "shape = dataset.shape\n",
    "\n",
    "data = dataset[:, :-1]\n",
    "target = dataset[:, -1]\n",
    "training_data, test_data, training_target, test_target = train_test_split(data, target, test_size = 0.25)\n",
    "\n",
    "clf = tree.DecisionTreeClassifier().fit(training_data, training_target)\n",
    "\n",
    "prediction = clf.predict(test_data)\n",
    "\n",
    "total = len(test_data)"
   ]
  },
  {
   "cell_type": "code",
   "execution_count": null,
   "metadata": {},
   "outputs": [],
   "source": [
    "# We define predictions which are within 1000 lines as correct.\n",
    "incorrect = (np.absolute(test_target - prediction) > 1000).sum()\n",
    "\n",
    "print('Number of incorrect predictions out of %d: %d (%.1f%%)' % (\n",
    "  total,\n",
    "  incorrect,\n",
    "  incorrect / total * 100.0,\n",
    "))\n",
    "\n",
    "min_difference = np.absolute(test_target - prediction).min()\n",
    "max_difference = np.absolute(test_target - prediction).max()\n",
    "\n",
    "print(f'Maximum difference between target and prediction: {max_difference}')"
   ]
  },
  {
   "cell_type": "markdown",
   "metadata": {},
   "source": [
    "## Study Questions"
   ]
  },
  {
   "cell_type": "markdown",
   "metadata": {
    "slideshow": {
     "slide_type": "slide"
    }
   },
   "source": [
    "### Which programming language is commented the most ? "
   ]
  },
  {
   "cell_type": "code",
   "execution_count": null,
   "metadata": {
    "scrolled": false
   },
   "outputs": [],
   "source": [
    "iplot(fig_all_comments)"
   ]
  },
  {
   "cell_type": "markdown",
   "metadata": {
    "slideshow": {
     "slide_type": "slide"
    }
   },
   "source": [
    "### Different between Interpreted Languages "
   ]
  },
  {
   "cell_type": "code",
   "execution_count": null,
   "metadata": {},
   "outputs": [],
   "source": [
    "iplot(fig_interpreted)"
   ]
  },
  {
   "cell_type": "markdown",
   "metadata": {
    "slideshow": {
     "slide_type": "slide"
    }
   },
   "source": [
    "### Different between System Languages "
   ]
  },
  {
   "cell_type": "code",
   "execution_count": null,
   "metadata": {},
   "outputs": [],
   "source": [
    "iplot(fig_system)"
   ]
  },
  {
   "cell_type": "markdown",
   "metadata": {
    "slideshow": {
     "slide_type": "slide"
    }
   },
   "source": [
    "### Different between JVM Languages "
   ]
  },
  {
   "cell_type": "code",
   "execution_count": null,
   "metadata": {},
   "outputs": [],
   "source": [
    "iplot(fig_jvm)"
   ]
  },
  {
   "cell_type": "markdown",
   "metadata": {
    "slideshow": {
     "slide_type": "slide"
    }
   },
   "source": [
    "### Different between functional languages "
   ]
  },
  {
   "cell_type": "code",
   "execution_count": null,
   "metadata": {},
   "outputs": [],
   "source": [
    "iplot(fig_functional)"
   ]
  },
  {
   "cell_type": "markdown",
   "metadata": {},
   "source": [
    "### Summary"
   ]
  },
  {
   "cell_type": "code",
   "execution_count": null,
   "metadata": {},
   "outputs": [],
   "source": [
    "iplot(summary_pie[0])"
   ]
  },
  {
   "cell_type": "code",
   "execution_count": null,
   "metadata": {},
   "outputs": [],
   "source": [
    "iplot(summary_pie[1])"
   ]
  },
  {
   "cell_type": "code",
   "execution_count": null,
   "metadata": {},
   "outputs": [],
   "source": [
    "iplot(summary_pie[2])"
   ]
  },
  {
   "cell_type": "code",
   "execution_count": null,
   "metadata": {},
   "outputs": [],
   "source": [
    "iplot(summary_pie[3])"
   ]
  }
 ],
 "metadata": {
  "kernelspec": {
   "display_name": "Python 3",
   "language": "python",
   "name": "python3"
  },
  "language_info": {
   "codemirror_mode": {
    "name": "ipython",
    "version": 3
   },
   "file_extension": ".py",
   "mimetype": "text/x-python",
   "name": "python",
   "nbconvert_exporter": "python",
   "pygments_lexer": "ipython3",
   "version": "3.7.1"
  }
 },
 "nbformat": 4,
 "nbformat_minor": 2
}
