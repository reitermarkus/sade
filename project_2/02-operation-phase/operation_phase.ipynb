{
 "cells": [
  {
   "cell_type": "markdown",
   "metadata": {},
   "source": [
    "## Data Cleaning\n",
    "\n",
    "- some '.meta' files has been removed, since they did not contain useful data\n",
    "\n",
    "## Missing and Incompatible Data\n",
    "\n",
    "- the transistions in exp_group_a.meta does not correspond to the order of the tasks in a participants json file\n",
    "- some tasks are is missing in some json files ex: 'group_X_task_0_demography', 'group_X_task_1_internal_read'\n",
    "- in several json files, the task content do not match with others (internal and external read tasks)"
   ]
  }
 ],
 "metadata": {
  "kernelspec": {
   "display_name": "Python 3",
   "language": "python",
   "name": "python3"
  },
  "language_info": {
   "codemirror_mode": {
    "name": "ipython",
    "version": 3
   },
   "file_extension": ".py",
   "mimetype": "text/x-python",
   "name": "python",
   "nbconvert_exporter": "python",
   "pygments_lexer": "ipython3",
   "version": "3.7.1"
  }
 },
 "nbformat": 4,
 "nbformat_minor": 2
}
