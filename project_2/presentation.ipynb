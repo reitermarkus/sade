{
 "cells": [
  {
   "cell_type": "code",
   "execution_count": 1,
   "metadata": {},
   "outputs": [
    {
     "data": {
      "text/html": [
       "<script>requirejs.config({paths: { 'plotly': ['https://cdn.plot.ly/plotly-latest.min']},});if(!window.Plotly) {{require(['plotly'],function(plotly) {window.Plotly=plotly;});}}</script>"
      ],
      "text/vnd.plotly.v1+html": [
       "<script>requirejs.config({paths: { 'plotly': ['https://cdn.plot.ly/plotly-latest.min']},});if(!window.Plotly) {{require(['plotly'],function(plotly) {window.Plotly=plotly;});}}</script>"
      ]
     },
     "metadata": {},
     "output_type": "display_data"
    },
    {
     "data": {
      "text/plain": [
       "{'data_frame':      characters_per_minute  delete_key_presses  \\\n",
       " 0                77.146129                  16   \n",
       " 1                68.279776                  87   \n",
       " 2                57.891061                  13   \n",
       " 3               107.275174                  24   \n",
       " 4                68.343151                  27   \n",
       " 5                59.504664                  42   \n",
       " 6                70.923556                 117   \n",
       " 7               524.314265                 365   \n",
       " 8               104.007292                  43   \n",
       " 9                85.282189                  25   \n",
       " 10              114.510943                  15   \n",
       " 11               57.350248                  23   \n",
       " 12               88.465699                  31   \n",
       " 13               97.736057                  25   \n",
       " 14               76.607431                  12   \n",
       " 15               89.918511                  22   \n",
       " 16               70.075626                 130   \n",
       " 17                0.000000                 326   \n",
       " 18                0.000000                 326   \n",
       " 19             2597.470335                 658   \n",
       " 20                0.000000                 326   \n",
       " 21                0.000000                 326   \n",
       " 22                0.000000                 417   \n",
       " 23             1462.684439                 668   \n",
       " 24              140.121439                 325   \n",
       " 25                0.000000                 326   \n",
       " 26               60.172669                 331   \n",
       " 27                0.000000                 326   \n",
       " 28                0.000000                 326   \n",
       " 29                0.000000                 326   \n",
       " ..                     ...                 ...   \n",
       " 174              83.539686                  10   \n",
       " 175              90.840608                  38   \n",
       " 176             157.928565                  24   \n",
       " 177              92.994575                  49   \n",
       " 178             168.670766                  15   \n",
       " 179             129.523026                   1   \n",
       " 180             109.916122                  21   \n",
       " 181             114.149822                   8   \n",
       " 182             128.698225                   3   \n",
       " 183              90.676523                  19   \n",
       " 184              93.600094                  10   \n",
       " 185             116.909790                   2   \n",
       " 186              76.445465                  38   \n",
       " 187             104.477269                  37   \n",
       " 188              63.117599                  28   \n",
       " 189              74.613423                  48   \n",
       " 190              90.348788                  45   \n",
       " 191              89.319519                  30   \n",
       " 192             112.337162                  61   \n",
       " 193             102.140341                  68   \n",
       " 194              98.435201                  33   \n",
       " 195             144.544930                  22   \n",
       " 196             119.943706                  13   \n",
       " 197             108.966799                   5   \n",
       " 198             122.706251                  24   \n",
       " 199             105.634695                  89   \n",
       " 200              78.298879                   8   \n",
       " 201             111.793943                  34   \n",
       " 202              89.292138                  39   \n",
       " 203             132.528309                  61   \n",
       " \n",
       "                                  name  space_key_presses  tab_key_presses  \\\n",
       " 0    group_a_task_2_1_internal_modify                  0                0   \n",
       " 1    group_a_task_2_1_internal_modify                  0                0   \n",
       " 2    group_a_task_2_1_internal_modify                  0                0   \n",
       " 3    group_a_task_2_1_internal_modify                  0                0   \n",
       " 4    group_a_task_2_1_internal_modify                  0                0   \n",
       " 5    group_a_task_2_1_internal_modify                  0                0   \n",
       " 6    group_a_task_2_1_internal_modify                  0                0   \n",
       " 7    group_a_task_2_1_internal_modify                  1               45   \n",
       " 8    group_a_task_2_1_internal_modify                  0                0   \n",
       " 9    group_a_task_2_1_internal_modify                  1                4   \n",
       " 10   group_a_task_2_1_internal_modify                  0                0   \n",
       " 11   group_a_task_2_1_internal_modify                  0                0   \n",
       " 12   group_a_task_2_1_internal_modify                  0                0   \n",
       " 13   group_a_task_2_1_internal_modify                  0                0   \n",
       " 14   group_a_task_2_1_internal_modify                  0                0   \n",
       " 15   group_a_task_2_1_internal_modify                  0                0   \n",
       " 16   group_a_task_2_1_internal_modify                  0                3   \n",
       " 17   group_a_task_2_2_internal_modify                  0                0   \n",
       " 18   group_a_task_2_2_internal_modify                  0                0   \n",
       " 19   group_a_task_2_2_internal_modify                 34                5   \n",
       " 20   group_a_task_2_2_internal_modify                  0                0   \n",
       " 21   group_a_task_2_2_internal_modify                  0                0   \n",
       " 22   group_a_task_2_2_internal_modify                  0                0   \n",
       " 23   group_a_task_2_2_internal_modify                 34                5   \n",
       " 24   group_a_task_2_2_internal_modify                  0                0   \n",
       " 25   group_a_task_2_2_internal_modify                  0                0   \n",
       " 26   group_a_task_2_2_internal_modify                  0                0   \n",
       " 27   group_a_task_2_2_internal_modify                  0                0   \n",
       " 28   group_a_task_2_2_internal_modify                  0                0   \n",
       " 29   group_a_task_2_2_internal_modify                  0                0   \n",
       " ..                                ...                ...              ...   \n",
       " 174  group_a_task_7_2_external_create                 24                0   \n",
       " 175  group_a_task_7_2_external_create                 12                0   \n",
       " 176  group_a_task_7_2_external_create                 34                0   \n",
       " 177  group_a_task_7_2_external_create                 16                0   \n",
       " 178  group_a_task_7_2_external_create                  7                0   \n",
       " 179  group_a_task_7_2_external_create                  8                0   \n",
       " 180  group_a_task_7_2_external_create                 11                0   \n",
       " 181  group_a_task_7_2_external_create                  8                0   \n",
       " 182  group_a_task_7_2_external_create                  9                0   \n",
       " 183  group_a_task_7_2_external_create                 11                0   \n",
       " 184  group_a_task_7_2_external_create                  8                0   \n",
       " 185  group_a_task_7_2_external_create                  8                0   \n",
       " 186  group_a_task_7_2_external_create                  9                0   \n",
       " 187  group_a_task_7_3_external_create                 15                0   \n",
       " 188  group_a_task_7_3_external_create                  4                0   \n",
       " 189  group_a_task_7_3_external_create                  1                0   \n",
       " 190  group_a_task_7_3_external_create                 39                0   \n",
       " 191  group_a_task_7_3_external_create                 22                0   \n",
       " 192  group_a_task_7_3_external_create                 18                0   \n",
       " 193  group_a_task_7_3_external_create                 18                0   \n",
       " 194  group_a_task_7_3_external_create                 26                0   \n",
       " 195  group_a_task_7_3_external_create                  4                0   \n",
       " 196  group_a_task_7_3_external_create                  5                0   \n",
       " 197  group_a_task_7_3_external_create                 20                0   \n",
       " 198  group_a_task_7_3_external_create                 18                0   \n",
       " 199  group_a_task_7_3_external_create                 91                0   \n",
       " 200  group_a_task_7_3_external_create                  5                0   \n",
       " 201  group_a_task_7_3_external_create                 19                0   \n",
       " 202  group_a_task_7_3_external_create                 25                0   \n",
       " 203  group_a_task_7_3_external_create                 32                0   \n",
       " \n",
       "     group  \n",
       " 0       a  \n",
       " 1       a  \n",
       " 2       a  \n",
       " 3       a  \n",
       " 4       a  \n",
       " 5       a  \n",
       " 6       a  \n",
       " 7       a  \n",
       " 8       a  \n",
       " 9       a  \n",
       " 10      a  \n",
       " 11      a  \n",
       " 12      a  \n",
       " 13      a  \n",
       " 14      a  \n",
       " 15      a  \n",
       " 16      a  \n",
       " 17      a  \n",
       " 18      a  \n",
       " 19      a  \n",
       " 20      a  \n",
       " 21      a  \n",
       " 22      a  \n",
       " 23      a  \n",
       " 24      a  \n",
       " 25      a  \n",
       " 26      a  \n",
       " 27      a  \n",
       " 28      a  \n",
       " 29      a  \n",
       " ..    ...  \n",
       " 174     a  \n",
       " 175     a  \n",
       " 176     a  \n",
       " 177     a  \n",
       " 178     a  \n",
       " 179     a  \n",
       " 180     a  \n",
       " 181     a  \n",
       " 182     a  \n",
       " 183     a  \n",
       " 184     a  \n",
       " 185     a  \n",
       " 186     a  \n",
       " 187     a  \n",
       " 188     a  \n",
       " 189     a  \n",
       " 190     a  \n",
       " 191     a  \n",
       " 192     a  \n",
       " 193     a  \n",
       " 194     a  \n",
       " 195     a  \n",
       " 196     a  \n",
       " 197     a  \n",
       " 198     a  \n",
       " 199     a  \n",
       " 200     a  \n",
       " 201     a  \n",
       " 202     a  \n",
       " 203     a  \n",
       " \n",
       " [204 rows x 6 columns], 'int_del_keys': 0       16\n",
       " 1       87\n",
       " 2       13\n",
       " 3       24\n",
       " 4       27\n",
       " 5       42\n",
       " 6      117\n",
       " 7      365\n",
       " 8       43\n",
       " 9       25\n",
       " 10      15\n",
       " 11      23\n",
       " 12      31\n",
       " 13      25\n",
       " 14      12\n",
       " 15      22\n",
       " 16     130\n",
       " 17     326\n",
       " 18     326\n",
       " 19     658\n",
       " 20     326\n",
       " 21     326\n",
       " 22     417\n",
       " 23     668\n",
       " 24     325\n",
       " 25     326\n",
       " 26     331\n",
       " 27     326\n",
       " 28     326\n",
       " 29     326\n",
       "       ... \n",
       " 72      28\n",
       " 73      49\n",
       " 74      48\n",
       " 75      63\n",
       " 76      37\n",
       " 77      59\n",
       " 78      11\n",
       " 79     131\n",
       " 80      21\n",
       " 81      17\n",
       " 82      14\n",
       " 83      11\n",
       " 84      54\n",
       " 85      40\n",
       " 86      44\n",
       " 87      45\n",
       " 88      66\n",
       " 89      45\n",
       " 90     100\n",
       " 91      58\n",
       " 92      42\n",
       " 93      38\n",
       " 94      33\n",
       " 95      27\n",
       " 96      36\n",
       " 97      30\n",
       " 98      32\n",
       " 99      26\n",
       " 100     23\n",
       " 101     40\n",
       " Name: delete_key_presses, Length: 102, dtype: int64, 'int_tab_keys': 0       0\n",
       " 1       0\n",
       " 2       0\n",
       " 3       0\n",
       " 4       0\n",
       " 5       0\n",
       " 6       0\n",
       " 7      45\n",
       " 8       0\n",
       " 9       4\n",
       " 10      0\n",
       " 11      0\n",
       " 12      0\n",
       " 13      0\n",
       " 14      0\n",
       " 15      0\n",
       " 16      3\n",
       " 17      0\n",
       " 18      0\n",
       " 19      5\n",
       " 20      0\n",
       " 21      0\n",
       " 22      0\n",
       " 23      5\n",
       " 24      0\n",
       " 25      0\n",
       " 26      0\n",
       " 27      0\n",
       " 28      0\n",
       " 29      0\n",
       "        ..\n",
       " 72      0\n",
       " 73      0\n",
       " 74      0\n",
       " 75      0\n",
       " 76      0\n",
       " 77      0\n",
       " 78      0\n",
       " 79      0\n",
       " 80      0\n",
       " 81      0\n",
       " 82      0\n",
       " 83      0\n",
       " 84      0\n",
       " 85      0\n",
       " 86      0\n",
       " 87      0\n",
       " 88      0\n",
       " 89      0\n",
       " 90      0\n",
       " 91      0\n",
       " 92      0\n",
       " 93      0\n",
       " 94      0\n",
       " 95      0\n",
       " 96      0\n",
       " 97      0\n",
       " 98      0\n",
       " 99      0\n",
       " 100     0\n",
       " 101     0\n",
       " Name: tab_key_presses, Length: 102, dtype: int64, 'int_space_keys': 0        0\n",
       " 1        0\n",
       " 2        0\n",
       " 3        0\n",
       " 4        0\n",
       " 5        0\n",
       " 6        0\n",
       " 7        1\n",
       " 8        0\n",
       " 9        1\n",
       " 10       0\n",
       " 11       0\n",
       " 12       0\n",
       " 13       0\n",
       " 14       0\n",
       " 15       0\n",
       " 16       0\n",
       " 17       0\n",
       " 18       0\n",
       " 19      34\n",
       " 20       0\n",
       " 21       0\n",
       " 22       0\n",
       " 23      34\n",
       " 24       0\n",
       " 25       0\n",
       " 26       0\n",
       " 27       0\n",
       " 28       0\n",
       " 29       0\n",
       "       ... \n",
       " 72      80\n",
       " 73      91\n",
       " 74      61\n",
       " 75      37\n",
       " 76      41\n",
       " 77     129\n",
       " 78      36\n",
       " 79      32\n",
       " 80      35\n",
       " 81       9\n",
       " 82      34\n",
       " 83      30\n",
       " 84      88\n",
       " 85     114\n",
       " 86     130\n",
       " 87       1\n",
       " 88     128\n",
       " 89     110\n",
       " 90     125\n",
       " 91     122\n",
       " 92      52\n",
       " 93      54\n",
       " 94     137\n",
       " 95      50\n",
       " 96      50\n",
       " 97      62\n",
       " 98      22\n",
       " 99      49\n",
       " 100      9\n",
       " 101    106\n",
       " Name: space_key_presses, Length: 102, dtype: int64, 'ext_del_keys': 102    12\n",
       " 103    11\n",
       " 104     9\n",
       " 105     9\n",
       " 106    12\n",
       " 107    14\n",
       " 108    10\n",
       " 109     8\n",
       " 110    10\n",
       " 111    12\n",
       " 112     9\n",
       " 113    12\n",
       " 114    10\n",
       " 115    12\n",
       " 116    12\n",
       " 117    13\n",
       " 118    12\n",
       " 119     0\n",
       " 120     0\n",
       " 121     2\n",
       " 122     1\n",
       " 123     0\n",
       " 124     1\n",
       " 125     0\n",
       " 126     3\n",
       " 127     1\n",
       " 128     0\n",
       " 129     0\n",
       " 130    17\n",
       " 131     6\n",
       "        ..\n",
       " 174    10\n",
       " 175    38\n",
       " 176    24\n",
       " 177    49\n",
       " 178    15\n",
       " 179     1\n",
       " 180    21\n",
       " 181     8\n",
       " 182     3\n",
       " 183    19\n",
       " 184    10\n",
       " 185     2\n",
       " 186    38\n",
       " 187    37\n",
       " 188    28\n",
       " 189    48\n",
       " 190    45\n",
       " 191    30\n",
       " 192    61\n",
       " 193    68\n",
       " 194    33\n",
       " 195    22\n",
       " 196    13\n",
       " 197     5\n",
       " 198    24\n",
       " 199    89\n",
       " 200     8\n",
       " 201    34\n",
       " 202    39\n",
       " 203    61\n",
       " Name: delete_key_presses, Length: 102, dtype: int64, 'ext_tab_keys': 102    0\n",
       " 103    0\n",
       " 104    0\n",
       " 105    0\n",
       " 106    0\n",
       " 107    0\n",
       " 108    0\n",
       " 109    0\n",
       " 110    0\n",
       " 111    0\n",
       " 112    0\n",
       " 113    0\n",
       " 114    0\n",
       " 115    0\n",
       " 116    0\n",
       " 117    0\n",
       " 118    0\n",
       " 119    0\n",
       " 120    0\n",
       " 121    0\n",
       " 122    0\n",
       " 123    0\n",
       " 124    0\n",
       " 125    0\n",
       " 126    0\n",
       " 127    0\n",
       " 128    0\n",
       " 129    0\n",
       " 130    0\n",
       " 131    0\n",
       "       ..\n",
       " 174    0\n",
       " 175    0\n",
       " 176    0\n",
       " 177    0\n",
       " 178    0\n",
       " 179    0\n",
       " 180    0\n",
       " 181    0\n",
       " 182    0\n",
       " 183    0\n",
       " 184    0\n",
       " 185    0\n",
       " 186    0\n",
       " 187    0\n",
       " 188    0\n",
       " 189    0\n",
       " 190    0\n",
       " 191    0\n",
       " 192    0\n",
       " 193    0\n",
       " 194    0\n",
       " 195    0\n",
       " 196    0\n",
       " 197    0\n",
       " 198    0\n",
       " 199    0\n",
       " 200    0\n",
       " 201    0\n",
       " 202    0\n",
       " 203    0\n",
       " Name: tab_key_presses, Length: 102, dtype: int64, 'ext_space_keys': 102     0\n",
       " 103     0\n",
       " 104     0\n",
       " 105     0\n",
       " 106     0\n",
       " 107     0\n",
       " 108     0\n",
       " 109     0\n",
       " 110     0\n",
       " 111     0\n",
       " 112     0\n",
       " 113     0\n",
       " 114     0\n",
       " 115     0\n",
       " 116     0\n",
       " 117     0\n",
       " 118     0\n",
       " 119     0\n",
       " 120     0\n",
       " 121     0\n",
       " 122     0\n",
       " 123     0\n",
       " 124     0\n",
       " 125     0\n",
       " 126     0\n",
       " 127     0\n",
       " 128     0\n",
       " 129     0\n",
       " 130     0\n",
       " 131     0\n",
       "        ..\n",
       " 174    24\n",
       " 175    12\n",
       " 176    34\n",
       " 177    16\n",
       " 178     7\n",
       " 179     8\n",
       " 180    11\n",
       " 181     8\n",
       " 182     9\n",
       " 183    11\n",
       " 184     8\n",
       " 185     8\n",
       " 186     9\n",
       " 187    15\n",
       " 188     4\n",
       " 189     1\n",
       " 190    39\n",
       " 191    22\n",
       " 192    18\n",
       " 193    18\n",
       " 194    26\n",
       " 195     4\n",
       " 196     5\n",
       " 197    20\n",
       " 198    18\n",
       " 199    91\n",
       " 200     5\n",
       " 201    19\n",
       " 202    25\n",
       " 203    32\n",
       " Name: space_key_presses, Length: 102, dtype: int64, 'int_typing_speed': 0        77.146129\n",
       " 1        68.279776\n",
       " 2        57.891061\n",
       " 3       107.275174\n",
       " 4        68.343151\n",
       " 5        59.504664\n",
       " 6        70.923556\n",
       " 7       524.314265\n",
       " 8       104.007292\n",
       " 9        85.282189\n",
       " 10      114.510943\n",
       " 11       57.350248\n",
       " 12       88.465699\n",
       " 13       97.736057\n",
       " 14       76.607431\n",
       " 15       89.918511\n",
       " 16       70.075626\n",
       " 17        0.000000\n",
       " 18        0.000000\n",
       " 19     2597.470335\n",
       " 20        0.000000\n",
       " 21        0.000000\n",
       " 22        0.000000\n",
       " 23     1462.684439\n",
       " 24      140.121439\n",
       " 25        0.000000\n",
       " 26       60.172669\n",
       " 27        0.000000\n",
       " 28        0.000000\n",
       " 29        0.000000\n",
       "           ...     \n",
       " 72      143.277002\n",
       " 73      180.064309\n",
       " 74      211.694479\n",
       " 75      115.737358\n",
       " 76      196.825062\n",
       " 77      203.750406\n",
       " 78      160.304018\n",
       " 79       74.519992\n",
       " 80      128.813710\n",
       " 81       90.121170\n",
       " 82      152.688000\n",
       " 83      138.113839\n",
       " 84      122.517045\n",
       " 85      177.111619\n",
       " 86      136.488950\n",
       " 87       73.388001\n",
       " 88      211.357713\n",
       " 89      139.948897\n",
       " 90      162.372970\n",
       " 91      140.892419\n",
       " 92      113.823667\n",
       " 93      161.226725\n",
       " 94      225.282802\n",
       " 95      169.576297\n",
       " 96      160.361938\n",
       " 97      149.032124\n",
       " 98       99.467760\n",
       " 99      139.676594\n",
       " 100     150.417207\n",
       " 101     192.545381\n",
       " Name: characters_per_minute, Length: 102, dtype: float64, 'ext_typing_speed': 102    121.477982\n",
       " 103     90.176254\n",
       " 104    211.598746\n",
       " 105     98.378575\n",
       " 106    127.546501\n",
       " 107     33.911990\n",
       " 108    266.429840\n",
       " 109    121.089808\n",
       " 110    151.324086\n",
       " 111    129.870130\n",
       " 112    228.136882\n",
       " 113    168.697282\n",
       " 114    148.588410\n",
       " 115    119.462419\n",
       " 116    145.307770\n",
       " 117     90.993934\n",
       " 118    258.342304\n",
       " 119     47.545936\n",
       " 120     25.244557\n",
       " 121     34.995626\n",
       " 122     53.461921\n",
       " 123     43.567052\n",
       " 124     44.132918\n",
       " 125     29.958807\n",
       " 126     45.923300\n",
       " 127     28.245459\n",
       " 128     46.439628\n",
       " 129     59.328842\n",
       " 130     58.235294\n",
       " 131     43.739024\n",
       "           ...    \n",
       " 174     83.539686\n",
       " 175     90.840608\n",
       " 176    157.928565\n",
       " 177     92.994575\n",
       " 178    168.670766\n",
       " 179    129.523026\n",
       " 180    109.916122\n",
       " 181    114.149822\n",
       " 182    128.698225\n",
       " 183     90.676523\n",
       " 184     93.600094\n",
       " 185    116.909790\n",
       " 186     76.445465\n",
       " 187    104.477269\n",
       " 188     63.117599\n",
       " 189     74.613423\n",
       " 190     90.348788\n",
       " 191     89.319519\n",
       " 192    112.337162\n",
       " 193    102.140341\n",
       " 194     98.435201\n",
       " 195    144.544930\n",
       " 196    119.943706\n",
       " 197    108.966799\n",
       " 198    122.706251\n",
       " 199    105.634695\n",
       " 200     78.298879\n",
       " 201    111.793943\n",
       " 202     89.292138\n",
       " 203    132.528309\n",
       " Name: characters_per_minute, Length: 102, dtype: float64}"
      ]
     },
     "execution_count": 1,
     "metadata": {},
     "output_type": "execute_result"
    }
   ],
   "source": [
    "from presentation_data import *\n",
    "\n",
    "group_a"
   ]
  },
  {
   "cell_type": "markdown",
   "metadata": {},
   "source": [
    "# Topic 1: Typing"
   ]
  },
  {
   "cell_type": "markdown",
   "metadata": {},
   "source": [
    "## Study Design"
   ]
  },
  {
   "cell_type": "markdown",
   "metadata": {},
   "source": [
    "### Goal\n",
    "The object of the study is to analyze the typing behaviour of the participants during DSL programming.\n",
    "\n",
    "The intention here is to evaluate the differences between internal and external DSLs, with respect to user satisfaction, user experience and efficiency.\n",
    "\n",
    "The study is conducted from the point of view of a programmer in the context programming with a DSL.\n",
    "\n",
    "<br></br>\n",
    "### Context Selection\n",
    "- offline study\n",
    "  - in order to reduce the interference factor\n",
    "- participants are considere students, not professionals\n",
    "- they will be asked toy problems\n",
    "\n",
    "<br></br>\n",
    "### Hypothesis Formulation\n",
    "Problem: Evaluate the differences between internal and external DSLs, with respect to user satisfaction, user experience and efficiency.\n",
    "\n",
    "<br></br>\n",
    "#### Study Questions\n",
    "- How often was the <kbd>⌫</kbd> or <kbd>⌦</kbd> key pressed?\n",
    "- How often was the <kbd>⇥</kbd> key pressed?\n",
    "\n",
    "<br></br>\n",
    "#### Key Variables\n",
    "- Internal and external DSL\n",
    "\n",
    "<br></br>\n",
    "#### Educated Guess\n",
    "External DSL is more easy to readable and writable than an internal DSL, especially for people without programming knowledge.\n",
    "\n",
    "<br></br>\n",
    "H<sub>0</sub>: There is no difference between internal and external DSLs, with respect to user satisfaction, user experience and efficiency (USXE).\n",
    "- H<sub>0</sub>: µ(USXE<sub>external</sub>) = µ(USXE<sub>internal</sub>)\n",
    "\n",
    "<br></br>\n",
    "H<sub>a</sub>: An external DSL is more efficient to use and more user friendly than an internal DSL.\n",
    "\n",
    "- H<sub>a</sub>: µ(USXE<sub>external</sub>) > µ(USXE<sub>internal</sub>) or  \n",
    "- H<sub>a</sub>: µ(USXE<sub>external</sub>) < µ(USXE<sub>internal</sub>)\n"
   ]
  },
  {
   "cell_type": "markdown",
   "metadata": {},
   "source": [
    "### Design\n",
    "- The experimentation consists of two groups (A/B) of participants.\n",
    "- The participants will be randomly split into these two groups.\n",
    "- In order to categorize them, they are asked about their demography.\n",
    "- Both groups are asked to program using an internal and an external DSL:\n",
    "  - Group A will use an internal DSL to create questionnaires and an external DSL to create student calendars.\n",
    "  - Group B will use an external DSL to create questionnaires and an internal DSL to create student calendars.\n",
    "\n",
    "<br></br>\n",
    "### Experiment Operation\n",
    "The experiment operation consists of three steps:\n",
    "\n",
    "<br></br>\n",
    "#### 1. Preparation\n",
    "- inform participants aboiut the intention of the experiment\n",
    "- get the agreement about the research objectives\n",
    "  - otherwise not possible to be involved at the experiment\n",
    "\n",
    "<br></br>\n",
    "#### 2. Execution\n",
    "- participants start with the experimentation\n",
    "- an experimenter will be available for questions\n",
    "\n",
    "<br></br>\n",
    "#### 3. Data Validation\n",
    "- store collected data per participant in json files"
   ]
  },
  {
   "cell_type": "code",
   "execution_count": 2,
   "metadata": {},
   "outputs": [
    {
     "data": {
      "text/html": [
       "<div>\n",
       "<style scoped>\n",
       "    .dataframe tbody tr th:only-of-type {\n",
       "        vertical-align: middle;\n",
       "    }\n",
       "\n",
       "    .dataframe tbody tr th {\n",
       "        vertical-align: top;\n",
       "    }\n",
       "\n",
       "    .dataframe thead th {\n",
       "        text-align: right;\n",
       "    }\n",
       "</style>\n",
       "<table border=\"1\" class=\"dataframe\">\n",
       "  <thead>\n",
       "    <tr style=\"text-align: right;\">\n",
       "      <th></th>\n",
       "      <th>characters_per_minute</th>\n",
       "      <th>delete_key_presses</th>\n",
       "      <th>name</th>\n",
       "      <th>space_key_presses</th>\n",
       "      <th>tab_key_presses</th>\n",
       "      <th>group</th>\n",
       "    </tr>\n",
       "  </thead>\n",
       "  <tbody>\n",
       "    <tr>\n",
       "      <th>0</th>\n",
       "      <td>77.146129</td>\n",
       "      <td>16</td>\n",
       "      <td>group_a_task_2_1_internal_modify</td>\n",
       "      <td>0</td>\n",
       "      <td>0</td>\n",
       "      <td>a</td>\n",
       "    </tr>\n",
       "    <tr>\n",
       "      <th>1</th>\n",
       "      <td>68.279776</td>\n",
       "      <td>87</td>\n",
       "      <td>group_a_task_2_1_internal_modify</td>\n",
       "      <td>0</td>\n",
       "      <td>0</td>\n",
       "      <td>a</td>\n",
       "    </tr>\n",
       "    <tr>\n",
       "      <th>2</th>\n",
       "      <td>57.891061</td>\n",
       "      <td>13</td>\n",
       "      <td>group_a_task_2_1_internal_modify</td>\n",
       "      <td>0</td>\n",
       "      <td>0</td>\n",
       "      <td>a</td>\n",
       "    </tr>\n",
       "    <tr>\n",
       "      <th>3</th>\n",
       "      <td>107.275174</td>\n",
       "      <td>24</td>\n",
       "      <td>group_a_task_2_1_internal_modify</td>\n",
       "      <td>0</td>\n",
       "      <td>0</td>\n",
       "      <td>a</td>\n",
       "    </tr>\n",
       "    <tr>\n",
       "      <th>4</th>\n",
       "      <td>68.343151</td>\n",
       "      <td>27</td>\n",
       "      <td>group_a_task_2_1_internal_modify</td>\n",
       "      <td>0</td>\n",
       "      <td>0</td>\n",
       "      <td>a</td>\n",
       "    </tr>\n",
       "  </tbody>\n",
       "</table>\n",
       "</div>"
      ],
      "text/plain": [
       "   characters_per_minute  delete_key_presses  \\\n",
       "0              77.146129                  16   \n",
       "1              68.279776                  87   \n",
       "2              57.891061                  13   \n",
       "3             107.275174                  24   \n",
       "4              68.343151                  27   \n",
       "\n",
       "                               name  space_key_presses  tab_key_presses group  \n",
       "0  group_a_task_2_1_internal_modify                  0                0     a  \n",
       "1  group_a_task_2_1_internal_modify                  0                0     a  \n",
       "2  group_a_task_2_1_internal_modify                  0                0     a  \n",
       "3  group_a_task_2_1_internal_modify                  0                0     a  \n",
       "4  group_a_task_2_1_internal_modify                  0                0     a  "
      ]
     },
     "execution_count": 2,
     "metadata": {},
     "output_type": "execute_result"
    }
   ],
   "source": [
    "analysis.head()"
   ]
  },
  {
   "cell_type": "markdown",
   "metadata": {},
   "source": [
    "# Deletions"
   ]
  },
  {
   "cell_type": "code",
   "execution_count": 3,
   "metadata": {},
   "outputs": [
    {
     "data": {
      "application/vnd.plotly.v1+json": {
       "data": [
        {
         "name": "Internal",
         "text": "Internal",
         "textposition": "auto",
         "type": "bar",
         "uid": "c1899388-fe14-11e8-90d2-a434d9b4fdf2",
         "x": [
          "Group A"
         ],
         "y": [
          0.8160813308687616
         ]
        },
        {
         "name": "External",
         "text": "External",
         "textposition": "auto",
         "type": "bar",
         "uid": "c1899cb6-fe14-11e8-90d2-a434d9b4fdf2",
         "x": [
          "Group A"
         ],
         "y": [
          0.18391866913123844
         ]
        },
        {
         "name": "Internal",
         "text": "Internal",
         "textposition": "auto",
         "type": "bar",
         "uid": "c189a120-fe14-11e8-90d2-a434d9b4fdf2",
         "x": [
          "Group B"
         ],
         "y": [
          0.48476987447698744
         ]
        },
        {
         "name": "External",
         "text": "External",
         "textposition": "auto",
         "type": "bar",
         "uid": "c189a472-fe14-11e8-90d2-a434d9b4fdf2",
         "x": [
          "Group B"
         ],
         "y": [
          0.5152301255230125
         ]
        }
       ],
       "layout": {
        "bargap": 0.1,
        "barmode": "group",
        "font": {
         "family": "Helvetica",
         "size": 16
        },
        "showlegend": true,
        "title": "Deletions (in % of total deletions per group)",
        "yaxis": {
         "range": [
          0,
          1
         ],
         "tickformat": ",.0%"
        }
       }
      },
      "text/html": [
       "<div id=\"74e9b23c-1c72-4b2b-81d7-5e1dc559de5f\" style=\"height: 525px; width: 100%;\" class=\"plotly-graph-div\"></div><script type=\"text/javascript\">require([\"plotly\"], function(Plotly) { window.PLOTLYENV=window.PLOTLYENV || {};window.PLOTLYENV.BASE_URL=\"https://plot.ly\";Plotly.newPlot(\"74e9b23c-1c72-4b2b-81d7-5e1dc559de5f\", [{\"name\": \"Internal\", \"text\": \"Internal\", \"textposition\": \"auto\", \"x\": [\"Group A\"], \"y\": [0.8160813308687616], \"type\": \"bar\", \"uid\": \"c195c112-fe14-11e8-90d2-a434d9b4fdf2\"}, {\"name\": \"External\", \"text\": \"External\", \"textposition\": \"auto\", \"x\": [\"Group A\"], \"y\": [0.18391866913123844], \"type\": \"bar\", \"uid\": \"c195c46e-fe14-11e8-90d2-a434d9b4fdf2\"}, {\"name\": \"Internal\", \"text\": \"Internal\", \"textposition\": \"auto\", \"x\": [\"Group B\"], \"y\": [0.48476987447698744], \"type\": \"bar\", \"uid\": \"c195c69e-fe14-11e8-90d2-a434d9b4fdf2\"}, {\"name\": \"External\", \"text\": \"External\", \"textposition\": \"auto\", \"x\": [\"Group B\"], \"y\": [0.5152301255230125], \"type\": \"bar\", \"uid\": \"c195c838-fe14-11e8-90d2-a434d9b4fdf2\"}], {\"bargap\": 0.1, \"barmode\": \"group\", \"font\": {\"family\": \"Helvetica\", \"size\": 16}, \"showlegend\": true, \"title\": \"Deletions (in % of total deletions per group)\", \"yaxis\": {\"range\": [0, 1], \"tickformat\": \",.0%\"}}, {\"showLink\": true, \"linkText\": \"Export to plot.ly\"})});</script>"
      ],
      "text/vnd.plotly.v1+html": [
       "<div id=\"74e9b23c-1c72-4b2b-81d7-5e1dc559de5f\" style=\"height: 525px; width: 100%;\" class=\"plotly-graph-div\"></div><script type=\"text/javascript\">require([\"plotly\"], function(Plotly) { window.PLOTLYENV=window.PLOTLYENV || {};window.PLOTLYENV.BASE_URL=\"https://plot.ly\";Plotly.newPlot(\"74e9b23c-1c72-4b2b-81d7-5e1dc559de5f\", [{\"name\": \"Internal\", \"text\": \"Internal\", \"textposition\": \"auto\", \"x\": [\"Group A\"], \"y\": [0.8160813308687616], \"type\": \"bar\", \"uid\": \"c195c112-fe14-11e8-90d2-a434d9b4fdf2\"}, {\"name\": \"External\", \"text\": \"External\", \"textposition\": \"auto\", \"x\": [\"Group A\"], \"y\": [0.18391866913123844], \"type\": \"bar\", \"uid\": \"c195c46e-fe14-11e8-90d2-a434d9b4fdf2\"}, {\"name\": \"Internal\", \"text\": \"Internal\", \"textposition\": \"auto\", \"x\": [\"Group B\"], \"y\": [0.48476987447698744], \"type\": \"bar\", \"uid\": \"c195c69e-fe14-11e8-90d2-a434d9b4fdf2\"}, {\"name\": \"External\", \"text\": \"External\", \"textposition\": \"auto\", \"x\": [\"Group B\"], \"y\": [0.5152301255230125], \"type\": \"bar\", \"uid\": \"c195c838-fe14-11e8-90d2-a434d9b4fdf2\"}], {\"bargap\": 0.1, \"barmode\": \"group\", \"font\": {\"family\": \"Helvetica\", \"size\": 16}, \"showlegend\": true, \"title\": \"Deletions (in % of total deletions per group)\", \"yaxis\": {\"range\": [0, 1], \"tickformat\": \",.0%\"}}, {\"showLink\": true, \"linkText\": \"Export to plot.ly\"})});</script>"
      ]
     },
     "metadata": {},
     "output_type": "display_data"
    }
   ],
   "source": [
    "iplot(fig_deletions_per_group)"
   ]
  },
  {
   "cell_type": "markdown",
   "metadata": {},
   "source": [
    "## Tabs"
   ]
  },
  {
   "cell_type": "code",
   "execution_count": 4,
   "metadata": {},
   "outputs": [
    {
     "data": {
      "application/vnd.plotly.v1+json": {
       "data": [
        {
         "name": "Internal",
         "text": "Internal",
         "textposition": "auto",
         "type": "bar",
         "uid": "c1a0d7e6-fe14-11e8-90d2-a434d9b4fdf2",
         "x": [
          "Group A"
         ],
         "y": [
          0.39344262295081966
         ]
        },
        {
         "name": "External",
         "text": "External",
         "textposition": "auto",
         "type": "bar",
         "uid": "c1a0dbce-fe14-11e8-90d2-a434d9b4fdf2",
         "x": [
          "Group A"
         ],
         "y": [
          0.6065573770491803
         ]
        },
        {
         "name": "Internal",
         "text": "Internal",
         "textposition": "auto",
         "type": "bar",
         "uid": "c1a0de58-fe14-11e8-90d2-a434d9b4fdf2",
         "x": [
          "Group B"
         ],
         "y": [
          0
         ]
        },
        {
         "name": "External",
         "text": "External",
         "textposition": "auto",
         "type": "bar",
         "uid": "c1a0e0ce-fe14-11e8-90d2-a434d9b4fdf2",
         "x": [
          "Group B"
         ],
         "y": [
          1
         ]
        }
       ],
       "layout": {
        "bargap": 0.1,
        "barmode": "group",
        "font": {
         "family": "Helvetica",
         "size": 16
        },
        "showlegend": true,
        "title": "Tabs (in % of total tabs per group)",
        "yaxis": {
         "range": [
          0,
          1
         ],
         "tickformat": ",.0%"
        }
       }
      },
      "text/html": [
       "<div id=\"6ef474be-1530-4a89-8871-836d93fba2c2\" style=\"height: 525px; width: 100%;\" class=\"plotly-graph-div\"></div><script type=\"text/javascript\">require([\"plotly\"], function(Plotly) { window.PLOTLYENV=window.PLOTLYENV || {};window.PLOTLYENV.BASE_URL=\"https://plot.ly\";Plotly.newPlot(\"6ef474be-1530-4a89-8871-836d93fba2c2\", [{\"name\": \"Internal\", \"text\": \"Internal\", \"textposition\": \"auto\", \"x\": [\"Group A\"], \"y\": [0.39344262295081966], \"type\": \"bar\", \"uid\": \"c1a7b0de-fe14-11e8-90d2-a434d9b4fdf2\"}, {\"name\": \"External\", \"text\": \"External\", \"textposition\": \"auto\", \"x\": [\"Group A\"], \"y\": [0.6065573770491803], \"type\": \"bar\", \"uid\": \"c1a7b50c-fe14-11e8-90d2-a434d9b4fdf2\"}, {\"name\": \"Internal\", \"text\": \"Internal\", \"textposition\": \"auto\", \"x\": [\"Group B\"], \"y\": [0.0], \"type\": \"bar\", \"uid\": \"c1a7b7dc-fe14-11e8-90d2-a434d9b4fdf2\"}, {\"name\": \"External\", \"text\": \"External\", \"textposition\": \"auto\", \"x\": [\"Group B\"], \"y\": [1.0], \"type\": \"bar\", \"uid\": \"c1a7ba5c-fe14-11e8-90d2-a434d9b4fdf2\"}], {\"bargap\": 0.1, \"barmode\": \"group\", \"font\": {\"family\": \"Helvetica\", \"size\": 16}, \"showlegend\": true, \"title\": \"Tabs (in % of total tabs per group)\", \"yaxis\": {\"range\": [0, 1], \"tickformat\": \",.0%\"}}, {\"showLink\": true, \"linkText\": \"Export to plot.ly\"})});</script>"
      ],
      "text/vnd.plotly.v1+html": [
       "<div id=\"6ef474be-1530-4a89-8871-836d93fba2c2\" style=\"height: 525px; width: 100%;\" class=\"plotly-graph-div\"></div><script type=\"text/javascript\">require([\"plotly\"], function(Plotly) { window.PLOTLYENV=window.PLOTLYENV || {};window.PLOTLYENV.BASE_URL=\"https://plot.ly\";Plotly.newPlot(\"6ef474be-1530-4a89-8871-836d93fba2c2\", [{\"name\": \"Internal\", \"text\": \"Internal\", \"textposition\": \"auto\", \"x\": [\"Group A\"], \"y\": [0.39344262295081966], \"type\": \"bar\", \"uid\": \"c1a7b0de-fe14-11e8-90d2-a434d9b4fdf2\"}, {\"name\": \"External\", \"text\": \"External\", \"textposition\": \"auto\", \"x\": [\"Group A\"], \"y\": [0.6065573770491803], \"type\": \"bar\", \"uid\": \"c1a7b50c-fe14-11e8-90d2-a434d9b4fdf2\"}, {\"name\": \"Internal\", \"text\": \"Internal\", \"textposition\": \"auto\", \"x\": [\"Group B\"], \"y\": [0.0], \"type\": \"bar\", \"uid\": \"c1a7b7dc-fe14-11e8-90d2-a434d9b4fdf2\"}, {\"name\": \"External\", \"text\": \"External\", \"textposition\": \"auto\", \"x\": [\"Group B\"], \"y\": [1.0], \"type\": \"bar\", \"uid\": \"c1a7ba5c-fe14-11e8-90d2-a434d9b4fdf2\"}], {\"bargap\": 0.1, \"barmode\": \"group\", \"font\": {\"family\": \"Helvetica\", \"size\": 16}, \"showlegend\": true, \"title\": \"Tabs (in % of total tabs per group)\", \"yaxis\": {\"range\": [0, 1], \"tickformat\": \",.0%\"}}, {\"showLink\": true, \"linkText\": \"Export to plot.ly\"})});</script>"
      ]
     },
     "metadata": {},
     "output_type": "display_data"
    }
   ],
   "source": [
    "iplot(fig_tabs_per_group)"
   ]
  },
  {
   "cell_type": "markdown",
   "metadata": {},
   "source": [
    "## Spaces"
   ]
  },
  {
   "cell_type": "code",
   "execution_count": 5,
   "metadata": {},
   "outputs": [
    {
     "data": {
      "application/vnd.plotly.v1+json": {
       "data": [
        {
         "name": "Internal",
         "text": "Internal",
         "textposition": "auto",
         "type": "bar",
         "uid": "c1b0b9cc-fe14-11e8-90d2-a434d9b4fdf2",
         "x": [
          "Group A"
         ],
         "y": [
          0.7387895892129194
         ]
        },
        {
         "name": "External",
         "text": "External",
         "textposition": "auto",
         "type": "bar",
         "uid": "c1b0bcb0-fe14-11e8-90d2-a434d9b4fdf2",
         "x": [
          "Group A"
         ],
         "y": [
          0.26121041078708057
         ]
        },
        {
         "name": "Internal",
         "text": "Internal",
         "textposition": "auto",
         "type": "bar",
         "uid": "c1b0be72-fe14-11e8-90d2-a434d9b4fdf2",
         "x": [
          "Group B"
         ],
         "y": [
          0.47944274549779137
         ]
        },
        {
         "name": "External",
         "text": "External",
         "textposition": "auto",
         "type": "bar",
         "uid": "c1b0bfe4-fe14-11e8-90d2-a434d9b4fdf2",
         "x": [
          "Group B"
         ],
         "y": [
          0.5205572545022086
         ]
        }
       ],
       "layout": {
        "bargap": 0.1,
        "barmode": "group",
        "font": {
         "family": "Helvetica",
         "size": 16
        },
        "showlegend": true,
        "title": "Spaces (in % of total spaces per group)",
        "yaxis": {
         "range": [
          0,
          1
         ],
         "tickformat": ",.0%"
        }
       }
      },
      "text/html": [
       "<div id=\"88e041b6-f63b-499a-ae0b-afc048fb19b5\" style=\"height: 525px; width: 100%;\" class=\"plotly-graph-div\"></div><script type=\"text/javascript\">require([\"plotly\"], function(Plotly) { window.PLOTLYENV=window.PLOTLYENV || {};window.PLOTLYENV.BASE_URL=\"https://plot.ly\";Plotly.newPlot(\"88e041b6-f63b-499a-ae0b-afc048fb19b5\", [{\"name\": \"Internal\", \"text\": \"Internal\", \"textposition\": \"auto\", \"x\": [\"Group A\"], \"y\": [0.7387895892129194], \"type\": \"bar\", \"uid\": \"c1ba0284-fe14-11e8-90d2-a434d9b4fdf2\"}, {\"name\": \"External\", \"text\": \"External\", \"textposition\": \"auto\", \"x\": [\"Group A\"], \"y\": [0.26121041078708057], \"type\": \"bar\", \"uid\": \"c1ba0568-fe14-11e8-90d2-a434d9b4fdf2\"}, {\"name\": \"Internal\", \"text\": \"Internal\", \"textposition\": \"auto\", \"x\": [\"Group B\"], \"y\": [0.47944274549779137], \"type\": \"bar\", \"uid\": \"c1ba072a-fe14-11e8-90d2-a434d9b4fdf2\"}, {\"name\": \"External\", \"text\": \"External\", \"textposition\": \"auto\", \"x\": [\"Group B\"], \"y\": [0.5205572545022086], \"type\": \"bar\", \"uid\": \"c1ba08a6-fe14-11e8-90d2-a434d9b4fdf2\"}], {\"bargap\": 0.1, \"barmode\": \"group\", \"font\": {\"family\": \"Helvetica\", \"size\": 16}, \"showlegend\": true, \"title\": \"Spaces (in % of total spaces per group)\", \"yaxis\": {\"range\": [0, 1], \"tickformat\": \",.0%\"}}, {\"showLink\": true, \"linkText\": \"Export to plot.ly\"})});</script>"
      ],
      "text/vnd.plotly.v1+html": [
       "<div id=\"88e041b6-f63b-499a-ae0b-afc048fb19b5\" style=\"height: 525px; width: 100%;\" class=\"plotly-graph-div\"></div><script type=\"text/javascript\">require([\"plotly\"], function(Plotly) { window.PLOTLYENV=window.PLOTLYENV || {};window.PLOTLYENV.BASE_URL=\"https://plot.ly\";Plotly.newPlot(\"88e041b6-f63b-499a-ae0b-afc048fb19b5\", [{\"name\": \"Internal\", \"text\": \"Internal\", \"textposition\": \"auto\", \"x\": [\"Group A\"], \"y\": [0.7387895892129194], \"type\": \"bar\", \"uid\": \"c1ba0284-fe14-11e8-90d2-a434d9b4fdf2\"}, {\"name\": \"External\", \"text\": \"External\", \"textposition\": \"auto\", \"x\": [\"Group A\"], \"y\": [0.26121041078708057], \"type\": \"bar\", \"uid\": \"c1ba0568-fe14-11e8-90d2-a434d9b4fdf2\"}, {\"name\": \"Internal\", \"text\": \"Internal\", \"textposition\": \"auto\", \"x\": [\"Group B\"], \"y\": [0.47944274549779137], \"type\": \"bar\", \"uid\": \"c1ba072a-fe14-11e8-90d2-a434d9b4fdf2\"}, {\"name\": \"External\", \"text\": \"External\", \"textposition\": \"auto\", \"x\": [\"Group B\"], \"y\": [0.5205572545022086], \"type\": \"bar\", \"uid\": \"c1ba08a6-fe14-11e8-90d2-a434d9b4fdf2\"}], {\"bargap\": 0.1, \"barmode\": \"group\", \"font\": {\"family\": \"Helvetica\", \"size\": 16}, \"showlegend\": true, \"title\": \"Spaces (in % of total spaces per group)\", \"yaxis\": {\"range\": [0, 1], \"tickformat\": \",.0%\"}}, {\"showLink\": true, \"linkText\": \"Export to plot.ly\"})});</script>"
      ]
     },
     "metadata": {},
     "output_type": "display_data"
    }
   ],
   "source": [
    "iplot(fig_spaces_per_group)"
   ]
  },
  {
   "cell_type": "markdown",
   "metadata": {},
   "source": [
    "## Overview Internal"
   ]
  },
  {
   "cell_type": "code",
   "execution_count": 6,
   "metadata": {},
   "outputs": [
    {
     "data": {
      "application/vnd.plotly.v1+json": {
       "data": [
        {
         "name": "Group A",
         "text": "Group A",
         "textposition": "auto",
         "type": "bar",
         "uid": "c11ea3e8-fe14-11e8-90d2-a434d9b4fdf2",
         "x": [
          "Delete Keys"
         ],
         "y": [
          9713
         ]
        },
        {
         "name": "Group B",
         "text": "Group B",
         "textposition": "auto",
         "type": "bar",
         "uid": "c11ea816-fe14-11e8-90d2-a434d9b4fdf2",
         "x": [
          "Delete Keys"
         ],
         "y": [
          5793
         ]
        },
        {
         "name": "Group A",
         "text": "Group A",
         "textposition": "auto",
         "type": "bar",
         "uid": "c11eaab4-fe14-11e8-90d2-a434d9b4fdf2",
         "x": [
          "Tab Keys"
         ],
         "y": [
          120
         ]
        },
        {
         "name": "Group B",
         "text": "Group B",
         "textposition": "auto",
         "type": "bar",
         "uid": "c11ead8e-fe14-11e8-90d2-a434d9b4fdf2",
         "x": [
          "Tab Keys"
         ],
         "y": [
          0
         ]
        },
        {
         "name": "Group A",
         "text": "Group A",
         "textposition": "auto",
         "type": "bar",
         "uid": "c11eb054-fe14-11e8-90d2-a434d9b4fdf2",
         "x": [
          "Space Keys"
         ],
         "y": [
          2356
         ]
        },
        {
         "name": "Group B",
         "text": "Group B",
         "textposition": "auto",
         "type": "bar",
         "uid": "c11eb52c-fe14-11e8-90d2-a434d9b4fdf2",
         "x": [
          "Space Keys"
         ],
         "y": [
          2822
         ]
        }
       ],
       "layout": {
        "bargap": 0.1,
        "barmode": "stack",
        "font": {
         "family": "Helvetica",
         "size": 16
        },
        "showlegend": false,
        "title": "Group A vs Group B: Internal",
        "xaxis": {
         "showticklabels": true
        }
       }
      },
      "text/html": [
       "<div id=\"88067396-6d4b-4116-a4f0-a20fe20bc303\" style=\"height: 525px; width: 100%;\" class=\"plotly-graph-div\"></div><script type=\"text/javascript\">require([\"plotly\"], function(Plotly) { window.PLOTLYENV=window.PLOTLYENV || {};window.PLOTLYENV.BASE_URL=\"https://plot.ly\";Plotly.newPlot(\"88067396-6d4b-4116-a4f0-a20fe20bc303\", [{\"name\": \"Group A\", \"text\": \"Group A\", \"textposition\": \"auto\", \"x\": [\"Delete Keys\"], \"y\": [9713], \"type\": \"bar\", \"uid\": \"c11ea3e8-fe14-11e8-90d2-a434d9b4fdf2\"}, {\"name\": \"Group B\", \"text\": \"Group B\", \"textposition\": \"auto\", \"x\": [\"Delete Keys\"], \"y\": [5793], \"type\": \"bar\", \"uid\": \"c11ea816-fe14-11e8-90d2-a434d9b4fdf2\"}, {\"name\": \"Group A\", \"text\": \"Group A\", \"textposition\": \"auto\", \"x\": [\"Tab Keys\"], \"y\": [120], \"type\": \"bar\", \"uid\": \"c11eaab4-fe14-11e8-90d2-a434d9b4fdf2\"}, {\"name\": \"Group B\", \"text\": \"Group B\", \"textposition\": \"auto\", \"x\": [\"Tab Keys\"], \"y\": [0], \"type\": \"bar\", \"uid\": \"c11ead8e-fe14-11e8-90d2-a434d9b4fdf2\"}, {\"name\": \"Group A\", \"text\": \"Group A\", \"textposition\": \"auto\", \"x\": [\"Space Keys\"], \"y\": [2356], \"type\": \"bar\", \"uid\": \"c11eb054-fe14-11e8-90d2-a434d9b4fdf2\"}, {\"name\": \"Group B\", \"text\": \"Group B\", \"textposition\": \"auto\", \"x\": [\"Space Keys\"], \"y\": [2822], \"type\": \"bar\", \"uid\": \"c11eb52c-fe14-11e8-90d2-a434d9b4fdf2\"}], {\"bargap\": 0.1, \"barmode\": \"stack\", \"font\": {\"family\": \"Helvetica\", \"size\": 16}, \"showlegend\": false, \"title\": \"Group A vs Group B: Internal\", \"xaxis\": {\"showticklabels\": true}}, {\"showLink\": true, \"linkText\": \"Export to plot.ly\"})});</script>"
      ],
      "text/vnd.plotly.v1+html": [
       "<div id=\"88067396-6d4b-4116-a4f0-a20fe20bc303\" style=\"height: 525px; width: 100%;\" class=\"plotly-graph-div\"></div><script type=\"text/javascript\">require([\"plotly\"], function(Plotly) { window.PLOTLYENV=window.PLOTLYENV || {};window.PLOTLYENV.BASE_URL=\"https://plot.ly\";Plotly.newPlot(\"88067396-6d4b-4116-a4f0-a20fe20bc303\", [{\"name\": \"Group A\", \"text\": \"Group A\", \"textposition\": \"auto\", \"x\": [\"Delete Keys\"], \"y\": [9713], \"type\": \"bar\", \"uid\": \"c11ea3e8-fe14-11e8-90d2-a434d9b4fdf2\"}, {\"name\": \"Group B\", \"text\": \"Group B\", \"textposition\": \"auto\", \"x\": [\"Delete Keys\"], \"y\": [5793], \"type\": \"bar\", \"uid\": \"c11ea816-fe14-11e8-90d2-a434d9b4fdf2\"}, {\"name\": \"Group A\", \"text\": \"Group A\", \"textposition\": \"auto\", \"x\": [\"Tab Keys\"], \"y\": [120], \"type\": \"bar\", \"uid\": \"c11eaab4-fe14-11e8-90d2-a434d9b4fdf2\"}, {\"name\": \"Group B\", \"text\": \"Group B\", \"textposition\": \"auto\", \"x\": [\"Tab Keys\"], \"y\": [0], \"type\": \"bar\", \"uid\": \"c11ead8e-fe14-11e8-90d2-a434d9b4fdf2\"}, {\"name\": \"Group A\", \"text\": \"Group A\", \"textposition\": \"auto\", \"x\": [\"Space Keys\"], \"y\": [2356], \"type\": \"bar\", \"uid\": \"c11eb054-fe14-11e8-90d2-a434d9b4fdf2\"}, {\"name\": \"Group B\", \"text\": \"Group B\", \"textposition\": \"auto\", \"x\": [\"Space Keys\"], \"y\": [2822], \"type\": \"bar\", \"uid\": \"c11eb52c-fe14-11e8-90d2-a434d9b4fdf2\"}], {\"bargap\": 0.1, \"barmode\": \"stack\", \"font\": {\"family\": \"Helvetica\", \"size\": 16}, \"showlegend\": false, \"title\": \"Group A vs Group B: Internal\", \"xaxis\": {\"showticklabels\": true}}, {\"showLink\": true, \"linkText\": \"Export to plot.ly\"})});</script>"
      ]
     },
     "metadata": {},
     "output_type": "display_data"
    }
   ],
   "source": [
    "iplot(fig_a_vs_b_int)"
   ]
  },
  {
   "cell_type": "markdown",
   "metadata": {},
   "source": [
    "## Overview External"
   ]
  },
  {
   "cell_type": "code",
   "execution_count": 7,
   "metadata": {},
   "outputs": [
    {
     "data": {
      "application/vnd.plotly.v1+json": {
       "data": [
        {
         "name": "Group A",
         "text": "Group A",
         "textposition": "auto",
         "type": "bar",
         "uid": "c15d5e26-fe14-11e8-90d2-a434d9b4fdf2",
         "x": [
          "Delete Keys"
         ],
         "y": [
          2189
         ]
        },
        {
         "name": "Group B",
         "text": "Group B",
         "textposition": "auto",
         "type": "bar",
         "uid": "c15d6268-fe14-11e8-90d2-a434d9b4fdf2",
         "x": [
          "Delete Keys"
         ],
         "y": [
          6157
         ]
        },
        {
         "name": "Group A",
         "text": "Group A",
         "textposition": "auto",
         "type": "bar",
         "uid": "c15d642a-fe14-11e8-90d2-a434d9b4fdf2",
         "x": [
          "Tab Keys"
         ],
         "y": [
          185
         ]
        },
        {
         "name": "Group B",
         "text": "Group B",
         "textposition": "auto",
         "type": "bar",
         "uid": "c15d65b0-fe14-11e8-90d2-a434d9b4fdf2",
         "x": [
          "Tab Keys"
         ],
         "y": [
          160
         ]
        },
        {
         "name": "Group A",
         "text": "Group A",
         "textposition": "auto",
         "type": "bar",
         "uid": "c15d679a-fe14-11e8-90d2-a434d9b4fdf2",
         "x": [
          "Space Keys"
         ],
         "y": [
          833
         ]
        },
        {
         "name": "Group B",
         "text": "Group B",
         "textposition": "auto",
         "type": "bar",
         "uid": "c15d6952-fe14-11e8-90d2-a434d9b4fdf2",
         "x": [
          "Space Keys"
         ],
         "y": [
          3064
         ]
        }
       ],
       "layout": {
        "bargap": 0.1,
        "barmode": "stack",
        "font": {
         "family": "Helvetica",
         "size": 16
        },
        "showlegend": false,
        "title": "Group A vs Group B: External",
        "xaxis": {
         "showticklabels": true
        }
       }
      },
      "text/html": [
       "<div id=\"781c0a0c-be3b-4b46-813b-675936e1f65e\" style=\"height: 525px; width: 100%;\" class=\"plotly-graph-div\"></div><script type=\"text/javascript\">require([\"plotly\"], function(Plotly) { window.PLOTLYENV=window.PLOTLYENV || {};window.PLOTLYENV.BASE_URL=\"https://plot.ly\";Plotly.newPlot(\"781c0a0c-be3b-4b46-813b-675936e1f65e\", [{\"name\": \"Group A\", \"text\": \"Group A\", \"textposition\": \"auto\", \"x\": [\"Delete Keys\"], \"y\": [2189], \"type\": \"bar\", \"uid\": \"c15d5e26-fe14-11e8-90d2-a434d9b4fdf2\"}, {\"name\": \"Group B\", \"text\": \"Group B\", \"textposition\": \"auto\", \"x\": [\"Delete Keys\"], \"y\": [6157], \"type\": \"bar\", \"uid\": \"c15d6268-fe14-11e8-90d2-a434d9b4fdf2\"}, {\"name\": \"Group A\", \"text\": \"Group A\", \"textposition\": \"auto\", \"x\": [\"Tab Keys\"], \"y\": [185], \"type\": \"bar\", \"uid\": \"c15d642a-fe14-11e8-90d2-a434d9b4fdf2\"}, {\"name\": \"Group B\", \"text\": \"Group B\", \"textposition\": \"auto\", \"x\": [\"Tab Keys\"], \"y\": [160], \"type\": \"bar\", \"uid\": \"c15d65b0-fe14-11e8-90d2-a434d9b4fdf2\"}, {\"name\": \"Group A\", \"text\": \"Group A\", \"textposition\": \"auto\", \"x\": [\"Space Keys\"], \"y\": [833], \"type\": \"bar\", \"uid\": \"c15d679a-fe14-11e8-90d2-a434d9b4fdf2\"}, {\"name\": \"Group B\", \"text\": \"Group B\", \"textposition\": \"auto\", \"x\": [\"Space Keys\"], \"y\": [3064], \"type\": \"bar\", \"uid\": \"c15d6952-fe14-11e8-90d2-a434d9b4fdf2\"}], {\"bargap\": 0.1, \"barmode\": \"stack\", \"font\": {\"family\": \"Helvetica\", \"size\": 16}, \"showlegend\": false, \"title\": \"Group A vs Group B: External\", \"xaxis\": {\"showticklabels\": true}}, {\"showLink\": true, \"linkText\": \"Export to plot.ly\"})});</script>"
      ],
      "text/vnd.plotly.v1+html": [
       "<div id=\"781c0a0c-be3b-4b46-813b-675936e1f65e\" style=\"height: 525px; width: 100%;\" class=\"plotly-graph-div\"></div><script type=\"text/javascript\">require([\"plotly\"], function(Plotly) { window.PLOTLYENV=window.PLOTLYENV || {};window.PLOTLYENV.BASE_URL=\"https://plot.ly\";Plotly.newPlot(\"781c0a0c-be3b-4b46-813b-675936e1f65e\", [{\"name\": \"Group A\", \"text\": \"Group A\", \"textposition\": \"auto\", \"x\": [\"Delete Keys\"], \"y\": [2189], \"type\": \"bar\", \"uid\": \"c15d5e26-fe14-11e8-90d2-a434d9b4fdf2\"}, {\"name\": \"Group B\", \"text\": \"Group B\", \"textposition\": \"auto\", \"x\": [\"Delete Keys\"], \"y\": [6157], \"type\": \"bar\", \"uid\": \"c15d6268-fe14-11e8-90d2-a434d9b4fdf2\"}, {\"name\": \"Group A\", \"text\": \"Group A\", \"textposition\": \"auto\", \"x\": [\"Tab Keys\"], \"y\": [185], \"type\": \"bar\", \"uid\": \"c15d642a-fe14-11e8-90d2-a434d9b4fdf2\"}, {\"name\": \"Group B\", \"text\": \"Group B\", \"textposition\": \"auto\", \"x\": [\"Tab Keys\"], \"y\": [160], \"type\": \"bar\", \"uid\": \"c15d65b0-fe14-11e8-90d2-a434d9b4fdf2\"}, {\"name\": \"Group A\", \"text\": \"Group A\", \"textposition\": \"auto\", \"x\": [\"Space Keys\"], \"y\": [833], \"type\": \"bar\", \"uid\": \"c15d679a-fe14-11e8-90d2-a434d9b4fdf2\"}, {\"name\": \"Group B\", \"text\": \"Group B\", \"textposition\": \"auto\", \"x\": [\"Space Keys\"], \"y\": [3064], \"type\": \"bar\", \"uid\": \"c15d6952-fe14-11e8-90d2-a434d9b4fdf2\"}], {\"bargap\": 0.1, \"barmode\": \"stack\", \"font\": {\"family\": \"Helvetica\", \"size\": 16}, \"showlegend\": false, \"title\": \"Group A vs Group B: External\", \"xaxis\": {\"showticklabels\": true}}, {\"showLink\": true, \"linkText\": \"Export to plot.ly\"})});</script>"
      ]
     },
     "metadata": {},
     "output_type": "display_data"
    }
   ],
   "source": [
    "iplot(fig_a_vs_b_ext)"
   ]
  },
  {
   "cell_type": "markdown",
   "metadata": {},
   "source": [
    "### Group A vs group B median of key presses"
   ]
  },
  {
   "cell_type": "code",
   "execution_count": 8,
   "metadata": {},
   "outputs": [
    {
     "data": {
      "application/vnd.plotly.v1+json": {
       "data": [
        {
         "name": "Internal",
         "text": "Internal",
         "textposition": "auto",
         "type": "bar",
         "uid": "c1c982ea-fe14-11e8-90d2-a434d9b4fdf2",
         "x": [
          "Group A"
         ],
         "y": [
          0.7142857142857143
         ]
        },
        {
         "name": "External",
         "text": "External",
         "textposition": "auto",
         "type": "bar",
         "uid": "c1c987f4-fe14-11e8-90d2-a434d9b4fdf2",
         "x": [
          "Group A"
         ],
         "y": [
          0.2857142857142857
         ]
        },
        {
         "name": "Internal",
         "text": "Internal",
         "textposition": "auto",
         "type": "bar",
         "uid": "c1c98aec-fe14-11e8-90d2-a434d9b4fdf2",
         "x": [
          "Group B"
         ],
         "y": [
          0.514018691588785
         ]
        },
        {
         "name": "External",
         "text": "External",
         "textposition": "auto",
         "type": "bar",
         "uid": "c1c98d4e-fe14-11e8-90d2-a434d9b4fdf2",
         "x": [
          "Group B"
         ],
         "y": [
          0.48598130841121495
         ]
        }
       ],
       "layout": {
        "bargap": 0.1,
        "barmode": "group",
        "font": {
         "family": "Helvetica",
         "size": 16
        },
        "showlegend": true,
        "title": "Median of total deletions per group",
        "yaxis": {
         "range": [
          0,
          1
         ],
         "tickformat": ",.0%"
        }
       }
      },
      "text/html": [
       "<div id=\"dba2c795-719c-45e5-b077-6e6d8a195caf\" style=\"height: 525px; width: 100%;\" class=\"plotly-graph-div\"></div><script type=\"text/javascript\">require([\"plotly\"], function(Plotly) { window.PLOTLYENV=window.PLOTLYENV || {};window.PLOTLYENV.BASE_URL=\"https://plot.ly\";Plotly.newPlot(\"dba2c795-719c-45e5-b077-6e6d8a195caf\", [{\"name\": \"Internal\", \"text\": \"Internal\", \"textposition\": \"auto\", \"x\": [\"Group A\"], \"y\": [0.7142857142857143], \"type\": \"bar\", \"uid\": \"c1d439d8-fe14-11e8-90d2-a434d9b4fdf2\"}, {\"name\": \"External\", \"text\": \"External\", \"textposition\": \"auto\", \"x\": [\"Group A\"], \"y\": [0.2857142857142857], \"type\": \"bar\", \"uid\": \"c1d4411c-fe14-11e8-90d2-a434d9b4fdf2\"}, {\"name\": \"Internal\", \"text\": \"Internal\", \"textposition\": \"auto\", \"x\": [\"Group B\"], \"y\": [0.514018691588785], \"type\": \"bar\", \"uid\": \"c1d44572-fe14-11e8-90d2-a434d9b4fdf2\"}, {\"name\": \"External\", \"text\": \"External\", \"textposition\": \"auto\", \"x\": [\"Group B\"], \"y\": [0.48598130841121495], \"type\": \"bar\", \"uid\": \"c1d44888-fe14-11e8-90d2-a434d9b4fdf2\"}], {\"bargap\": 0.1, \"barmode\": \"group\", \"font\": {\"family\": \"Helvetica\", \"size\": 16}, \"showlegend\": true, \"title\": \"Median of total deletions per group\", \"yaxis\": {\"range\": [0, 1], \"tickformat\": \",.0%\"}}, {\"showLink\": true, \"linkText\": \"Export to plot.ly\"})});</script>"
      ],
      "text/vnd.plotly.v1+html": [
       "<div id=\"dba2c795-719c-45e5-b077-6e6d8a195caf\" style=\"height: 525px; width: 100%;\" class=\"plotly-graph-div\"></div><script type=\"text/javascript\">require([\"plotly\"], function(Plotly) { window.PLOTLYENV=window.PLOTLYENV || {};window.PLOTLYENV.BASE_URL=\"https://plot.ly\";Plotly.newPlot(\"dba2c795-719c-45e5-b077-6e6d8a195caf\", [{\"name\": \"Internal\", \"text\": \"Internal\", \"textposition\": \"auto\", \"x\": [\"Group A\"], \"y\": [0.7142857142857143], \"type\": \"bar\", \"uid\": \"c1d439d8-fe14-11e8-90d2-a434d9b4fdf2\"}, {\"name\": \"External\", \"text\": \"External\", \"textposition\": \"auto\", \"x\": [\"Group A\"], \"y\": [0.2857142857142857], \"type\": \"bar\", \"uid\": \"c1d4411c-fe14-11e8-90d2-a434d9b4fdf2\"}, {\"name\": \"Internal\", \"text\": \"Internal\", \"textposition\": \"auto\", \"x\": [\"Group B\"], \"y\": [0.514018691588785], \"type\": \"bar\", \"uid\": \"c1d44572-fe14-11e8-90d2-a434d9b4fdf2\"}, {\"name\": \"External\", \"text\": \"External\", \"textposition\": \"auto\", \"x\": [\"Group B\"], \"y\": [0.48598130841121495], \"type\": \"bar\", \"uid\": \"c1d44888-fe14-11e8-90d2-a434d9b4fdf2\"}], {\"bargap\": 0.1, \"barmode\": \"group\", \"font\": {\"family\": \"Helvetica\", \"size\": 16}, \"showlegend\": true, \"title\": \"Median of total deletions per group\", \"yaxis\": {\"range\": [0, 1], \"tickformat\": \",.0%\"}}, {\"showLink\": true, \"linkText\": \"Export to plot.ly\"})});</script>"
      ]
     },
     "metadata": {},
     "output_type": "display_data"
    }
   ],
   "source": [
    "iplot(fig_median_deletions)"
   ]
  },
  {
   "cell_type": "code",
   "execution_count": 9,
   "metadata": {},
   "outputs": [
    {
     "data": {
      "application/vnd.plotly.v1+json": {
       "data": [
        {
         "name": "Internal",
         "text": "Internal",
         "textposition": "auto",
         "type": "bar",
         "uid": "c1e1bfa4-fe14-11e8-90d2-a434d9b4fdf2",
         "x": [
          "Group A"
         ],
         "y": [
          0.39344262295081966
         ]
        },
        {
         "name": "External",
         "text": "External",
         "textposition": "auto",
         "type": "bar",
         "uid": "c1e1c6fc-fe14-11e8-90d2-a434d9b4fdf2",
         "x": [
          "Group A"
         ],
         "y": [
          0.6065573770491803
         ]
        },
        {
         "name": "Internal",
         "text": "Internal",
         "textposition": "auto",
         "type": "bar",
         "uid": "c1e1cbd4-fe14-11e8-90d2-a434d9b4fdf2",
         "x": [
          "Group B"
         ],
         "y": [
          0
         ]
        },
        {
         "name": "External",
         "text": "External",
         "textposition": "auto",
         "type": "bar",
         "uid": "c1e1d02a-fe14-11e8-90d2-a434d9b4fdf2",
         "x": [
          "Group B"
         ],
         "y": [
          1
         ]
        }
       ],
       "layout": {
        "bargap": 0.1,
        "barmode": "group",
        "font": {
         "family": "Helvetica",
         "size": 16
        },
        "showlegend": true,
        "title": "Median of total tabs per group",
        "yaxis": {
         "range": [
          0,
          1
         ],
         "tickformat": ",.0%"
        }
       }
      },
      "text/html": [
       "<div id=\"605c013e-42fe-4f49-a7be-4cb0be31c763\" style=\"height: 525px; width: 100%;\" class=\"plotly-graph-div\"></div><script type=\"text/javascript\">require([\"plotly\"], function(Plotly) { window.PLOTLYENV=window.PLOTLYENV || {};window.PLOTLYENV.BASE_URL=\"https://plot.ly\";Plotly.newPlot(\"605c013e-42fe-4f49-a7be-4cb0be31c763\", [{\"name\": \"Internal\", \"text\": \"Internal\", \"textposition\": \"auto\", \"x\": [\"Group A\"], \"y\": [0.39344262295081966], \"type\": \"bar\", \"uid\": \"c1f8c6a4-fe14-11e8-90d2-a434d9b4fdf2\"}, {\"name\": \"External\", \"text\": \"External\", \"textposition\": \"auto\", \"x\": [\"Group A\"], \"y\": [0.6065573770491803], \"type\": \"bar\", \"uid\": \"c1f8cc58-fe14-11e8-90d2-a434d9b4fdf2\"}, {\"name\": \"Internal\", \"text\": \"Internal\", \"textposition\": \"auto\", \"x\": [\"Group B\"], \"y\": [0.0], \"type\": \"bar\", \"uid\": \"c1f8ce42-fe14-11e8-90d2-a434d9b4fdf2\"}, {\"name\": \"External\", \"text\": \"External\", \"textposition\": \"auto\", \"x\": [\"Group B\"], \"y\": [1.0], \"type\": \"bar\", \"uid\": \"c1f8cfdc-fe14-11e8-90d2-a434d9b4fdf2\"}], {\"bargap\": 0.1, \"barmode\": \"group\", \"font\": {\"family\": \"Helvetica\", \"size\": 16}, \"showlegend\": true, \"title\": \"Median of total tabs per group\", \"yaxis\": {\"range\": [0, 1], \"tickformat\": \",.0%\"}}, {\"showLink\": true, \"linkText\": \"Export to plot.ly\"})});</script>"
      ],
      "text/vnd.plotly.v1+html": [
       "<div id=\"605c013e-42fe-4f49-a7be-4cb0be31c763\" style=\"height: 525px; width: 100%;\" class=\"plotly-graph-div\"></div><script type=\"text/javascript\">require([\"plotly\"], function(Plotly) { window.PLOTLYENV=window.PLOTLYENV || {};window.PLOTLYENV.BASE_URL=\"https://plot.ly\";Plotly.newPlot(\"605c013e-42fe-4f49-a7be-4cb0be31c763\", [{\"name\": \"Internal\", \"text\": \"Internal\", \"textposition\": \"auto\", \"x\": [\"Group A\"], \"y\": [0.39344262295081966], \"type\": \"bar\", \"uid\": \"c1f8c6a4-fe14-11e8-90d2-a434d9b4fdf2\"}, {\"name\": \"External\", \"text\": \"External\", \"textposition\": \"auto\", \"x\": [\"Group A\"], \"y\": [0.6065573770491803], \"type\": \"bar\", \"uid\": \"c1f8cc58-fe14-11e8-90d2-a434d9b4fdf2\"}, {\"name\": \"Internal\", \"text\": \"Internal\", \"textposition\": \"auto\", \"x\": [\"Group B\"], \"y\": [0.0], \"type\": \"bar\", \"uid\": \"c1f8ce42-fe14-11e8-90d2-a434d9b4fdf2\"}, {\"name\": \"External\", \"text\": \"External\", \"textposition\": \"auto\", \"x\": [\"Group B\"], \"y\": [1.0], \"type\": \"bar\", \"uid\": \"c1f8cfdc-fe14-11e8-90d2-a434d9b4fdf2\"}], {\"bargap\": 0.1, \"barmode\": \"group\", \"font\": {\"family\": \"Helvetica\", \"size\": 16}, \"showlegend\": true, \"title\": \"Median of total tabs per group\", \"yaxis\": {\"range\": [0, 1], \"tickformat\": \",.0%\"}}, {\"showLink\": true, \"linkText\": \"Export to plot.ly\"})});</script>"
      ]
     },
     "metadata": {},
     "output_type": "display_data"
    }
   ],
   "source": [
    "iplot(fig_median_tabs)"
   ]
  },
  {
   "cell_type": "code",
   "execution_count": 10,
   "metadata": {},
   "outputs": [
    {
     "data": {
      "application/vnd.plotly.v1+json": {
       "data": [
        {
         "name": "Internal",
         "text": "Internal",
         "textposition": "auto",
         "type": "bar",
         "uid": "c2069108-fe14-11e8-90d2-a434d9b4fdf2",
         "x": [
          "Group A"
         ],
         "y": [
          0
         ]
        },
        {
         "name": "External",
         "text": "External",
         "textposition": "auto",
         "type": "bar",
         "uid": "c20696c6-fe14-11e8-90d2-a434d9b4fdf2",
         "x": [
          "Group A"
         ],
         "y": [
          1
         ]
        },
        {
         "name": "Internal",
         "text": "Internal",
         "textposition": "auto",
         "type": "bar",
         "uid": "c2069a36-fe14-11e8-90d2-a434d9b4fdf2",
         "x": [
          "Group B"
         ],
         "y": [
          0.6470588235294118
         ]
        },
        {
         "name": "External",
         "text": "External",
         "textposition": "auto",
         "type": "bar",
         "uid": "c2069cb6-fe14-11e8-90d2-a434d9b4fdf2",
         "x": [
          "Group B"
         ],
         "y": [
          0.35294117647058826
         ]
        }
       ],
       "layout": {
        "bargap": 0.1,
        "barmode": "group",
        "font": {
         "family": "Helvetica",
         "size": 16
        },
        "showlegend": true,
        "title": "Median of total spaces per group",
        "yaxis": {
         "range": [
          0,
          1
         ],
         "tickformat": ",.0%"
        }
       }
      },
      "text/html": [
       "<div id=\"5a918a13-a091-43a0-ae7e-2d834de0222b\" style=\"height: 525px; width: 100%;\" class=\"plotly-graph-div\"></div><script type=\"text/javascript\">require([\"plotly\"], function(Plotly) { window.PLOTLYENV=window.PLOTLYENV || {};window.PLOTLYENV.BASE_URL=\"https://plot.ly\";Plotly.newPlot(\"5a918a13-a091-43a0-ae7e-2d834de0222b\", [{\"name\": \"Internal\", \"text\": \"Internal\", \"textposition\": \"auto\", \"x\": [\"Group A\"], \"y\": [0.0], \"type\": \"bar\", \"uid\": \"c213dd68-fe14-11e8-90d2-a434d9b4fdf2\"}, {\"name\": \"External\", \"text\": \"External\", \"textposition\": \"auto\", \"x\": [\"Group A\"], \"y\": [1.0], \"type\": \"bar\", \"uid\": \"c213e1b4-fe14-11e8-90d2-a434d9b4fdf2\"}, {\"name\": \"Internal\", \"text\": \"Internal\", \"textposition\": \"auto\", \"x\": [\"Group B\"], \"y\": [0.6470588235294118], \"type\": \"bar\", \"uid\": \"c213e4ac-fe14-11e8-90d2-a434d9b4fdf2\"}, {\"name\": \"External\", \"text\": \"External\", \"textposition\": \"auto\", \"x\": [\"Group B\"], \"y\": [0.35294117647058826], \"type\": \"bar\", \"uid\": \"c213e736-fe14-11e8-90d2-a434d9b4fdf2\"}], {\"bargap\": 0.1, \"barmode\": \"group\", \"font\": {\"family\": \"Helvetica\", \"size\": 16}, \"showlegend\": true, \"title\": \"Median of total spaces per group\", \"yaxis\": {\"range\": [0, 1], \"tickformat\": \",.0%\"}}, {\"showLink\": true, \"linkText\": \"Export to plot.ly\"})});</script>"
      ],
      "text/vnd.plotly.v1+html": [
       "<div id=\"5a918a13-a091-43a0-ae7e-2d834de0222b\" style=\"height: 525px; width: 100%;\" class=\"plotly-graph-div\"></div><script type=\"text/javascript\">require([\"plotly\"], function(Plotly) { window.PLOTLYENV=window.PLOTLYENV || {};window.PLOTLYENV.BASE_URL=\"https://plot.ly\";Plotly.newPlot(\"5a918a13-a091-43a0-ae7e-2d834de0222b\", [{\"name\": \"Internal\", \"text\": \"Internal\", \"textposition\": \"auto\", \"x\": [\"Group A\"], \"y\": [0.0], \"type\": \"bar\", \"uid\": \"c213dd68-fe14-11e8-90d2-a434d9b4fdf2\"}, {\"name\": \"External\", \"text\": \"External\", \"textposition\": \"auto\", \"x\": [\"Group A\"], \"y\": [1.0], \"type\": \"bar\", \"uid\": \"c213e1b4-fe14-11e8-90d2-a434d9b4fdf2\"}, {\"name\": \"Internal\", \"text\": \"Internal\", \"textposition\": \"auto\", \"x\": [\"Group B\"], \"y\": [0.6470588235294118], \"type\": \"bar\", \"uid\": \"c213e4ac-fe14-11e8-90d2-a434d9b4fdf2\"}, {\"name\": \"External\", \"text\": \"External\", \"textposition\": \"auto\", \"x\": [\"Group B\"], \"y\": [0.35294117647058826], \"type\": \"bar\", \"uid\": \"c213e736-fe14-11e8-90d2-a434d9b4fdf2\"}], {\"bargap\": 0.1, \"barmode\": \"group\", \"font\": {\"family\": \"Helvetica\", \"size\": 16}, \"showlegend\": true, \"title\": \"Median of total spaces per group\", \"yaxis\": {\"range\": [0, 1], \"tickformat\": \",.0%\"}}, {\"showLink\": true, \"linkText\": \"Export to plot.ly\"})});</script>"
      ]
     },
     "metadata": {},
     "output_type": "display_data"
    }
   ],
   "source": [
    "iplot(fig_median_spaces)"
   ]
  },
  {
   "cell_type": "markdown",
   "metadata": {},
   "source": [
    "## Typing Speed"
   ]
  },
  {
   "cell_type": "code",
   "execution_count": 11,
   "metadata": {},
   "outputs": [
    {
     "data": {
      "application/vnd.plotly.v1+json": {
       "data": [
        {
         "name": "Internal",
         "text": "Internal",
         "textposition": "auto",
         "type": "bar",
         "uid": "c2211a96-fe14-11e8-90d2-a434d9b4fdf2",
         "x": [
          "Group A"
         ],
         "y": [
          98.91552971607621
         ]
        },
        {
         "name": "External",
         "text": "External",
         "textposition": "auto",
         "type": "bar",
         "uid": "c2211ec4-fe14-11e8-90d2-a434d9b4fdf2",
         "x": [
          "Group A"
         ],
         "y": [
          89.76578796269307
         ]
        },
        {
         "name": "Internal",
         "text": "Internal",
         "textposition": "auto",
         "type": "bar",
         "uid": "c2212162-fe14-11e8-90d2-a434d9b4fdf2",
         "x": [
          "Group B"
         ],
         "y": [
          98.91552971607621
         ]
        },
        {
         "name": "External",
         "text": "External",
         "textposition": "auto",
         "type": "bar",
         "uid": "c221239c-fe14-11e8-90d2-a434d9b4fdf2",
         "x": [
          "Group B"
         ],
         "y": [
          89.76578796269307
         ]
        }
       ],
       "layout": {
        "bargap": 0.1,
        "barmode": "group",
        "font": {
         "family": "Helvetica",
         "size": 16
        },
        "showlegend": true,
        "title": "Median of typing speed: Group A"
       }
      },
      "text/html": [
       "<div id=\"3eb23f19-2894-4a15-b813-85ff365c871c\" style=\"height: 525px; width: 100%;\" class=\"plotly-graph-div\"></div><script type=\"text/javascript\">require([\"plotly\"], function(Plotly) { window.PLOTLYENV=window.PLOTLYENV || {};window.PLOTLYENV.BASE_URL=\"https://plot.ly\";Plotly.newPlot(\"3eb23f19-2894-4a15-b813-85ff365c871c\", [{\"name\": \"Internal\", \"text\": \"Internal\", \"textposition\": \"auto\", \"x\": [\"Group A\"], \"y\": [98.91552971607621], \"type\": \"bar\", \"uid\": \"c22d3394-fe14-11e8-90d2-a434d9b4fdf2\"}, {\"name\": \"External\", \"text\": \"External\", \"textposition\": \"auto\", \"x\": [\"Group A\"], \"y\": [89.76578796269307], \"type\": \"bar\", \"uid\": \"c22d37ea-fe14-11e8-90d2-a434d9b4fdf2\"}, {\"name\": \"Internal\", \"text\": \"Internal\", \"textposition\": \"auto\", \"x\": [\"Group B\"], \"y\": [98.91552971607621], \"type\": \"bar\", \"uid\": \"c22d3ac4-fe14-11e8-90d2-a434d9b4fdf2\"}, {\"name\": \"External\", \"text\": \"External\", \"textposition\": \"auto\", \"x\": [\"Group B\"], \"y\": [89.76578796269307], \"type\": \"bar\", \"uid\": \"c22d3d26-fe14-11e8-90d2-a434d9b4fdf2\"}], {\"bargap\": 0.1, \"barmode\": \"group\", \"font\": {\"family\": \"Helvetica\", \"size\": 16}, \"showlegend\": true, \"title\": \"Median of typing speed: Group A\"}, {\"showLink\": true, \"linkText\": \"Export to plot.ly\"})});</script>"
      ],
      "text/vnd.plotly.v1+html": [
       "<div id=\"3eb23f19-2894-4a15-b813-85ff365c871c\" style=\"height: 525px; width: 100%;\" class=\"plotly-graph-div\"></div><script type=\"text/javascript\">require([\"plotly\"], function(Plotly) { window.PLOTLYENV=window.PLOTLYENV || {};window.PLOTLYENV.BASE_URL=\"https://plot.ly\";Plotly.newPlot(\"3eb23f19-2894-4a15-b813-85ff365c871c\", [{\"name\": \"Internal\", \"text\": \"Internal\", \"textposition\": \"auto\", \"x\": [\"Group A\"], \"y\": [98.91552971607621], \"type\": \"bar\", \"uid\": \"c22d3394-fe14-11e8-90d2-a434d9b4fdf2\"}, {\"name\": \"External\", \"text\": \"External\", \"textposition\": \"auto\", \"x\": [\"Group A\"], \"y\": [89.76578796269307], \"type\": \"bar\", \"uid\": \"c22d37ea-fe14-11e8-90d2-a434d9b4fdf2\"}, {\"name\": \"Internal\", \"text\": \"Internal\", \"textposition\": \"auto\", \"x\": [\"Group B\"], \"y\": [98.91552971607621], \"type\": \"bar\", \"uid\": \"c22d3ac4-fe14-11e8-90d2-a434d9b4fdf2\"}, {\"name\": \"External\", \"text\": \"External\", \"textposition\": \"auto\", \"x\": [\"Group B\"], \"y\": [89.76578796269307], \"type\": \"bar\", \"uid\": \"c22d3d26-fe14-11e8-90d2-a434d9b4fdf2\"}], {\"bargap\": 0.1, \"barmode\": \"group\", \"font\": {\"family\": \"Helvetica\", \"size\": 16}, \"showlegend\": true, \"title\": \"Median of typing speed: Group A\"}, {\"showLink\": true, \"linkText\": \"Export to plot.ly\"})});</script>"
      ]
     },
     "metadata": {},
     "output_type": "display_data"
    }
   ],
   "source": [
    "iplot(fig_median_typing_speed_a)"
   ]
  },
  {
   "cell_type": "markdown",
   "metadata": {},
   "source": [
    "## Conculsion"
   ]
  },
  {
   "cell_type": "markdown",
   "metadata": {},
   "source": [
    "- the programming tasks depends on:\n",
    "  - real/virtual equipment\n",
    "      - keyboard, monitor\n",
    "      - IDE\n",
    "      - programming language\n",
    "  - syntax of the DSL language\n",
    "      - it doesn't matter so much whether a DSL is external or internal, it is rather the syntax of the external DSL that has the most impact"
   ]
  },
  {
   "cell_type": "code",
   "execution_count": null,
   "metadata": {},
   "outputs": [],
   "source": []
  }
 ],
 "metadata": {
  "kernelspec": {
   "display_name": "Python 3",
   "language": "python",
   "name": "python3"
  },
  "language_info": {
   "codemirror_mode": {
    "name": "ipython",
    "version": 3
   },
   "file_extension": ".py",
   "mimetype": "text/x-python",
   "name": "python",
   "nbconvert_exporter": "python",
   "pygments_lexer": "ipython3",
   "version": "3.7.1"
  }
 },
 "nbformat": 4,
 "nbformat_minor": 2
}
