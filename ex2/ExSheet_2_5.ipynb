{
 "cells": [
  {
   "cell_type": "code",
   "execution_count": null,
   "metadata": {
    "scrolled": true
   },
   "outputs": [],
   "source": [
    "import pandas as pd\n",
    "import numpy as np\n",
    "import plotly.graph_objs as go\n",
    "from scipy import stats\n",
    "from plotly.offline import init_notebook_mode, iplot\n",
    "from datetime import datetime\n",
    "init_notebook_mode(connected = True)"
   ]
  },
  {
   "cell_type": "code",
   "execution_count": null,
   "metadata": {},
   "outputs": [],
   "source": [
    "def read_json(path):\n",
    "  data = pd.read_json(path)\n",
    "  data.creation_date = data.creation_date.apply(datetime.utcfromtimestamp)\n",
    "  return data"
   ]
  },
  {
   "cell_type": "code",
   "execution_count": null,
   "metadata": {},
   "outputs": [],
   "source": [
    "python_questions = read_json('data/python_questions_2018.json')\n",
    "python_questions['language'] = 'Python'\n",
    "\n",
    "cpp_questions = read_json('data/cpp_questions_2018.json')\n",
    "cpp_questions['language'] = 'C++'\n",
    "\n",
    "questions = pd.concat([python_questions, cpp_questions], sort = False)"
   ]
  },
  {
   "cell_type": "markdown",
   "metadata": {},
   "source": [
    "1. Create an overlapped histogram of both the python and cpp data. Use the creation date of\n",
    "the questions to bin your values."
   ]
  },
  {
   "cell_type": "code",
   "execution_count": null,
   "metadata": {
    "scrolled": true
   },
   "outputs": [],
   "source": [
    "groups = questions.groupby(['language'])\n",
    "\n",
    "data = [\n",
    "  go.Histogram(\n",
    "    x = groups.get_group(language).creation_date,\n",
    "    name = language,\n",
    "    xbins = dict(\n",
    "      start = datetime(2018, 1, 1),\n",
    "      end = datetime(2018, 12, 31),\n",
    "      size = 'M1',\n",
    "    ),\n",
    "  ) \n",
    "  for language in questions.language.unique()\n",
    "]\n",
    "\n",
    "iplot({\n",
    "  'data': data,\n",
    "  'layout': {'title': 'Questions per Month'}\n",
    "})"
   ]
  },
  {
   "cell_type": "markdown",
   "metadata": {},
   "source": [
    "2. Create a boxplot that shows the question scores. Place the boxplots in parallel so that the\n",
    "plots can be compared."
   ]
  },
  {
   "cell_type": "code",
   "execution_count": null,
   "metadata": {
    "scrolled": true
   },
   "outputs": [],
   "source": [
    "groups = questions.groupby(['score', 'language']).size().reset_index()\n",
    "\n",
    "data = go.Box(\n",
    "  x = groups['language'],\n",
    "  y = groups['score'],\n",
    "  name = 'Score',\n",
    ")\n",
    "\n",
    "iplot({\n",
    "  'data': [data], \n",
    "  'layout': {'title': 'Score per Language'},\n",
    "})"
   ]
  },
  {
   "cell_type": "markdown",
   "metadata": {},
   "source": [
    "3. Finally, compare the Answered attribute of both data sets by creating a stacked bar chart. Questions that have already been answered and that are pending should be displayed in separate bars."
   ]
  },
  {
   "cell_type": "code",
   "execution_count": null,
   "metadata": {
    "scrolled": true
   },
   "outputs": [],
   "source": [
    "groups = questions.groupby(['is_answered', 'language']).size().reset_index(name = 'count')\n",
    "\n",
    "trace1 = go.Bar(\n",
    "  x = groups[groups['is_answered'] == True]['language'],\n",
    "  y = groups[groups['is_answered'] == True]['count'],\n",
    "  name = 'Answered',\n",
    ")\n",
    "\n",
    "trace2 = go.Bar(\n",
    "  x = groups[groups['is_answered'] == False]['language'],\n",
    "  y = groups[groups['is_answered'] == False]['count'],\n",
    "  name = 'Unanswered',\n",
    ")\n",
    "\n",
    "iplot({\n",
    "  'data': [trace1, trace2], \n",
    "  'layout': {\n",
    "    'title': 'Answered Questions per Language',\n",
    "    'barmode': 'stack',\n",
    "  },\n",
    "})"
   ]
  }
 ],
 "metadata": {
  "kernelspec": {
   "display_name": "Python 3",
   "language": "python",
   "name": "python3"
  },
  "language_info": {
   "codemirror_mode": {
    "name": "ipython",
    "version": 3
   },
   "file_extension": ".py",
   "mimetype": "text/x-python",
   "name": "python",
   "nbconvert_exporter": "python",
   "pygments_lexer": "ipython3",
   "version": "3.7.0"
  }
 },
 "nbformat": 4,
 "nbformat_minor": 2
}
