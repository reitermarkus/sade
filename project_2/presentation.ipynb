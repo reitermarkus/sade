{
 "cells": [
  {
   "cell_type": "code",
   "execution_count": null,
   "metadata": {},
   "outputs": [],
   "source": [
    "from presentation_data import *"
   ]
  },
  {
   "cell_type": "markdown",
   "metadata": {},
   "source": [
    "# Topic 1: Typing"
   ]
  },
  {
   "cell_type": "markdown",
   "metadata": {},
   "source": [
    "## Study Design"
   ]
  },
  {
   "cell_type": "markdown",
   "metadata": {},
   "source": [
    "### Goal\n",
    "The object of the study is to analyze the typing behaviour of the participants during DSL programming.\n",
    "\n",
    "The intention here is to evaluate the differences between internal and external DSLs, with respect to user satisfaction, user experience and efficiency.\n",
    "\n",
    "The study is conducted from the point of view of a programmer in the context programming with a DSL.\n",
    "\n",
    "<br></br>\n",
    "### Context Selection\n",
    "- offline study\n",
    "  - in order to reduce the interference factor\n",
    "- participants are considere students, not professionals\n",
    "- they will be asked toy problems\n",
    "\n",
    "<br></br>\n",
    "### Hypothesis Formulation\n",
    "Problem: Evaluate the differences between internal and external DSLs, with respect to user satisfaction, user experience and efficiency.\n",
    "\n",
    "<br></br>\n",
    "#### Study Questions\n",
    "- How often was the <kbd>⌫</kbd> or <kbd>⌦</kbd> key pressed?\n",
    "- How often was the <kbd>⇥</kbd> key pressed?\n",
    "\n",
    "<br></br>\n",
    "#### Key Variables\n",
    "- Internal and external DSL\n",
    "\n",
    "<br></br>\n",
    "#### Educated Guess\n",
    "External DSL is more easy to readable and writable than an internal DSL, especially for people without programming knowledge.\n",
    "\n",
    "<br></br>\n",
    "H<sub>0</sub>: There is no difference between internal and external DSLs, with respect to user satisfaction, user experience and efficiency (USXE).\n",
    "- H<sub>0</sub>: µ(USXE<sub>external</sub>) = µ(USXE<sub>internal</sub>)\n",
    "\n",
    "<br></br>\n",
    "H<sub>a</sub>: An external DSL is more efficient to use and more user friendly than an internal DSL.\n",
    "\n",
    "- H<sub>a</sub>: µ(USXE<sub>external</sub>) > µ(USXE<sub>internal</sub>) or  \n",
    "- H<sub>a</sub>: µ(USXE<sub>external</sub>) < µ(USXE<sub>internal</sub>)\n"
   ]
  },
  {
   "cell_type": "markdown",
   "metadata": {},
   "source": [
    "### Design\n",
    "- The experimentation consists of two groups (A/B) of participants.\n",
    "- The participants will be randomly split into these two groups.\n",
    "- In order to categorize them, they are asked about their demography.\n",
    "- Both groups are asked to program using an internal and an external DSL:\n",
    "  - Group A will use an internal DSL to create questionnaires and an external DSL to create student calendars.\n",
    "  - Group B will use an external DSL to create questionnaires and an internal DSL to create student calendars.\n",
    "\n",
    "<br></br>\n",
    "### Experiment Operation\n",
    "The experiment operation consists of three steps:\n",
    "\n",
    "<br></br>\n",
    "#### 1. Preparation\n",
    "- inform participants aboiut the intention of the experiment\n",
    "- get the agreement about the research objectives\n",
    "  - otherwise not possible to be involved at the experiment\n",
    "\n",
    "<br></br>\n",
    "#### 2. Execution\n",
    "- participants start with the experimentation\n",
    "- an experimenter will be available for questions\n",
    "\n",
    "<br></br>\n",
    "#### 3. Data Validation\n",
    "- store collected data per participant in json files"
   ]
  },
  {
   "cell_type": "code",
   "execution_count": null,
   "metadata": {},
   "outputs": [],
   "source": [
    "analysis.head()"
   ]
  },
  {
   "cell_type": "markdown",
   "metadata": {},
   "source": [
    "## Internal DSL"
   ]
  },
  {
   "cell_type": "markdown",
   "metadata": {},
   "source": [
    "### Delete Key Presses"
   ]
  },
  {
   "cell_type": "code",
   "execution_count": null,
   "metadata": {},
   "outputs": [],
   "source": [
    "iplot(fig_int_del_keys)"
   ]
  },
  {
   "cell_type": "markdown",
   "metadata": {},
   "source": [
    "### Tab Key Presses"
   ]
  },
  {
   "cell_type": "code",
   "execution_count": null,
   "metadata": {},
   "outputs": [],
   "source": [
    "iplot(fig_int_tab_keys)"
   ]
  },
  {
   "cell_type": "markdown",
   "metadata": {},
   "source": [
    "### Space Key Presses"
   ]
  },
  {
   "cell_type": "code",
   "execution_count": null,
   "metadata": {},
   "outputs": [],
   "source": [
    "iplot(fig_int_space_keys)"
   ]
  }
 ],
 "metadata": {
  "kernelspec": {
   "display_name": "Python 3",
   "language": "python",
   "name": "python3"
  },
  "language_info": {
   "codemirror_mode": {
    "name": "ipython",
    "version": 3
   },
   "file_extension": ".py",
   "mimetype": "text/x-python",
   "name": "python",
   "nbconvert_exporter": "python",
   "pygments_lexer": "ipython3",
   "version": "3.7.1"
  }
 },
 "nbformat": 4,
 "nbformat_minor": 2
}
