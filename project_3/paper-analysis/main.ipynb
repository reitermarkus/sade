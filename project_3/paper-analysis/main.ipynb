{
 "cells": [
  {
   "cell_type": "code",
   "execution_count": null,
   "metadata": {},
   "outputs": [],
   "source": [
    "from gensim.models.doc2vec import Doc2Vec, TaggedDocument\n",
    "from nltk.tokenize import word_tokenize\n",
    "\n",
    "import json"
   ]
  },
  {
   "cell_type": "code",
   "execution_count": null,
   "metadata": {},
   "outputs": [],
   "source": [
    "with open('./data/papers.json', 'r', encoding='utf-8') as f:\n",
    "  data = json.load(f)\n",
    "\n",
    "title_tag_obj = dict()\n",
    "abstract_tag_obj = dict()\n",
    "tagged_data = []\n",
    "\n",
    "def tag_docs(data, tag_obj, field):\n",
    "  for i, d in enumerate(data):\n",
    "    td = TaggedDocument(words=word_tokenize(d[field].lower()), tags=[i])\n",
    "    tagged_data.append(td)\n",
    "    tag_obj[i] = data[i][field]\n",
    "\n",
    "  return tagged_data\n",
    "\n",
    "tagged_abstracts = tag_docs(data, abstract_tag_obj, 'abstract')\n",
    "tagged_titles = tag_docs(data, title_tag_obj, 'title')"
   ]
  },
  {
   "cell_type": "code",
   "execution_count": null,
   "metadata": {},
   "outputs": [],
   "source": [
    "def create_and_train(tagged_data, model_name, max_epochs=100, vec_size=20, alpha=0.025):\n",
    "  # max_epochs: Number of iterations over the data\n",
    "  # vec_size: Dimensionality of the feature vectors.\n",
    "  # alpha: Initial learning rate\n",
    "\n",
    "  model = Doc2Vec(vec_size=vec_size,\n",
    "                  alpha=alpha,\n",
    "                  min_alpha=0.00025,  # Learning rate will linearly drop to 'min_alpha' as training progresses.\n",
    "                  min_count=1,  # Ignores all words with total frequency lower than this.\n",
    "                  dm=1,  # The training algorithm.  If dm=1, ‘distributed memory’ (PV-DM) is used. Otherwise, distributed bag of words (PV-DBOW)\n",
    "                  workers=10,  # Threads\n",
    "                  )\n",
    "  \n",
    "  model.build_vocab(tagged_data)\n",
    "\n",
    "  for epoch in range(max_epochs):\n",
    "    model.train(tagged_data,\n",
    "                total_examples=model.corpus_count,  # Count of sentences\n",
    "                epochs=model.iter  # Number of iterations (epochs) over the corpus.\n",
    "                )\n",
    "    \n",
    "    # decrease the learning rate\n",
    "    model.alpha -= 0.0002\n",
    "    # fix the learning rate, no decay\n",
    "    model.min_alpha = model.alpha\n",
    "\n",
    "  model.save(model_name)\n",
    "  \n",
    "  return model"
   ]
  },
  {
   "cell_type": "code",
   "execution_count": null,
   "metadata": {},
   "outputs": [],
   "source": [
    "def find_most_similar_vectors(tagged_data, tag_object, similar_to_tag, model_name):\n",
    "  # similar_to_tag: number between 0 and number of titles/abstracts\n",
    "  create_and_train(tagged_abstracts, model_name)\n",
    "  model = Doc2Vec.load(model_name)\n",
    "\n",
    "  # find the most similar abstracts using tags\n",
    "  similar_doc = model.docvecs.most_similar(similar_to_tag)\n",
    "  similar_vectors = [(tag_object[tag], value) for tag, value in similar_doc]\n",
    "\n",
    "  return similar_vectors"
   ]
  },
  {
   "cell_type": "code",
   "execution_count": null,
   "metadata": {},
   "outputs": [],
   "source": [
    "find_most_similar_vectors(tagged_abstracts, abstract_tag_obj, 1, 'abstracts.model')\n",
    "find_most_similar_vectors(tagged_titles, title_tag_obj, 1, 'title.model')"
   ]
  }
 ],
 "metadata": {
  "kernelspec": {
   "display_name": "Python 3",
   "language": "python",
   "name": "python3"
  },
  "language_info": {
   "codemirror_mode": {
    "name": "ipython",
    "version": 3
   },
   "file_extension": ".py",
   "mimetype": "text/x-python",
   "name": "python",
   "nbconvert_exporter": "python",
   "pygments_lexer": "ipython3",
   "version": "3.7.1"
  }
 },
 "nbformat": 4,
 "nbformat_minor": 2
}
