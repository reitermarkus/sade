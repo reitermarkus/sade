{
 "cells": [
  {
   "cell_type": "code",
   "execution_count": 93,
   "metadata": {},
   "outputs": [],
   "source": [
    "from github import Github, GithubException, BadCredentialsException\n",
    "import json\n",
    "import time"
   ]
  },
  {
   "cell_type": "code",
   "execution_count": 94,
   "metadata": {},
   "outputs": [],
   "source": [
    "user = Github('username', 'password')\n",
    "json_repos = json.loads(json.dumps({'Repositories': ()}), encoding='utf-8')\n",
    "FILE_NAME = './data/repos.json'"
   ]
  },
  {
   "cell_type": "code",
   "execution_count": 76,
   "metadata": {},
   "outputs": [],
   "source": [
    "def new_search_start():\n",
    "    return user.get_rate_limit().search.reset\n",
    "\n",
    "def check_remaining_rate(search_start, limit=10):\n",
    "    rem = user.get_rate_limit().search.remaining\n",
    "    if (rem < limit):\n",
    "        to_wait = 60 - (new_search_start() - search_start).total_seconds()\n",
    "        print('\\tRemaining rate {0}<10 => Sleep {1} seconds'.format(rem, to_wait))\n",
    "        time.sleep(to_wait)\n",
    "        return new_search_start()"
   ]
  },
  {
   "cell_type": "code",
   "execution_count": 87,
   "metadata": {},
   "outputs": [],
   "source": [
    "def write_into_file(repos):\n",
    "    search_start = new_search_start()\n",
    "    for repo in repos:\n",
    "        search_start = check_remaining_rate(search_start) or search_start\n",
    "        json_repos['Repositories'].append({\n",
    "            'name' : repo.name,\n",
    "            'language' : repo.language,\n",
    "            'created_at' : str(repo.created_at),\n",
    "            'forks' : repo.forks,\n",
    "            'size' : repo.size,\n",
    "            'watchers' : repo.watchers,\n",
    "            'url' : repo.url,\n",
    "        })"
   ]
  },
  {
   "cell_type": "code",
   "execution_count": 92,
   "metadata": {},
   "outputs": [],
   "source": [
    "def search(query, sort, order):\n",
    "    repos = user.search_repositories(query,sort,order,created='>=2018-01-01')\n",
    "    write_into_file(repos)"
   ]
  },
  {
   "cell_type": "code",
   "execution_count": null,
   "metadata": {},
   "outputs": [],
   "source": [
    "if __name__ == '__main__':\n",
    "    try:\n",
    "        start = time.time()\n",
    "        search('gameoflife', 'stars', 'desc')\n",
    "        print('\\nSearch finished: {} seconds'.format(round(time.time() - start, 4)))\n",
    "    except BadCredentialsException as e:\n",
    "        print(e)\n",
    "    except GithubException as e:\n",
    "        print(e.message)\n",
    "    finally:\n",
    "        with open(FILE_NAME, 'w+', encoding='utf-8') as f:\n",
    "            json.dump(json_repos, f, sort_keys=True, indent=2, separators=(',', ': '))\n",
    "            print('\\nResults written into %s !' % FILE_NAME)"
   ]
  }
 ],
 "metadata": {
  "kernelspec": {
   "display_name": "Python 3",
   "language": "python",
   "name": "python3"
  },
  "language_info": {
   "codemirror_mode": {
    "name": "ipython",
    "version": 3
   },
   "file_extension": ".py",
   "mimetype": "text/x-python",
   "name": "python",
   "nbconvert_exporter": "python",
   "pygments_lexer": "ipython3",
   "version": "3.7.0"
  }
 },
 "nbformat": 4,
 "nbformat_minor": 2
}
