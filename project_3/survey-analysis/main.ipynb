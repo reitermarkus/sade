{
 "cells": [
  {
   "cell_type": "code",
   "execution_count": null,
   "metadata": {},
   "outputs": [],
   "source": [
    "%%capture\n",
    "! pip install nltk --user\n",
    "! pip install gensim --user\n",
    "! pip install pyLDAvis --user\n",
    "! pip install picky --user"
   ]
  },
  {
   "cell_type": "code",
   "execution_count": null,
   "metadata": {},
   "outputs": [],
   "source": [
    "import warnings\n",
    "warnings.filterwarnings('ignore')\n",
    "\n",
    "import pandas as pd\n",
    "import numpy as np\n",
    "import gensim\n",
    "import json\n",
    "import nltk\n",
    "import pickle\n",
    "import pyLDAvis\n",
    "import pyLDAvis.gensim\n",
    "import string\n",
    "\n",
    "from nltk.stem.wordnet import WordNetLemmatizer\n",
    "from nltk.corpus import stopwords\n",
    "\n",
    "from gensim import corpora\n",
    "from gensim.models.ldamodel import LdaModel\n",
    "from gensim.models.wrappers import LdaMallet\n",
    "from gensim.models import CoherenceModel\n",
    "\n",
    "from pprint import pprint"
   ]
  },
  {
   "cell_type": "code",
   "execution_count": null,
   "metadata": {
    "scrolled": true
   },
   "outputs": [],
   "source": [
    "nltk.download('wordnet')\n",
    "pyLDAvis.enable_notebook()"
   ]
  },
  {
   "cell_type": "code",
   "execution_count": null,
   "metadata": {},
   "outputs": [],
   "source": [
    "def create_dir(path, name):\n",
    "  import os\n",
    "\n",
    "  if not os.path.exists(f'{path}/{name}'):\n",
    "    try:\n",
    "      os.makedirs(f'{path}/{name}')\n",
    "      return f'{path}/{name}'\n",
    "    except OSError as e:\n",
    "      print(e)\n",
    "      exit()\n",
    "\n",
    "  return f'{path}/{name}'"
   ]
  },
  {
   "cell_type": "code",
   "execution_count": null,
   "metadata": {},
   "outputs": [],
   "source": [
    "create_dir('./data', 'open-ended')\n",
    "survey_df = pd.read_csv('./data/MSD Survey.csv')"
   ]
  },
  {
   "cell_type": "code",
   "execution_count": null,
   "metadata": {},
   "outputs": [],
   "source": [
    "close_ended_questions = {\n",
    "  0: \"Since how many semesters have you been studying?\",\n",
    "  1: \"How many hours per week do you spend on a homework?\",\n",
    "  2: \"Are you satisfied with the topics taught in the lecture?\",\n",
    "  3: \"Do you intend to use the topics you learned outside of the course? [Descriptive Statistics]\",\n",
    "  4: \"Do you intend to use the topics you learned outside of the course? [Data Mining]\",\n",
    "  5: \"Do you intend to use the topics you learned outside of the course? [Explorative Analysis]\",\n",
    "  6: \"Do you intend to use the topics you learned outside of the course? [Prediction model]\",\n",
    "  7: \"Do you intend to use the topics you learned outside of the course? [Natural Language Processing]\",\n",
    "  8: \"Do you intend to use the topics you learned outside of the course? [Python]\",\n",
    "  9: \"Do you intend to use the topics you learned outside of the course? [Jupyter Notebook]\",\n",
    "  10: \"Do you intend to use the topics you learned outside of the course? [Experimentation]\",\n",
    "  11: \"Do you intend to use the topics you learned outside of the course? [Surveys]\",\n",
    "  12: \"Rate the difficulty of the lecture\",\n",
    "  13: \"Would you attend this course again?\",\n",
    "  14: \"Would you recommend this course to others?\"\n",
    "}\n",
    "\n",
    "open_ended_questions = {\n",
    "  0: \"What do you study?\",\n",
    "  1: \"What is your profession?\",\n",
    "  2: \"Why did you choose the lecture MSD? \",\n",
    "  3: \"What did you miss in the lecture? \",\n",
    "  4: \"Reflect on the repository mining project (topic selection, were your expectations fulfilled, learnings, etc.)\",\n",
    "  5: \"Why do you think that the weekly exercise sheets were a good preparation for the projects or not?\",\n",
    "  6: \"What kind of extra material did you use to solve the weekly homeworks and the project?\",\n",
    "  7: \"What did you like in the course?\",\n",
    "  8: \"What did you not like in the course?\",\n",
    "  9: \"How do you agree with the  following statement: The topics taught in the lecture can be applied in various application areas\",\n",
    "  10:\"What would you suggest for the improvement of the lecture?\"\n",
    "}"
   ]
  },
  {
   "cell_type": "code",
   "execution_count": null,
   "metadata": {},
   "outputs": [],
   "source": [
    "def create_question_df(survey_df, questions):\n",
    "  def set_column(df, column, values): df[column] = values\n",
    "\n",
    "  result_df = pd.DataFrame()\n",
    "  [set_column(result_df, q, survey_df[q]) for q in survey_df.columns if q in questions]\n",
    "\n",
    "  return result_df"
   ]
  },
  {
   "cell_type": "markdown",
   "metadata": {},
   "source": [
    "## Topic Modeling"
   ]
  },
  {
   "cell_type": "code",
   "execution_count": null,
   "metadata": {},
   "outputs": [],
   "source": [
    "stop = set(stopwords.words('english'))\n",
    "exclude = set(string.punctuation)\n",
    "lemma = WordNetLemmatizer()\n",
    "\n",
    "# Remove stopwords and punctuation, lemmatize words\n",
    "def clean(text):\n",
    "  stop_free = ' '.join([i for i in text.lower().split() if i not in stop])\n",
    "  punc_free = ''.join(ch for ch in stop_free if ch not in exclude)\n",
    "  normalized = ' '.join(lemma.lemmatize(word) for word in punc_free.split())\n",
    "\n",
    "  return normalized"
   ]
  },
  {
   "cell_type": "code",
   "execution_count": null,
   "metadata": {},
   "outputs": [],
   "source": [
    "def compute_lda_model(question_id, answers, num_topics=3, passes=50):\n",
    "  path = f'./data/open-ended'\n",
    "  path = create_dir(path, question_id)\n",
    "\n",
    "  dictionary = corpora.Dictionary(answers)\n",
    "  doc_term_matrix = [dictionary.doc2bow(answ) for answ in answers]\n",
    "  \n",
    "  pickle.dump(doc_term_matrix, open(f'{path}/corpus.pkl', 'wb'))\n",
    "  dictionary.save(f'{path}/dictionary.gensim')\n",
    "  \n",
    "  lda_model = LdaModel(doc_term_matrix, num_topics=num_topics, id2word=dictionary, passes=passes)\n",
    "  lda_model.save(f'{path}/model.gensim')"
   ]
  },
  {
   "cell_type": "code",
   "execution_count": null,
   "metadata": {},
   "outputs": [],
   "source": [
    "def display_lda_model(path, num_terms=10):\n",
    "  dictionary = gensim.corpora.Dictionary.load(f'{path}/dictionary.gensim')\n",
    "  corpus = pickle.load(open(f'{path}/corpus.pkl', 'rb'))\n",
    "  \n",
    "  lda = LdaModel.load(f'{path}/model.gensim')\n",
    "  lda_display = pyLDAvis.gensim.prepare(lda, corpus, dictionary, R=num_terms)\n",
    "  \n",
    "  return lda_display"
   ]
  },
  {
   "cell_type": "code",
   "execution_count": null,
   "metadata": {},
   "outputs": [],
   "source": [
    "open_ended_df = create_question_df(survey_df, open_ended_questions)"
   ]
  },
  {
   "cell_type": "code",
   "execution_count": null,
   "metadata": {},
   "outputs": [],
   "source": [
    "for i, quest in enumerate(open_ended_df.columns):\n",
    "  clean_text = []\n",
    "  [clean_text.append(clean(answ).split()) for answ in open_ended_df[quest] if answ is not np.nan]\n",
    "  compute_lda_model(i, clean_text)"
   ]
  },
  {
   "cell_type": "markdown",
   "metadata": {},
   "source": [
    "## What do you study?"
   ]
  },
  {
   "cell_type": "code",
   "execution_count": null,
   "metadata": {},
   "outputs": [],
   "source": [
    "pyLDAvis.display(display_lda_model('./data/open-ended/0'))"
   ]
  }
 ],
 "metadata": {
  "kernelspec": {
   "display_name": "Python 3",
   "language": "python",
   "name": "python3"
  },
  "language_info": {
   "codemirror_mode": {
    "name": "ipython",
    "version": 3
   },
   "file_extension": ".py",
   "mimetype": "text/x-python",
   "name": "python",
   "nbconvert_exporter": "python",
   "pygments_lexer": "ipython3",
   "version": "3.7.1"
  }
 },
 "nbformat": 4,
 "nbformat_minor": 2
}
