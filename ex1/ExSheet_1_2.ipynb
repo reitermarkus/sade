{
 "cells": [
  {
   "cell_type": "code",
   "execution_count": 1,
   "metadata": {
    "button": false,
    "new_sheet": false,
    "run_control": {
     "read_only": false
    }
   },
   "outputs": [],
   "source": [
    "import array\n",
    "import numpy as np\n",
    "import random\n",
    "import sys\n",
    "import time"
   ]
  },
  {
   "cell_type": "code",
   "execution_count": 2,
   "metadata": {
    "button": false,
    "new_sheet": false,
    "run_control": {
     "read_only": false
    },
    "scrolled": true
   },
   "outputs": [],
   "source": [
    "N = 1_000_000\n",
    "REPEATS = 10\n",
    "py_list = [1 for i in range(N)]\n",
    "np_array = np.array(py_list)"
   ]
  },
  {
   "cell_type": "code",
   "execution_count": 3,
   "metadata": {},
   "outputs": [],
   "source": [
    "def access_time_idx(collection):\n",
    "  start = time.time()\n",
    "  for i in range(0, N):\n",
    "    k = collection[i]\n",
    "  return time.time() - start"
   ]
  },
  {
   "cell_type": "code",
   "execution_count": 4,
   "metadata": {
    "button": false,
    "new_sheet": false,
    "run_control": {
     "read_only": false
    }
   },
   "outputs": [],
   "source": [
    "def access_time_seq(collection):\n",
    "  start = time.time()\n",
    "  for e in collection:\n",
    "    k = e\n",
    "  return time.time() - start"
   ]
  },
  {
   "cell_type": "code",
   "execution_count": 5,
   "metadata": {
    "button": false,
    "new_sheet": false,
    "run_control": {
     "read_only": false
    }
   },
   "outputs": [
    {
     "name": "stdout",
     "output_type": "stream",
     "text": [
      "list type: <class 'int'> (28 bytes)\n",
      "array type: <class 'numpy.int64'> (32 bytes)\n",
      "\n",
      "list access time (index):  0.0468 ms\n",
      "array access time (index): 0.1027 ms\n",
      "\n",
      "list access time (sequential):  0.0147 ms\n",
      "array access time (sequential): 0.0462 ms\n"
     ]
    }
   ],
   "source": [
    "print('list type: {} ({} bytes)'.format(type(py_list[0]), sys.getsizeof(py_list[0])))\n",
    "print('array type: {} ({} bytes)'.format(type(np_array[0]), sys.getsizeof(np_array[0])))\n",
    "print()\n",
    "print('list access time (index):  {} ms'.format(round(np.mean([access_time_idx(py_list) for i in range(REPEATS)]), 4)))\n",
    "print('array access time (index): {} ms'.format(round(np.mean([access_time_idx(np_array) for i in range(REPEATS)]), 4)))\n",
    "print()\n",
    "print('list access time (sequential):  {} ms'.format(round(np.mean([access_time_seq(py_list) for i in range(REPEATS)]), 4)))\n",
    "print('array access time (sequential): {} ms'.format(round(np.mean([access_time_seq(np_array) for i in range(REPEATS)]), 4)))"
   ]
  },
  {
   "cell_type": "markdown",
   "metadata": {
    "button": false,
    "new_sheet": false,
    "run_control": {
     "read_only": false
    }
   },
   "source": [
    "### 4) Explain the disparity in the performance.\n",
    "\n",
    "As we can see the consecutive data access in a pyhton list is faster than in a numpy array.\n",
    "The reason is, because a numpy array returns a `numpy.int64` object if an element is accessed. \n",
    "This takes a bit more time, than an element access in a python list, which returns a pointer \n",
    "to the list element."
   ]
  },
  {
   "cell_type": "markdown",
   "metadata": {
    "button": false,
    "new_sheet": false,
    "run_control": {
     "read_only": false
    }
   },
   "source": [
    "### 5) State reasonable use cases for each of the data types (list, numpy arrays)\n",
    "\n",
    "- If dealing with big data, then NumPy arrays are more memory efficient.  \n",
    "  For example one integer element in a NumPy array has a size of 8 Bytes (`int64`), while in python list it has 28 Bytes.\n",
    "\n",
    "- Using NumPy it is very easy to create arrays or matrices with different dimensions.  \n",
    "  If you want heterogeneity, elements with different types in an array, then you should use python lists.\n",
    "Otherwise use NumPy arrays."
   ]
  }
 ],
 "metadata": {
  "kernelspec": {
   "display_name": "Python 3",
   "language": "python",
   "name": "python3"
  },
  "language_info": {
   "codemirror_mode": {
    "name": "ipython",
    "version": 3
   },
   "file_extension": ".py",
   "mimetype": "text/x-python",
   "name": "python",
   "nbconvert_exporter": "python",
   "pygments_lexer": "ipython3",
   "version": "3.7.0"
  }
 },
 "nbformat": 4,
 "nbformat_minor": 2
}
